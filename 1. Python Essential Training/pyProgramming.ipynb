{
 "cells": [
  {
   "cell_type": "markdown",
   "id": "0877255e-66a5-422b-b732-a3b0b1704510",
   "metadata": {},
   "source": [
    "# Programming with Python by OpenEDG Python Institute"
   ]
  },
  {
   "cell_type": "code",
   "execution_count": 1,
   "id": "16bd14d9-fcba-4a2a-9fa0-517b8b64b347",
   "metadata": {},
   "outputs": [
    {
     "name": "stdin",
     "output_type": "stream",
     "text": [
      " 5\n"
     ]
    },
    {
     "name": "stdout",
     "output_type": "stream",
     "text": [
      "120\n"
     ]
    }
   ],
   "source": [
    "def factorial (num):\n",
    "    for i in range(1,num):\n",
    "        num*=i\n",
    "    print(num)\n",
    "num=int(input())\n",
    "factorial(num)"
   ]
  },
  {
   "cell_type": "markdown",
   "id": "14b1cb50-3789-4b0d-a4b0-92e30d711cb7",
   "metadata": {},
   "source": [
    "### Data Structures"
   ]
  },
  {
   "cell_type": "markdown",
   "id": "94b1c927-db82-45ad-8d23-1b5af33bf7d9",
   "metadata": {},
   "source": [
    "#### Lists"
   ]
  },
  {
   "cell_type": "code",
   "execution_count": 3,
   "id": "c006d7a8-08da-43d1-bb76-7215d26c3ccc",
   "metadata": {},
   "outputs": [
    {
     "name": "stdout",
     "output_type": "stream",
     "text": [
      "[1, 2, 3, 4, 6, 8, 10]\n"
     ]
    }
   ],
   "source": [
    "lst = [1,2,3,4,6,8,10]\n",
    "print(lst)"
   ]
  },
  {
   "cell_type": "code",
   "execution_count": 7,
   "id": "20c9908f-6e6d-4948-b440-062278ac7b23",
   "metadata": {},
   "outputs": [
    {
     "data": {
      "text/plain": [
       "7"
      ]
     },
     "execution_count": 7,
     "metadata": {},
     "output_type": "execute_result"
    }
   ],
   "source": [
    "lst = [1,2,3,4,6,8,10]\n",
    "len(lst)"
   ]
  },
  {
   "cell_type": "markdown",
   "id": "e846821e-acac-4e12-be76-70e61d2c4335",
   "metadata": {},
   "source": [
    "#### Sets"
   ]
  },
  {
   "cell_type": "code",
   "execution_count": 8,
   "id": "212edc63-d128-49bd-aa14-c8c60850592d",
   "metadata": {},
   "outputs": [
    {
     "name": "stdout",
     "output_type": "stream",
     "text": [
      "{1, 2, 3, 4}\n",
      "4\n"
     ]
    }
   ],
   "source": [
    "sett = {1,2,3,4}\n",
    "print(sett)\n",
    "print(len(sett))"
   ]
  },
  {
   "cell_type": "code",
   "execution_count": 10,
   "id": "202f461a-0b89-47b7-b7e2-675268a7ed29",
   "metadata": {},
   "outputs": [
    {
     "name": "stdout",
     "output_type": "stream",
     "text": [
      "{1, 2}\n",
      "2\n"
     ]
    }
   ],
   "source": [
    "#Elements in sets must be unique\n",
    "sett={1,1,1,2,2,2,2}\n",
    "print(sett)\n",
    "print(len(sett))"
   ]
  },
  {
   "cell_type": "code",
   "execution_count": 11,
   "id": "3806264e-babe-4da4-b652-cef7ed6d8c0a",
   "metadata": {},
   "outputs": [
    {
     "data": {
      "text/plain": [
       "True"
      ]
     },
     "execution_count": 11,
     "metadata": {},
     "output_type": "execute_result"
    }
   ],
   "source": [
    "{1,2} == {2,1}"
   ]
  },
  {
   "cell_type": "code",
   "execution_count": 12,
   "id": "1d4b113b-2773-4942-9800-bfad5d4f373d",
   "metadata": {},
   "outputs": [
    {
     "data": {
      "text/plain": [
       "True"
      ]
     },
     "execution_count": 12,
     "metadata": {},
     "output_type": "execute_result"
    }
   ],
   "source": [
    "{1,1,1,2,2,2} == {1,2}"
   ]
  },
  {
   "cell_type": "markdown",
   "id": "1c22f2a5-93f5-468e-a8a0-1ae112fc3bee",
   "metadata": {},
   "source": [
    "#### Tuples"
   ]
  },
  {
   "cell_type": "code",
   "execution_count": 15,
   "id": "cc12b505-7c94-4cef-a0e7-67bb73497b44",
   "metadata": {},
   "outputs": [
    {
     "name": "stdout",
     "output_type": "stream",
     "text": [
      "(1, 2, 3)\n"
     ]
    },
    {
     "data": {
      "text/plain": [
       "3"
      ]
     },
     "execution_count": 15,
     "metadata": {},
     "output_type": "execute_result"
    }
   ],
   "source": [
    "tup = (1,2,3)\n",
    "print(tup)\n",
    "len(tup)\n",
    "#We cannot modify tuples"
   ]
  },
  {
   "cell_type": "code",
   "execution_count": 14,
   "id": "cb28e44b-3b0c-4c4a-817c-2afde682db33",
   "metadata": {},
   "outputs": [
    {
     "data": {
      "text/plain": [
       "False"
      ]
     },
     "execution_count": 14,
     "metadata": {},
     "output_type": "execute_result"
    }
   ],
   "source": [
    "(1,2) == (2,1)"
   ]
  },
  {
   "cell_type": "markdown",
   "id": "ec2299a3-4ff7-4ddb-a0b9-15f457324ae9",
   "metadata": {},
   "source": [
    "#### Dictionaries"
   ]
  },
  {
   "cell_type": "code",
   "execution_count": 16,
   "id": "5c1d6072-2608-4054-8cbb-d2bc391c634e",
   "metadata": {},
   "outputs": [
    {
     "data": {
      "text/plain": [
       "'red fruit'"
      ]
     },
     "execution_count": 16,
     "metadata": {},
     "output_type": "execute_result"
    }
   ],
   "source": [
    "dict = {'apple':'red fruit'}\n",
    "dict['apple']"
   ]
  },
  {
   "cell_type": "markdown",
   "id": "06337aef-e24b-43d7-ba92-b96d1cb17bdf",
   "metadata": {},
   "source": [
    "### Classes"
   ]
  },
  {
   "cell_type": "code",
   "execution_count": 20,
   "id": "00c23b16-aaee-422b-8bac-b51e99bd3a52",
   "metadata": {},
   "outputs": [],
   "source": [
    "class Dog:\n",
    "    def __init__(self):\n",
    "        self.name = \"Bruno\"\n",
    "        self.legs = 4\n",
    "    def speak(self):\n",
    "        print(\"Bark!\")\n",
    "        "
   ]
  },
  {
   "cell_type": "code",
   "execution_count": 23,
   "id": "8143b1c4-2012-41cb-ab5b-5bd7bb863b13",
   "metadata": {},
   "outputs": [
    {
     "name": "stdout",
     "output_type": "stream",
     "text": [
      "Bark!\n",
      "Bark!\n"
     ]
    }
   ],
   "source": [
    "myDog = Dog()\n",
    "myDog.speak()\n",
    "anotherDog = Dog()\n",
    "anotherDog.speak()"
   ]
  },
  {
   "cell_type": "code",
   "execution_count": 27,
   "id": "f25e778d-8ef8-4897-bced-dd93dc997db7",
   "metadata": {},
   "outputs": [],
   "source": [
    "class Dog:\n",
    "    def __init__(self,name):\n",
    "        self.name = name\n",
    "        self.legs = 4\n",
    "    def speak(self):\n",
    "        print(self.name,\"Barks!\")\n",
    "        "
   ]
  },
  {
   "cell_type": "code",
   "execution_count": 28,
   "id": "7aa350ee-a458-4025-9525-cec52462f6cb",
   "metadata": {},
   "outputs": [
    {
     "name": "stdout",
     "output_type": "stream",
     "text": [
      "Pete Barks!\n",
      "Pluto Barks!\n"
     ]
    }
   ],
   "source": [
    "myDog = Dog(\"Pete\")\n",
    "anotherDog = Dog(\"Pluto\")\n",
    "myDog.speak()\n",
    "anotherDog.speak()"
   ]
  },
  {
   "cell_type": "code",
   "execution_count": 29,
   "id": "e324e645-fa13-4709-9450-04af85275166",
   "metadata": {},
   "outputs": [
    {
     "data": {
      "text/plain": [
       "__main__.Dog"
      ]
     },
     "execution_count": 29,
     "metadata": {},
     "output_type": "execute_result"
    }
   ],
   "source": [
    "type(Dog(\"Pete\"))"
   ]
  },
  {
   "cell_type": "markdown",
   "id": "4313cab8-ad7f-46fb-910c-a91847303a83",
   "metadata": {},
   "source": [
    "### Some Special Datatypes"
   ]
  },
  {
   "cell_type": "markdown",
   "id": "d5db9ea7-111b-4174-9841-3b68638778d3",
   "metadata": {},
   "source": [
    "#### Integers"
   ]
  },
  {
   "cell_type": "code",
   "execution_count": 1,
   "id": "b1599fcc-db03-429d-b3ba-dbdbc6b95db9",
   "metadata": {},
   "outputs": [
    {
     "data": {
      "text/plain": [
       "100"
      ]
     },
     "execution_count": 1,
     "metadata": {},
     "output_type": "execute_result"
    }
   ],
   "source": [
    "int(\"100\")"
   ]
  },
  {
   "cell_type": "code",
   "execution_count": 2,
   "id": "f86757b5-1f58-4a9f-9713-8796c9e43d62",
   "metadata": {},
   "outputs": [
    {
     "data": {
      "text/plain": [
       "4"
      ]
     },
     "execution_count": 2,
     "metadata": {},
     "output_type": "execute_result"
    }
   ],
   "source": [
    "int(\"100\",2)"
   ]
  },
  {
   "cell_type": "code",
   "execution_count": 3,
   "id": "d4154a8c-9699-483d-ab17-cf360ab82bfc",
   "metadata": {},
   "outputs": [
    {
     "ename": "TypeError",
     "evalue": "int() can't convert non-string with explicit base",
     "output_type": "error",
     "traceback": [
      "\u001b[0;31m---------------------------------------------------------------------------\u001b[0m",
      "\u001b[0;31mTypeError\u001b[0m                                 Traceback (most recent call last)",
      "Cell \u001b[0;32mIn[3], line 1\u001b[0m\n\u001b[0;32m----> 1\u001b[0m \u001b[38;5;28;43mint\u001b[39;49m\u001b[43m(\u001b[49m\u001b[38;5;241;43m100\u001b[39;49m\u001b[43m,\u001b[49m\u001b[38;5;241;43m2\u001b[39;49m\u001b[43m)\u001b[49m\n",
      "\u001b[0;31mTypeError\u001b[0m: int() can't convert non-string with explicit base"
     ]
    }
   ],
   "source": [
    "int(100,2)"
   ]
  },
  {
   "cell_type": "code",
   "execution_count": 4,
   "id": "03987230-046f-4a10-a16b-870583c4da39",
   "metadata": {},
   "outputs": [
    {
     "data": {
      "text/plain": [
       "256"
      ]
     },
     "execution_count": 4,
     "metadata": {},
     "output_type": "execute_result"
    }
   ],
   "source": [
    "int(\"100\",16)"
   ]
  },
  {
   "cell_type": "code",
   "execution_count": 5,
   "id": "cf21dff2-6d7c-42d9-b125-e3e435780896",
   "metadata": {},
   "outputs": [
    {
     "data": {
      "text/plain": [
       "427"
      ]
     },
     "execution_count": 5,
     "metadata": {},
     "output_type": "execute_result"
    }
   ],
   "source": [
    "int(\"1ab\",16)"
   ]
  },
  {
   "cell_type": "code",
   "execution_count": 7,
   "id": "69bf0650-281c-459e-9fa3-bc59ea503794",
   "metadata": {},
   "outputs": [
    {
     "data": {
      "text/plain": [
       "0.19999999999999996"
      ]
     },
     "execution_count": 7,
     "metadata": {},
     "output_type": "execute_result"
    }
   ],
   "source": [
    "#FLoating point error\n",
    "1.2-1.0"
   ]
  },
  {
   "cell_type": "markdown",
   "id": "6d2ee5d0-9e51-4e1f-ae6b-05a7fa78be5d",
   "metadata": {},
   "source": [
    "#### Decimals"
   ]
  },
  {
   "cell_type": "code",
   "execution_count": 8,
   "id": "0fda49f9-9e2a-44c2-a427-4d5b8c5d83ba",
   "metadata": {},
   "outputs": [],
   "source": [
    "from decimal import Decimal, getcontext"
   ]
  },
  {
   "cell_type": "code",
   "execution_count": 9,
   "id": "5e98fb38-7f8b-4364-b509-4979fe3b0e90",
   "metadata": {},
   "outputs": [
    {
     "data": {
      "text/plain": [
       "Context(prec=28, rounding=ROUND_HALF_EVEN, Emin=-999999, Emax=999999, capitals=1, clamp=0, flags=[], traps=[InvalidOperation, DivisionByZero, Overflow])"
      ]
     },
     "execution_count": 9,
     "metadata": {},
     "output_type": "execute_result"
    }
   ],
   "source": [
    "getcontext()"
   ]
  },
  {
   "cell_type": "code",
   "execution_count": 12,
   "id": "cd546f36-a577-4913-a084-cff84e31a623",
   "metadata": {},
   "outputs": [],
   "source": [
    "getcontext().prec=4 #changing precision of the function"
   ]
  },
  {
   "cell_type": "code",
   "execution_count": 11,
   "id": "db1de9b0-6bc1-4243-98bb-4335db0bca28",
   "metadata": {},
   "outputs": [
    {
     "data": {
      "text/plain": [
       "Context(prec=4, rounding=ROUND_HALF_EVEN, Emin=-999999, Emax=999999, capitals=1, clamp=0, flags=[], traps=[InvalidOperation, DivisionByZero, Overflow])"
      ]
     },
     "execution_count": 11,
     "metadata": {},
     "output_type": "execute_result"
    }
   ],
   "source": [
    "getcontext()"
   ]
  },
  {
   "cell_type": "code",
   "execution_count": 14,
   "id": "8160a744-ef63-4926-81e1-03bbe61d411c",
   "metadata": {},
   "outputs": [
    {
     "data": {
      "text/plain": [
       "Decimal('0.3333')"
      ]
     },
     "execution_count": 14,
     "metadata": {},
     "output_type": "execute_result"
    }
   ],
   "source": [
    "Decimal(1)/Decimal(3)"
   ]
  },
  {
   "cell_type": "code",
   "execution_count": 15,
   "id": "877aa155-bc2a-4c9a-9ff5-9d3336fde2df",
   "metadata": {},
   "outputs": [],
   "source": [
    "getcontext().prec=2"
   ]
  },
  {
   "cell_type": "code",
   "execution_count": 16,
   "id": "6ce04373-f638-490c-80ce-3d46f3fb6004",
   "metadata": {},
   "outputs": [
    {
     "data": {
      "text/plain": [
       "Decimal('0.33')"
      ]
     },
     "execution_count": 16,
     "metadata": {},
     "output_type": "execute_result"
    }
   ],
   "source": [
    "Decimal(1)/Decimal(3)"
   ]
  },
  {
   "cell_type": "code",
   "execution_count": 17,
   "id": "2e2e809f-97a8-4836-9864-e0cc4ea82887",
   "metadata": {},
   "outputs": [
    {
     "data": {
      "text/plain": [
       "Decimal('3.140000000000000124344978758017532527446746826171875')"
      ]
     },
     "execution_count": 17,
     "metadata": {},
     "output_type": "execute_result"
    }
   ],
   "source": [
    "Decimal(3.14)"
   ]
  },
  {
   "cell_type": "markdown",
   "id": "423d531f-cd26-4225-93af-b88308db150c",
   "metadata": {},
   "source": [
    "###### On Passing a float to the Decimal, the decimal module fails!. Since we are trying to replicate it, This tells that what exactly is the value that, that particular floating point number holds!"
   ]
  },
  {
   "cell_type": "code",
   "execution_count": 18,
   "id": "caff4175-6307-477f-9a6a-69235bb649aa",
   "metadata": {},
   "outputs": [
    {
     "data": {
      "text/plain": [
       "Decimal('3.14')"
      ]
     },
     "execution_count": 18,
     "metadata": {},
     "output_type": "execute_result"
    }
   ],
   "source": [
    "#To give only 3.14 as float value give it as a string\n",
    "Decimal(\"3.14\")"
   ]
  },
  {
   "cell_type": "markdown",
   "id": "dbec824a-a173-4f6d-a162-01039384a4bc",
   "metadata": {},
   "source": [
    "#### Booleans"
   ]
  },
  {
   "cell_type": "code",
   "execution_count": 19,
   "id": "080192cd-dce7-4082-8165-1187ba73f862",
   "metadata": {},
   "outputs": [
    {
     "data": {
      "text/plain": [
       "True"
      ]
     },
     "execution_count": 19,
     "metadata": {},
     "output_type": "execute_result"
    }
   ],
   "source": [
    "bool(1)"
   ]
  },
  {
   "cell_type": "code",
   "execution_count": 20,
   "id": "682b58bb-f8b7-440e-bf3b-54f6b387445a",
   "metadata": {},
   "outputs": [
    {
     "data": {
      "text/plain": [
       "False"
      ]
     },
     "execution_count": 20,
     "metadata": {},
     "output_type": "execute_result"
    }
   ],
   "source": [
    "bool(0)"
   ]
  },
  {
   "cell_type": "code",
   "execution_count": 21,
   "id": "3fea8642-0b84-4fda-b66f-8457b0eff9e4",
   "metadata": {},
   "outputs": [
    {
     "data": {
      "text/plain": [
       "True"
      ]
     },
     "execution_count": 21,
     "metadata": {},
     "output_type": "execute_result"
    }
   ],
   "source": [
    "bool(-1)"
   ]
  },
  {
   "cell_type": "code",
   "execution_count": 22,
   "id": "99ee17f9-518e-4765-87cd-52436358772f",
   "metadata": {},
   "outputs": [
    {
     "data": {
      "text/plain": [
       "True"
      ]
     },
     "execution_count": 22,
     "metadata": {},
     "output_type": "execute_result"
    }
   ],
   "source": [
    "bool(1j)"
   ]
  },
  {
   "cell_type": "code",
   "execution_count": 23,
   "id": "3b52507d-0544-4dc4-a91b-417667bc30e3",
   "metadata": {},
   "outputs": [
    {
     "data": {
      "text/plain": [
       "False"
      ]
     },
     "execution_count": 23,
     "metadata": {},
     "output_type": "execute_result"
    }
   ],
   "source": [
    "bool(0.0)"
   ]
  },
  {
   "cell_type": "code",
   "execution_count": 24,
   "id": "f1903ee6-a7b8-4e76-9948-57fe4a0e8846",
   "metadata": {},
   "outputs": [
    {
     "data": {
      "text/plain": [
       "False"
      ]
     },
     "execution_count": 24,
     "metadata": {},
     "output_type": "execute_result"
    }
   ],
   "source": [
    "bool(0j)"
   ]
  },
  {
   "cell_type": "code",
   "execution_count": 25,
   "id": "a1eca751-f134-4c61-ac10-60bbc82d05a2",
   "metadata": {},
   "outputs": [
    {
     "data": {
      "text/plain": [
       "True"
      ]
     },
     "execution_count": 25,
     "metadata": {},
     "output_type": "execute_result"
    }
   ],
   "source": [
    "bool(\"True\")"
   ]
  },
  {
   "cell_type": "code",
   "execution_count": 26,
   "id": "223bf295-38f0-43b8-a1da-31431c9a4913",
   "metadata": {},
   "outputs": [
    {
     "data": {
      "text/plain": [
       "True"
      ]
     },
     "execution_count": 26,
     "metadata": {},
     "output_type": "execute_result"
    }
   ],
   "source": [
    "bool(\"False\")"
   ]
  },
  {
   "cell_type": "code",
   "execution_count": 27,
   "id": "c303b28d-054e-4e39-8099-33fb04735ed6",
   "metadata": {},
   "outputs": [
    {
     "data": {
      "text/plain": [
       "True"
      ]
     },
     "execution_count": 27,
     "metadata": {},
     "output_type": "execute_result"
    }
   ],
   "source": [
    "bool(\"false\")"
   ]
  },
  {
   "cell_type": "code",
   "execution_count": 28,
   "id": "22e906ef-a3ac-4868-a0c6-bfd1aea8f6ef",
   "metadata": {},
   "outputs": [
    {
     "data": {
      "text/plain": [
       "True"
      ]
     },
     "execution_count": 28,
     "metadata": {},
     "output_type": "execute_result"
    }
   ],
   "source": [
    "bool(\" \")"
   ]
  },
  {
   "cell_type": "code",
   "execution_count": 29,
   "id": "f2d5f57d-22f5-4154-8aad-70508eeaee34",
   "metadata": {},
   "outputs": [
    {
     "data": {
      "text/plain": [
       "False"
      ]
     },
     "execution_count": 29,
     "metadata": {},
     "output_type": "execute_result"
    }
   ],
   "source": [
    "bool(\"\")"
   ]
  },
  {
   "cell_type": "code",
   "execution_count": 30,
   "id": "ccd3c813-99b2-42c8-b620-8caa097f1f7f",
   "metadata": {},
   "outputs": [
    {
     "data": {
      "text/plain": [
       "False"
      ]
     },
     "execution_count": 30,
     "metadata": {},
     "output_type": "execute_result"
    }
   ],
   "source": [
    "bool([])\n",
    "bool({})"
   ]
  },
  {
   "cell_type": "code",
   "execution_count": 31,
   "id": "915e34f5-03f8-4bf6-805b-a93f8ca998be",
   "metadata": {},
   "outputs": [
    {
     "data": {
      "text/plain": [
       "False"
      ]
     },
     "execution_count": 31,
     "metadata": {},
     "output_type": "execute_result"
    }
   ],
   "source": [
    "bool(None)"
   ]
  },
  {
   "cell_type": "markdown",
   "id": "a545e144-2ef8-4b2a-af4b-4a1a816b3462",
   "metadata": {},
   "source": [
    "#### Strings"
   ]
  },
  {
   "cell_type": "code",
   "execution_count": 32,
   "id": "c318fdd9-b978-4ed5-bbea-7d17c2c744fb",
   "metadata": {},
   "outputs": [],
   "source": [
    "name=\"My names is Krish Verma\""
   ]
  },
  {
   "cell_type": "code",
   "execution_count": 34,
   "id": "0fc3d881-546c-477c-9f90-6f57084d034c",
   "metadata": {},
   "outputs": [
    {
     "data": {
      "text/plain": [
       "'M'"
      ]
     },
     "execution_count": 34,
     "metadata": {},
     "output_type": "execute_result"
    }
   ],
   "source": [
    "name[0]"
   ]
  },
  {
   "cell_type": "code",
   "execution_count": 35,
   "id": "53a2ce5a-547e-42a1-83a9-1c5d17049f11",
   "metadata": {},
   "outputs": [
    {
     "data": {
      "text/plain": [
       "'n'"
      ]
     },
     "execution_count": 35,
     "metadata": {},
     "output_type": "execute_result"
    }
   ],
   "source": [
    "name[3]"
   ]
  },
  {
   "cell_type": "code",
   "execution_count": 37,
   "id": "5be7e2de-615c-4db9-bff4-5eaf247d78db",
   "metadata": {},
   "outputs": [
    {
     "data": {
      "text/plain": [
       "'My names'"
      ]
     },
     "execution_count": 37,
     "metadata": {},
     "output_type": "execute_result"
    }
   ],
   "source": [
    "name[0:8]"
   ]
  },
  {
   "cell_type": "code",
   "execution_count": 38,
   "id": "6a97ab2b-35b3-462e-ace9-87e275be5894",
   "metadata": {},
   "outputs": [
    {
     "data": {
      "text/plain": [
       "'My n'"
      ]
     },
     "execution_count": 38,
     "metadata": {},
     "output_type": "execute_result"
    }
   ],
   "source": [
    "name[:4]"
   ]
  },
  {
   "cell_type": "code",
   "execution_count": 39,
   "id": "315faac8-0a4f-46d9-b9b8-b1e63716ad18",
   "metadata": {},
   "outputs": [
    {
     "data": {
      "text/plain": [
       "'s is Krish Verma'"
      ]
     },
     "execution_count": 39,
     "metadata": {},
     "output_type": "execute_result"
    }
   ],
   "source": [
    "name[7:]"
   ]
  },
  {
   "cell_type": "markdown",
   "id": "0c4c6f86-f701-4fe1-8b99-9a5f1081bdbf",
   "metadata": {},
   "source": [
    "###### Same can be done with lists!"
   ]
  },
  {
   "cell_type": "code",
   "execution_count": 40,
   "id": "37206e11-ea74-45c0-bcce-d463190c4e09",
   "metadata": {},
   "outputs": [
    {
     "data": {
      "text/plain": [
       "'My number is 6'"
      ]
     },
     "execution_count": 40,
     "metadata": {},
     "output_type": "execute_result"
    }
   ],
   "source": [
    "f\"My number is {6}\""
   ]
  },
  {
   "cell_type": "code",
   "execution_count": 41,
   "id": "f76e1202-c6ff-46af-854a-3e0796be1e15",
   "metadata": {},
   "outputs": [
    {
     "data": {
      "text/plain": [
       "'My number is 6 and its twice is 12'"
      ]
     },
     "execution_count": 41,
     "metadata": {},
     "output_type": "execute_result"
    }
   ],
   "source": [
    "f\"My number is {6} and its twice is {6*2}\""
   ]
  },
  {
   "cell_type": "code",
   "execution_count": 42,
   "id": "350f7481-8b6f-43d8-b4af-8d61ac3f2d5a",
   "metadata": {},
   "outputs": [],
   "source": [
    "import math"
   ]
  },
  {
   "cell_type": "code",
   "execution_count": 44,
   "id": "819c1037-5505-45b2-8a69-e2a1ccd82f96",
   "metadata": {},
   "outputs": [
    {
     "data": {
      "text/plain": [
       "'My number is 3.14'"
      ]
     },
     "execution_count": 44,
     "metadata": {},
     "output_type": "execute_result"
    }
   ],
   "source": [
    "f\"My number is {math.pi:.2f}\""
   ]
  },
  {
   "cell_type": "code",
   "execution_count": 45,
   "id": "11979306-74a2-4275-8189-c7321f7e95d8",
   "metadata": {},
   "outputs": [
    {
     "data": {
      "text/plain": [
       "'My number is 3.141593'"
      ]
     },
     "execution_count": 45,
     "metadata": {},
     "output_type": "execute_result"
    }
   ],
   "source": [
    "f\"My number is {math.pi:.6f}\""
   ]
  },
  {
   "cell_type": "code",
   "execution_count": 48,
   "id": "2f3197de-432e-46b0-ab72-c16ad39ddc3b",
   "metadata": {},
   "outputs": [
    {
     "data": {
      "text/plain": [
       "'Pi is 3.141592653589793'"
      ]
     },
     "execution_count": 48,
     "metadata": {},
     "output_type": "execute_result"
    }
   ],
   "source": [
    "\"Pi is {}\".format(math.pi)"
   ]
  },
  {
   "cell_type": "code",
   "execution_count": 51,
   "id": "a80e0688-a1fd-4a87-bd32-89a063fef1e9",
   "metadata": {},
   "outputs": [
    {
     "name": "stdout",
     "output_type": "stream",
     "text": [
      " Hello\n",
      "Whats Up \n"
     ]
    }
   ],
   "source": [
    "# ''' represent multiline strings\n",
    "str=''' Hello\n",
    "Whats Up '''\n",
    "print(str)"
   ]
  },
  {
   "cell_type": "markdown",
   "id": "db30f972-30b2-4bb9-a052-6c740eb3e026",
   "metadata": {},
   "source": [
    "#### Bytes"
   ]
  },
  {
   "cell_type": "code",
   "execution_count": 52,
   "id": "c4b6f58f-ee56-499c-9cea-72388e571d23",
   "metadata": {},
   "outputs": [
    {
     "data": {
      "text/plain": [
       "b'\\x00\\x00\\x00\\x00'"
      ]
     },
     "execution_count": 52,
     "metadata": {},
     "output_type": "execute_result"
    }
   ],
   "source": [
    "bytes(4)"
   ]
  },
  {
   "cell_type": "code",
   "execution_count": 54,
   "id": "dc1b4661-364b-4102-9a42-f6e45811b4c1",
   "metadata": {},
   "outputs": [
    {
     "data": {
      "text/plain": [
       "b'\\xf0\\x9f\\xa4\\xa3'"
      ]
     },
     "execution_count": 54,
     "metadata": {},
     "output_type": "execute_result"
    }
   ],
   "source": [
    "smiley = bytes(\"🤣\",\"utf-8\")\n",
    "smiley"
   ]
  },
  {
   "cell_type": "code",
   "execution_count": 55,
   "id": "2cb9be2b-616d-45b6-ba49-551bc2f72a5e",
   "metadata": {},
   "outputs": [
    {
     "data": {
      "text/plain": [
       "'🤣'"
      ]
     },
     "execution_count": 55,
     "metadata": {},
     "output_type": "execute_result"
    }
   ],
   "source": [
    "smiley.decode(\"utf-8\")"
   ]
  },
  {
   "cell_type": "code",
   "execution_count": 56,
   "id": "eb1d3b97-0ec5-45b5-ae02-aebcf27b5495",
   "metadata": {},
   "outputs": [
    {
     "data": {
      "text/plain": [
       "8"
      ]
     },
     "execution_count": 56,
     "metadata": {},
     "output_type": "execute_result"
    }
   ],
   "source": [
    "int(8.7)"
   ]
  },
  {
   "cell_type": "code",
   "execution_count": 58,
   "id": "445faee7-51c4-4925-96d2-f6f117921cb7",
   "metadata": {},
   "outputs": [
    {
     "data": {
      "text/plain": [
       "[0, 5, 10, 15, 20, 25, 30, 35, 40, 45, 50, 55, 60, 65, 70, 75, 80, 85, 90, 95]"
      ]
     },
     "execution_count": 58,
     "metadata": {},
     "output_type": "execute_result"
    }
   ],
   "source": [
    "lst = list(range(100))\n",
    "lst[::5]"
   ]
  },
  {
   "cell_type": "code",
   "execution_count": 59,
   "id": "5adf2ab4-adec-43ab-98ae-61c73f1ab0ee",
   "metadata": {},
   "outputs": [
    {
     "data": {
      "text/plain": [
       "[99, 89, 79, 69, 59, 49, 39, 29, 19, 9]"
      ]
     },
     "execution_count": 59,
     "metadata": {},
     "output_type": "execute_result"
    }
   ],
   "source": [
    "lst[::-10]"
   ]
  },
  {
   "cell_type": "code",
   "execution_count": 61,
   "id": "8345f54a-fdbd-46a3-99d9-240096d58e32",
   "metadata": {},
   "outputs": [
    {
     "name": "stdout",
     "output_type": "stream",
     "text": [
      "[1, 2, 3, 4, 5, 6]\n",
      "[1, 2, 3, 4, 5, 6]\n"
     ]
    }
   ],
   "source": [
    "a=[1,2,3,4,5]\n",
    "b=a\n",
    "a.append(6)\n",
    "print(a)\n",
    "print(b)"
   ]
  },
  {
   "cell_type": "code",
   "execution_count": 62,
   "id": "7b34c592-e284-4147-bdf4-00abce7acc1c",
   "metadata": {},
   "outputs": [
    {
     "name": "stdout",
     "output_type": "stream",
     "text": [
      "[1, 2, 3, 4, 5, 6]\n",
      "[1, 2, 3, 4, 5]\n"
     ]
    }
   ],
   "source": [
    "a=[1,2,3,4,5]\n",
    "b=a.copy()\n",
    "a.append(6)\n",
    "print(a)\n",
    "print(b)"
   ]
  },
  {
   "cell_type": "markdown",
   "id": "f81f1831-d0b2-49b0-b6ac-5e1c67e7298a",
   "metadata": {},
   "source": [
    "#### List Comprehension"
   ]
  },
  {
   "cell_type": "code",
   "execution_count": 63,
   "id": "56f65132-b105-45c3-9950-378f4c147747",
   "metadata": {},
   "outputs": [
    {
     "data": {
      "text/plain": [
       "[3, 4, 5, 6, 7]"
      ]
     },
     "execution_count": 63,
     "metadata": {},
     "output_type": "execute_result"
    }
   ],
   "source": [
    "lst=[1,2,3,4,5]\n",
    "[2+i for i in lst]"
   ]
  },
  {
   "cell_type": "code",
   "execution_count": 66,
   "id": "dc72395b-f303-4bde-a502-bec7900f06ff",
   "metadata": {},
   "outputs": [
    {
     "data": {
      "text/plain": [
       "[2, 4]"
      ]
     },
     "execution_count": 66,
     "metadata": {},
     "output_type": "execute_result"
    }
   ],
   "source": [
    "newLst = [i for i in lst if i%2==0]\n",
    "newLst"
   ]
  },
  {
   "cell_type": "code",
   "execution_count": 71,
   "id": "037fb3e0-5919-4635-818c-0cf2dbf41720",
   "metadata": {},
   "outputs": [
    {
     "name": "stdout",
     "output_type": "stream",
     "text": [
      "['My name is Krish Verma', ' I lives in Greater Noida!']\n",
      "['My', 'name', 'is', 'Krish', 'Verma.', 'I', 'lives', 'in', 'Greater', 'Noida!']\n"
     ]
    }
   ],
   "source": [
    "myString = \"My name is Krish Verma. I lives in Greater Noida!\"\n",
    "lst1=myString.split('.')\n",
    "print(lst1)\n",
    "lst2=myString.split(' ')\n",
    "print(lst2)"
   ]
  },
  {
   "cell_type": "code",
   "execution_count": 83,
   "id": "c269e816-37c3-431d-b629-aeb71eaee911",
   "metadata": {},
   "outputs": [
    {
     "name": "stdout",
     "output_type": "stream",
     "text": [
      "['My', 'name', 'is', 'Krish', 'Verma.', 'I', 'lives', 'in', 'Greater', 'Noida ']\n"
     ]
    }
   ],
   "source": [
    "def cleanWord(word):\n",
    "    return word.replace('!',' ')\n",
    "\n",
    "print([cleanWord(word) for word in lst2])\n"
   ]
  },
  {
   "cell_type": "markdown",
   "id": "de940a04-5271-44b9-a0c0-7eaca322cabc",
   "metadata": {},
   "source": [
    "#### Dictionary Comprehensions"
   ]
  },
  {
   "cell_type": "code",
   "execution_count": 84,
   "id": "9bf9eca8-bb6f-45a9-9baf-ba69c681daeb",
   "metadata": {},
   "outputs": [
    {
     "name": "stdout",
     "output_type": "stream",
     "text": [
      "{'a': 'apple', 'b': 'ball', 'c': 'cat'}\n"
     ]
    }
   ],
   "source": [
    "objectLst = [('a','apple'),('b','ball'),('c','cat')]\n",
    "myDict = {key:value for key,value in objectLst}\n",
    "print(myDict)"
   ]
  },
  {
   "cell_type": "code",
   "execution_count": 85,
   "id": "368e72a0-f2c2-404b-b412-610fd1514991",
   "metadata": {},
   "outputs": [
    {
     "data": {
      "text/plain": [
       "dict_items([('a', 'apple'), ('b', 'ball'), ('c', 'cat')])"
      ]
     },
     "execution_count": 85,
     "metadata": {},
     "output_type": "execute_result"
    }
   ],
   "source": [
    "myDict.items()"
   ]
  },
  {
   "cell_type": "code",
   "execution_count": 86,
   "id": "dd4df953-669b-454e-ae33-2cb27e199383",
   "metadata": {},
   "outputs": [
    {
     "data": {
      "text/plain": [
       "[('a', 'apple'), ('b', 'ball'), ('c', 'cat')]"
      ]
     },
     "execution_count": 86,
     "metadata": {},
     "output_type": "execute_result"
    }
   ],
   "source": [
    "list(myDict.items())"
   ]
  },
  {
   "cell_type": "code",
   "execution_count": 89,
   "id": "d3cda7a7-7c2e-49e4-b239-f21050ce2d5b",
   "metadata": {},
   "outputs": [
    {
     "name": "stdout",
     "output_type": "stream",
     "text": [
      "[{'letter': 'a', 'object': 'apple'}, {'letter': 'b', 'object': 'ball'}, {'letter': 'c', 'object': 'cat'}]\n"
     ]
    }
   ],
   "source": [
    "print([{'letter':key,'object':value} for key,value in myDict.items()])"
   ]
  },
  {
   "cell_type": "markdown",
   "id": "92ab46b1-3282-4ce8-ae25-8ddcc8d1612b",
   "metadata": {},
   "source": [
    "#### Encoding & Decoding of of str"
   ]
  },
  {
   "cell_type": "code",
   "execution_count": 111,
   "id": "1c92b21c-4246-4f34-b211-91683df8e443",
   "metadata": {},
   "outputs": [
    {
     "name": "stdout",
     "output_type": "stream",
     "text": [
      "[('A', 5), ('B', 4), ('A', 3)]\n"
     ]
    }
   ],
   "source": [
    "def encodeString(givenStr):\n",
    "    encodeLst=[]\n",
    "    prevchar=givenStr[0]\n",
    "    count=0\n",
    "    for char in givenStr:\n",
    "        if prevchar != char:\n",
    "            encodeLst.append((prevchar,count))\n",
    "            count=0\n",
    "        prevchar=char\n",
    "        count+=1\n",
    "    encodeLst.append((prevchar,count))\n",
    "    return encodeLst\n",
    "\n",
    "givenStr=\"AAAAABBBBAAA\"\n",
    "print(encodeString(givenStr))"
   ]
  },
  {
   "cell_type": "markdown",
   "id": "b7f60892-dc57-4b86-a5bb-da1078d42778",
   "metadata": {},
   "source": [
    "#### Finding Primes"
   ]
  },
  {
   "cell_type": "code",
   "execution_count": 123,
   "id": "87095ff0-9395-4314-8180-eefe476dfbe7",
   "metadata": {},
   "outputs": [
    {
     "name": "stdout",
     "output_type": "stream",
     "text": [
      "[2, 3, 5, 7, 9, 11, 13, 15, 17, 19]\n"
     ]
    }
   ],
   "source": [
    "def findPrimes(n):\n",
    "    primeLst=[2]\n",
    "    for i in range(3,n):\n",
    "        for j in primeLst:\n",
    "            if (i%j==0):\n",
    "                break\n",
    "            else:\n",
    "                primeLst.append(i)\n",
    "                break\n",
    "    return primeLst\n",
    "print(findPrimes(20))"
   ]
  },
  {
   "cell_type": "markdown",
   "id": "90236ee6-66a4-4f66-af3d-9e3bfc7decf8",
   "metadata": {},
   "source": [
    "#### Passing unknown number of arguments in a function"
   ]
  },
  {
   "cell_type": "code",
   "execution_count": 1,
   "id": "ad1e995d-abea-456d-b9b1-c5a3e59cfe69",
   "metadata": {},
   "outputs": [
    {
     "name": "stdout",
     "output_type": "stream",
     "text": [
      "(1, 2, 3, 4)\n"
     ]
    }
   ],
   "source": [
    "def function(*args):\n",
    "    print(args)\n",
    "\n",
    "function(1,2,3,4)"
   ]
  },
  {
   "cell_type": "code",
   "execution_count": 4,
   "id": "311b45e6-a1ce-47f8-b933-6535ad1230e3",
   "metadata": {},
   "outputs": [
    {
     "name": "stdout",
     "output_type": "stream",
     "text": [
      "(1, 2, 3, 4)\n",
      "{'operation': 'sum', 'method': 'simple'}\n"
     ]
    }
   ],
   "source": [
    "def new_function(*args,**kwargs):\n",
    "    print(args)\n",
    "    print(kwargs)\n",
    "\n",
    "new_function(1,2,3,4,operation='sum',method='simple')"
   ]
  },
  {
   "cell_type": "code",
   "execution_count": 5,
   "id": "ad308f26-ff12-43a2-a5b6-1f8a8b7ad4a7",
   "metadata": {},
   "outputs": [],
   "source": [
    "import math"
   ]
  },
  {
   "cell_type": "code",
   "execution_count": 10,
   "id": "ad9ffeec-b4c4-48e3-99cc-7c928dc8b852",
   "metadata": {},
   "outputs": [
    {
     "name": "stdout",
     "output_type": "stream",
     "text": [
      "15\n",
      "120\n"
     ]
    }
   ],
   "source": [
    "def performOperation(*args,operation='sum'):\n",
    "    if(operation=='sum'):\n",
    "        return sum(args)\n",
    "    elif(operation=='product'):\n",
    "        return math.prod(args)\n",
    "print(performOperation(1,2,3,4,5,operation='sum'))\n",
    "print(performOperation(1,2,3,4,5,operation='product'))"
   ]
  },
  {
   "cell_type": "markdown",
   "id": "386a54e9-1e2f-4af3-b36f-107e3634f5a9",
   "metadata": {},
   "source": [
    "#### Working with functions"
   ]
  },
  {
   "cell_type": "code",
   "execution_count": 12,
   "id": "8d2a7e87-768b-44c4-ba83-e4d1918b73f8",
   "metadata": {},
   "outputs": [],
   "source": [
    "txt='''\n",
    "Beautiful is better than ugly.\n",
    "Explicit is better than implicit.\n",
    "Simple is better than complex.\n",
    "Complex is better than complicated.\n",
    "Flat is better than nested.\n",
    "Sparse is better than dense.\n",
    "Readability counts.\n",
    "Special cases aren't special enough to break the rules.\n",
    "Although practicality beats purity.\n",
    "Errors should never pass silently.\n",
    "Unless explicitly silenced.\n",
    "In the face of ambiguity, refuse the temptation to guess.\n",
    "There should be one-- and preferably only one --obvious way to do it.\n",
    "Although that way may not be obvious at first unless you're Dutch.\n",
    "Now is better than never.\n",
    "Although never is often better than *right* now.\n",
    "If the implementation is hard to explain, it's a bad idea.\n",
    "If the implementation is easy to explain, it may be a good idea.\n",
    "Namespaces are one honking great idea -- let's do more of those!\n",
    "'''"
   ]
  },
  {
   "cell_type": "code",
   "execution_count": 18,
   "id": "f13db840-41ab-4324-a928-afc49392e327",
   "metadata": {},
   "outputs": [],
   "source": [
    "def lowercase(txt):\n",
    "    return txt.lower()\n",
    "\n",
    "def removePunctuation(txt):\n",
    "    punc=['.',',','-','*']\n",
    "    for p in punc:\n",
    "        txt=txt.replace(p,' ')\n",
    "    return txt\n",
    "\n",
    "def removeNewLine(txt):\n",
    "    txt=txt.replace('\\n',' ')\n",
    "    return txt\n",
    "\n",
    "def removeShortWords(txt):\n",
    "    return ' '.join([word for word in txt.split() if len(word) > 3])\n",
    "\n",
    "def removeLongWords(txt):\n",
    "    return ' '.join([word for word in txt.split() if len(word) < 7])\n",
    "    "
   ]
  },
  {
   "cell_type": "code",
   "execution_count": 19,
   "id": "8027dd3d-12b9-40c2-80a3-3aab6bc39d06",
   "metadata": {},
   "outputs": [
    {
     "name": "stdout",
     "output_type": "stream",
     "text": [
      " beautiful is better than ugly  explicit is better than implicit  simple is better than complex  complex is better than complicated  flat is better than nested  sparse is better than dense  readability counts  special cases aren't special enough to break the rules  although practicality beats purity  errors should never pass silently  unless explicitly silenced  in the face of ambiguity  refuse the temptation to guess  there should be one   and preferably only one   obvious way to do it  although that way may not be obvious at first unless you're dutch  now is better than never  although never is often better than  right  now  if the implementation is hard to explain  it's a bad idea  if the implementation is easy to explain  it may be a good idea  namespaces are one honking great idea    let's do more of those! \n"
     ]
    }
   ],
   "source": [
    "usingFunctions = [lowercase,removePunctuation,removeNewLine]\n",
    "for func in usingFunctions:\n",
    "    txt=func(txt)\n",
    "\n",
    "print(txt)"
   ]
  },
  {
   "cell_type": "code",
   "execution_count": 20,
   "id": "aafe768b-e81f-4b3d-a327-9b0c1328a70d",
   "metadata": {},
   "outputs": [
    {
     "name": "stdout",
     "output_type": "stream",
     "text": [
      "is better than ugly is better than simple is better than is better than flat is better than nested sparse is better than dense counts cases aren't enough to break the rules beats purity errors should never pass unless in the face of refuse the to guess there should be one and only one way to do it that way may not be at first unless you're dutch now is better than never never is often better than right now if the is hard to it's a bad idea if the is easy to it may be a good idea are one great idea let's do more of those!\n"
     ]
    }
   ],
   "source": [
    "print(removeLongWords(txt))"
   ]
  },
  {
   "cell_type": "markdown",
   "id": "36a0a384-585d-491f-8452-45561ba13651",
   "metadata": {},
   "source": [
    "#### Lambda Functions"
   ]
  },
  {
   "cell_type": "code",
   "execution_count": 21,
   "id": "6c77e69e-236a-491b-9585-051e46362a0b",
   "metadata": {},
   "outputs": [
    {
     "data": {
      "text/plain": [
       "8"
      ]
     },
     "execution_count": 21,
     "metadata": {},
     "output_type": "execute_result"
    }
   ],
   "source": [
    "(lambda x: x+3)(5)"
   ]
  },
  {
   "cell_type": "code",
   "execution_count": 22,
   "id": "d780ca56-cb59-4795-b870-3aeb137fef5a",
   "metadata": {},
   "outputs": [
    {
     "data": {
      "text/plain": [
       "[0, 2, 3, 5, 7, 10, 34]"
      ]
     },
     "execution_count": 22,
     "metadata": {},
     "output_type": "execute_result"
    }
   ],
   "source": [
    "myNewList=[5,3,7,2,0,10,34]\n",
    "sorted(myNewList)"
   ]
  },
  {
   "cell_type": "code",
   "execution_count": 23,
   "id": "563b0b27-5d14-4d0a-a373-4a9ddd031c54",
   "metadata": {},
   "outputs": [
    {
     "ename": "TypeError",
     "evalue": "'<' not supported between instances of 'dict' and 'dict'",
     "output_type": "error",
     "traceback": [
      "\u001b[0;31m---------------------------------------------------------------------------\u001b[0m",
      "\u001b[0;31mTypeError\u001b[0m                                 Traceback (most recent call last)",
      "Cell \u001b[0;32mIn[23], line 2\u001b[0m\n\u001b[1;32m      1\u001b[0m myDictList\u001b[38;5;241m=\u001b[39m[{\u001b[38;5;124m'\u001b[39m\u001b[38;5;124mnum\u001b[39m\u001b[38;5;124m'\u001b[39m:\u001b[38;5;241m1\u001b[39m},{\u001b[38;5;124m'\u001b[39m\u001b[38;5;124mnum\u001b[39m\u001b[38;5;124m'\u001b[39m:\u001b[38;5;241m2\u001b[39m},{\u001b[38;5;124m'\u001b[39m\u001b[38;5;124mnum\u001b[39m\u001b[38;5;124m'\u001b[39m:\u001b[38;5;241m3\u001b[39m}]\n\u001b[0;32m----> 2\u001b[0m \u001b[38;5;28;43msorted\u001b[39;49m\u001b[43m(\u001b[49m\u001b[43mmyDictList\u001b[49m\u001b[43m)\u001b[49m\n",
      "\u001b[0;31mTypeError\u001b[0m: '<' not supported between instances of 'dict' and 'dict'"
     ]
    }
   ],
   "source": [
    "myDictList=[{'num':1},{'num':2},{'num':3}]\n",
    "sorted(myDictList)"
   ]
  },
  {
   "cell_type": "code",
   "execution_count": 24,
   "id": "e8f984ad-0f8e-45c2-a6f8-6328636b8c6c",
   "metadata": {},
   "outputs": [
    {
     "data": {
      "text/plain": [
       "[{'num': 1}, {'num': 2}, {'num': 3}]"
      ]
     },
     "execution_count": 24,
     "metadata": {},
     "output_type": "execute_result"
    }
   ],
   "source": [
    "myDictList=[{'num':1},{'num':2},{'num':3}]\n",
    "sorted(myDictList, key=lambda x:x['num'])"
   ]
  },
  {
   "cell_type": "markdown",
   "id": "263893ed-ab0a-423c-a730-f04b783a6e46",
   "metadata": {},
   "source": [
    "##### Triangle Numbers an Squares"
   ]
  },
  {
   "cell_type": "code",
   "execution_count": 10,
   "id": "d2f0da34-ec86-425d-9679-03d697f9e45e",
   "metadata": {},
   "outputs": [
    {
     "data": {
      "text/plain": [
       "121"
      ]
     },
     "execution_count": 10,
     "metadata": {},
     "output_type": "execute_result"
    }
   ],
   "source": [
    "def triangleNumber(n):\n",
    "    if n==1:\n",
    "        return n\n",
    "    return (n + triangleNumber(n-1))\n",
    "\n",
    "def squareNumber(n):\n",
    "    return triangleNumber(n) + triangleNumber(n-1)\n",
    "\n",
    "squareNumber(11)"
   ]
  },
  {
   "cell_type": "markdown",
   "id": "d8d6ea24-0bd4-41f5-bd7f-3b8887159b62",
   "metadata": {},
   "source": [
    "### Classes"
   ]
  },
  {
   "cell_type": "markdown",
   "id": "beb4e2b8-14c1-4e57-870d-4fc28eb09333",
   "metadata": {},
   "source": [
    "#### Instance Attributes"
   ]
  },
  {
   "cell_type": "code",
   "execution_count": 12,
   "id": "c461c245-2203-456d-b21a-70d278a9d524",
   "metadata": {},
   "outputs": [
    {
     "name": "stdout",
     "output_type": "stream",
     "text": [
      "Rover\n",
      "4\n"
     ]
    }
   ],
   "source": [
    "class Dog:\n",
    "    def __init__(self,name):\n",
    "        self.name=name\n",
    "        self.legs=4\n",
    "\n",
    "    def speak(self):\n",
    "        print(self.name+\" says : Bark!\")\n",
    "\n",
    "mydog=Dog('Rover')\n",
    "print(mydog.name)\n",
    "print(mydog.legs)"
   ]
  },
  {
   "cell_type": "markdown",
   "id": "28d72cc5-1585-48d3-ac27-58e23d24ff6c",
   "metadata": {},
   "source": [
    "#### Static Attributes"
   ]
  },
  {
   "cell_type": "code",
   "execution_count": 13,
   "id": "345f5141-1d3c-428e-b9d2-2fb0e295d96d",
   "metadata": {},
   "outputs": [
    {
     "name": "stdout",
     "output_type": "stream",
     "text": [
      "Rover\n",
      "4\n"
     ]
    }
   ],
   "source": [
    "class Dog:\n",
    "    legs=4\n",
    "    def __init__(self,name):\n",
    "        self.name=name\n",
    "\n",
    "    def speak(self):\n",
    "        print(self.name+\" says : Bark!\")\n",
    "\n",
    "mydog=Dog('Rover')\n",
    "print(mydog.name)\n",
    "print(mydog.legs)"
   ]
  },
  {
   "cell_type": "code",
   "execution_count": 14,
   "id": "833a25b4-4fee-4e75-842f-42ae1b9f349b",
   "metadata": {},
   "outputs": [],
   "source": [
    "Dog.legs=3"
   ]
  },
  {
   "cell_type": "code",
   "execution_count": 15,
   "id": "9ba149a5-85d4-444f-81a3-d6eff142302d",
   "metadata": {},
   "outputs": [
    {
     "name": "stdout",
     "output_type": "stream",
     "text": [
      "3\n"
     ]
    }
   ],
   "source": [
    "print(mydog.legs)"
   ]
  },
  {
   "cell_type": "code",
   "execution_count": 29,
   "id": "52965b5b-93b2-4525-98df-72cbf48cdb13",
   "metadata": {},
   "outputs": [
    {
     "name": "stdout",
     "output_type": "stream",
     "text": [
      "Rover\n",
      "4\n"
     ]
    }
   ],
   "source": [
    "# To avoid this change we add an _ to the attrivute\n",
    "class Dog:\n",
    "    _legs=4\n",
    "    def __init__(self,name):\n",
    "        self.name=name\n",
    "\n",
    "    def getlegs(self):\n",
    "        return self._legs\n",
    "\n",
    "    def speak(self):\n",
    "        print(self.name+\" says : Bark!\")\n",
    "\n",
    "mydog=Dog('Rover')\n",
    "print(mydog.name)\n",
    "print(mydog.getlegs())"
   ]
  },
  {
   "cell_type": "code",
   "execution_count": 30,
   "id": "b152114f-9dc5-4d22-85f1-38d887c111e6",
   "metadata": {},
   "outputs": [
    {
     "name": "stdout",
     "output_type": "stream",
     "text": [
      "Rover\n",
      "3\n",
      "4\n"
     ]
    }
   ],
   "source": [
    "mydog=Dog('Rover')\n",
    "mydog._legs=3\n",
    "print(mydog.name)\n",
    "print(mydog.getlegs())\n",
    "print(Dog._legs)"
   ]
  },
  {
   "cell_type": "markdown",
   "id": "6b91e46a-3657-4fd9-b447-e814268a5c07",
   "metadata": {},
   "source": [
    "#### Static and Instance Methods"
   ]
  },
  {
   "cell_type": "code",
   "execution_count": 32,
   "id": "9d3a296d-de8c-4a54-af41-d04ac65fbc48",
   "metadata": {},
   "outputs": [
    {
     "name": "stdout",
     "output_type": "stream",
     "text": [
      "{'the', 'to', 'krish', 'here', 'hi', \"i'm\", 'is', 'sentence', 'want', 'add', 'text', 'another', 'i'}\n"
     ]
    }
   ],
   "source": [
    "class Wordset():\n",
    "    def __init__(self):\n",
    "        self.words = set()\n",
    "\n",
    "    def addText(self,text):\n",
    "        text=self.cleanText(text)\n",
    "        for word in text.split():\n",
    "            self.words.add(word)\n",
    "\n",
    "    def cleanText(self,text):\n",
    "        text=text.replace(',','').replace('.','').replace('!','') # Chaining functions!!!\n",
    "        return text.lower()\n",
    "\n",
    "wordset = Wordset()\n",
    "wordset.addText('Hi, I\\'m Krish! Here is the sentence I want to add.')\n",
    "wordset.addText('Here is another text I want to add.')\n",
    "print(wordset.words)"
   ]
  },
  {
   "cell_type": "markdown",
   "id": "03b4494a-1ab7-4383-824b-ca3afab2b2c1",
   "metadata": {},
   "source": [
    "#### Inheritance"
   ]
  },
  {
   "cell_type": "code",
   "execution_count": 35,
   "id": "1baeecaa-5fbc-4f09-b207-4b66dc5c4e64",
   "metadata": {},
   "outputs": [],
   "source": [
    "class Dog:\n",
    "    _legs=4\n",
    "    def __init__(self,name):\n",
    "        self.name=name\n",
    "\n",
    "    def getlegs(self):\n",
    "        return self._legs\n",
    "\n",
    "    def speak(self):\n",
    "        print(self.name+\" says : Bark!\")\n",
    "\n",
    "class Chihuahua(Dog):\n",
    "    def wagtail(self):\n",
    "        print(\"Wagging vigoursly!\")"
   ]
  },
  {
   "cell_type": "code",
   "execution_count": 37,
   "id": "f6faefbe-d418-4d48-aa0e-d6c29f0600ac",
   "metadata": {},
   "outputs": [
    {
     "name": "stdout",
     "output_type": "stream",
     "text": [
      "Roxy says : Bark!\n"
     ]
    }
   ],
   "source": [
    "dog=Chihuahua('Roxy')\n",
    "dog.speak()"
   ]
  },
  {
   "cell_type": "code",
   "execution_count": 38,
   "id": "6ac877ff-42db-4c82-a3fd-3e84453fa644",
   "metadata": {},
   "outputs": [
    {
     "name": "stdout",
     "output_type": "stream",
     "text": [
      "Wagging vigoursly!\n"
     ]
    }
   ],
   "source": [
    "dog.wagtail()"
   ]
  },
  {
   "cell_type": "code",
   "execution_count": 39,
   "id": "8a620e7c-03b2-423a-96fd-dd06e9ce53d6",
   "metadata": {},
   "outputs": [
    {
     "ename": "AttributeError",
     "evalue": "'Dog' object has no attribute 'wagtai'",
     "output_type": "error",
     "traceback": [
      "\u001b[0;31m---------------------------------------------------------------------------\u001b[0m",
      "\u001b[0;31mAttributeError\u001b[0m                            Traceback (most recent call last)",
      "Cell \u001b[0;32mIn[39], line 1\u001b[0m\n\u001b[0;32m----> 1\u001b[0m \u001b[43mmydog\u001b[49m\u001b[38;5;241;43m.\u001b[39;49m\u001b[43mwagtai\u001b[49m()\n",
      "\u001b[0;31mAttributeError\u001b[0m: 'Dog' object has no attribute 'wagtai'"
     ]
    }
   ],
   "source": [
    "mydog.wagtai()"
   ]
  },
  {
   "cell_type": "markdown",
   "id": "96f95aa0-fad3-4b79-929d-e5a379821e33",
   "metadata": {},
   "source": [
    "### Extending Built-In Classes"
   ]
  },
  {
   "cell_type": "code",
   "execution_count": 41,
   "id": "7dc9d3ce-6ba6-4bdd-a5e3-afed5d5940a1",
   "metadata": {},
   "outputs": [],
   "source": [
    "myLIST = list()"
   ]
  },
  {
   "cell_type": "code",
   "execution_count": 47,
   "id": "ec70c7d2-5e50-47fd-bd31-71dfcf74fa98",
   "metadata": {},
   "outputs": [
    {
     "name": "stdout",
     "output_type": "stream",
     "text": [
      "[1, 2]\n",
      "Unique List\n"
     ]
    }
   ],
   "source": [
    "class UniqueList(list):\n",
    "    def __init__(self):\n",
    "        super().__init__() #Since we are modifying constructor method we need to use super so that fir primary class exe.\n",
    "        self.someProperty='Unique List'\n",
    "        \n",
    "    def append(self,item):\n",
    "        if item in self:\n",
    "            return \n",
    "        super().append(item)\n",
    "\n",
    "ul= UniqueList()\n",
    "ul.append(1)\n",
    "ul.append(1)\n",
    "ul.append(1)\n",
    "ul.append(2)\n",
    "\n",
    "print(ul)\n",
    "print(ul.someProperty)"
   ]
  },
  {
   "cell_type": "markdown",
   "id": "f34489ee-9888-47fb-a699-715fab0dbd8f",
   "metadata": {},
   "source": [
    "### Drawing Shapes"
   ]
  },
  {
   "cell_type": "code",
   "execution_count": 69,
   "id": "714c91c2-a5c4-4f72-9ec8-dbfa413c4719",
   "metadata": {},
   "outputs": [
    {
     "name": "stdout",
     "output_type": "stream",
     "text": [
      "\n",
      "*\n",
      "**\n",
      "***\n",
      "****\n",
      "*****\n"
     ]
    }
   ],
   "source": [
    "class Shape:\n",
    "    width=5\n",
    "    height=5\n",
    "    printChar='*'\n",
    "    \n",
    "    def printRow(self, i):\n",
    "        raise NotImplementedError(\"Will be implemented by children extending this class\")\n",
    "    def print(self):\n",
    "        for i in range(self.height):\n",
    "            self.printRow(i)\n",
    "            \n",
    "class Square(Shape):\n",
    "    def printRow(self, i):\n",
    "        print(self.printChar * self.width)\n",
    "\n",
    "class Triangle(Shape):\n",
    "    def printRow(self,i):\n",
    "        print(self.printChar * i)\n",
    "    def print(self):\n",
    "        for i in range(self.height+1):\n",
    "            self.printRow(i)\n",
    "\n",
    "s=Triangle()\n",
    "s.print()"
   ]
  },
  {
   "cell_type": "markdown",
   "id": "4b0f6414-0624-4631-be51-49cee80d9bcc",
   "metadata": {},
   "source": [
    "### Try and Except Sattements"
   ]
  },
  {
   "cell_type": "code",
   "execution_count": 73,
   "id": "02a584de-6bdd-4879-9b6b-3879caad9661",
   "metadata": {},
   "outputs": [
    {
     "name": "stdout",
     "output_type": "stream",
     "text": [
      "Why are you dividing by 0 ?\n",
      "This will always execute irrespective of exception!\n"
     ]
    }
   ],
   "source": [
    "def causeError():\n",
    "    try:\n",
    "        return 1/0\n",
    "\n",
    "    except Exception:\n",
    "        print('Why are you dividing by 0 ?')\n",
    "\n",
    "    finally:\n",
    "        print('This will always execute irrespective of exception!')\n",
    "\n",
    "causeError()"
   ]
  },
  {
   "cell_type": "markdown",
   "id": "cc01c3b0-b270-4cde-a2ed-99a29b8eb3b7",
   "metadata": {},
   "source": [
    "##### Catching Exceptions"
   ]
  },
  {
   "cell_type": "code",
   "execution_count": 77,
   "id": "66dc178f-c79f-4441-b9e6-f7c4eabc4077",
   "metadata": {},
   "outputs": [
    {
     "name": "stdout",
     "output_type": "stream",
     "text": [
      "Hey! This is a Zero Division Error!\n",
      "This will always execute irrespective of exception!\n"
     ]
    }
   ],
   "source": [
    "def causeError():\n",
    "    try:\n",
    "        return 1/0\n",
    "\n",
    "    except ZeroDivisionError: # Order of these exceptions Does Matter!!!!!\n",
    "        print('Hey! This is a Zero Division Error!')\n",
    "\n",
    "    except Exception:\n",
    "        print('Why are you dividing by 0 ?')\n",
    "\n",
    "    finally:\n",
    "        print('This will always execute irrespective of exception!')\n",
    "\n",
    "causeError()"
   ]
  },
  {
   "cell_type": "markdown",
   "id": "9667c56a-4676-44ec-9bc0-06ce625cdd85",
   "metadata": {},
   "source": [
    "##### Custom Decorators"
   ]
  },
  {
   "cell_type": "code",
   "execution_count": 84,
   "id": "90df6971-de25-45ac-a7b7-5beac265643a",
   "metadata": {},
   "outputs": [
    {
     "name": "stdout",
     "output_type": "stream",
     "text": [
      "Hey! This is a Zero Division Error!\n"
     ]
    }
   ],
   "source": [
    "def handleException(func):\n",
    "    def wrapper():\n",
    "        try:\n",
    "            func()\n",
    "        \n",
    "        except ZeroDivisionError: # Order of these exceptions Does Matter!!!!!\n",
    "            print('Hey! This is a Zero Division Error!')\n",
    "        \n",
    "        except Exception:\n",
    "            print('Why are you dividing by 0 ?')\n",
    "\n",
    "    return wrapper\n",
    "\n",
    "@handleException\n",
    "def causeError():\n",
    "    return 1/0\n",
    "\n",
    "causeError()"
   ]
  },
  {
   "cell_type": "markdown",
   "id": "f911bd28-4f66-40b2-a1f0-f1f9f1f85a3a",
   "metadata": {},
   "source": [
    "#### Custom Exceptions"
   ]
  },
  {
   "cell_type": "code",
   "execution_count": 82,
   "id": "0e50f478-29b0-4a58-a066-0a61624d21b9",
   "metadata": {},
   "outputs": [
    {
     "ename": "CustomException",
     "evalue": "You called the causeError function!",
     "output_type": "error",
     "traceback": [
      "\u001b[0;31m---------------------------------------------------------------------------\u001b[0m",
      "\u001b[0;31mCustomException\u001b[0m                           Traceback (most recent call last)",
      "Cell \u001b[0;32mIn[82], line 8\u001b[0m\n\u001b[1;32m      5\u001b[0m \u001b[38;5;28;01mdef\u001b[39;00m \u001b[38;5;21mcauseError\u001b[39m():\n\u001b[1;32m      6\u001b[0m     \u001b[38;5;28;01mraise\u001b[39;00m CustomException(\u001b[38;5;124m'\u001b[39m\u001b[38;5;124mYou called the causeError function!\u001b[39m\u001b[38;5;124m'\u001b[39m)\n\u001b[0;32m----> 8\u001b[0m \u001b[43mcauseError\u001b[49m\u001b[43m(\u001b[49m\u001b[43m)\u001b[49m\n",
      "Cell \u001b[0;32mIn[82], line 6\u001b[0m, in \u001b[0;36mcauseError\u001b[0;34m()\u001b[0m\n\u001b[1;32m      5\u001b[0m \u001b[38;5;28;01mdef\u001b[39;00m \u001b[38;5;21mcauseError\u001b[39m():\n\u001b[0;32m----> 6\u001b[0m     \u001b[38;5;28;01mraise\u001b[39;00m CustomException(\u001b[38;5;124m'\u001b[39m\u001b[38;5;124mYou called the causeError function!\u001b[39m\u001b[38;5;124m'\u001b[39m)\n",
      "\u001b[0;31mCustomException\u001b[0m: You called the causeError function!"
     ]
    }
   ],
   "source": [
    "class CustomException(Exception):\n",
    "    pass\n",
    "\n",
    "\n",
    "def causeError():\n",
    "    raise CustomException('You called the causeError function!')\n",
    "    \n",
    "causeError()"
   ]
  },
  {
   "cell_type": "code",
   "execution_count": 83,
   "id": "d9b1bf86-6ce8-4dd6-838b-9c2247a88c54",
   "metadata": {},
   "outputs": [
    {
     "ename": "ServerError",
     "evalue": "Status code: 500 and message is: The server messed up!",
     "output_type": "error",
     "traceback": [
      "\u001b[0;31m---------------------------------------------------------------------------\u001b[0m",
      "\u001b[0;31mServerError\u001b[0m                               Traceback (most recent call last)",
      "Cell \u001b[0;32mIn[83], line 18\u001b[0m\n\u001b[1;32m     15\u001b[0m \u001b[38;5;28;01mdef\u001b[39;00m \u001b[38;5;21mraiseServerError\u001b[39m():\n\u001b[1;32m     16\u001b[0m     \u001b[38;5;28;01mraise\u001b[39;00m ServerError()\n\u001b[0;32m---> 18\u001b[0m \u001b[43mraiseServerError\u001b[49m\u001b[43m(\u001b[49m\u001b[43m)\u001b[49m\n",
      "Cell \u001b[0;32mIn[83], line 16\u001b[0m, in \u001b[0;36mraiseServerError\u001b[0;34m()\u001b[0m\n\u001b[1;32m     15\u001b[0m \u001b[38;5;28;01mdef\u001b[39;00m \u001b[38;5;21mraiseServerError\u001b[39m():\n\u001b[0;32m---> 16\u001b[0m     \u001b[38;5;28;01mraise\u001b[39;00m ServerError()\n",
      "\u001b[0;31mServerError\u001b[0m: Status code: 500 and message is: The server messed up!"
     ]
    }
   ],
   "source": [
    "class HttpException(Exception):\n",
    "    statusCode = None\n",
    "    message = None\n",
    "    def __init__(self):\n",
    "        super().__init__(f'Status code: {self.statusCode} and message is: {self.message}')\n",
    "        \n",
    "class NotFound(HttpException):\n",
    "    statusCode = 404\n",
    "    message = 'Resource not found'\n",
    "    \n",
    "class ServerError(HttpException):\n",
    "    statusCode = 500\n",
    "    message = 'The server messed up!'\n",
    "    \n",
    "def raiseServerError():\n",
    "    raise ServerError()\n",
    "    \n",
    "raiseServerError()"
   ]
  },
  {
   "cell_type": "markdown",
   "id": "362c66d2-cff6-42df-9505-44d03156546a",
   "metadata": {},
   "source": [
    "### Bad Arguments"
   ]
  },
  {
   "cell_type": "code",
   "execution_count": 85,
   "id": "0ba4c386-c19e-4d99-863d-273189fbe801",
   "metadata": {},
   "outputs": [],
   "source": [
    "class NonIntArgumentException(Exception):\n",
    "    pass"
   ]
  },
  {
   "cell_type": "code",
   "execution_count": 86,
   "id": "0b9a8140-2920-45d4-8c12-241274af1c65",
   "metadata": {},
   "outputs": [
    {
     "name": "stdout",
     "output_type": "stream",
     "text": [
      "There was a zero division error!\n"
     ]
    }
   ],
   "source": [
    "def handleException(func):\n",
    "    def wrapper(*args):\n",
    "        try:\n",
    "            func(*args)\n",
    "        except TypeError:\n",
    "            print('There was a type error!')\n",
    "        except ZeroDivisionError:\n",
    "            print('There was a zero division error!')\n",
    "        except Exception:\n",
    "            print('There was some sort of error!')\n",
    "    return wrapper\n",
    "\n",
    "@handleException\n",
    "def causeError():\n",
    "    return 1/0\n",
    "\n",
    "causeError()\n",
    "\n",
    "\n",
    "\n",
    "\n"
   ]
  },
  {
   "cell_type": "code",
   "execution_count": 87,
   "id": "ea11b9b7-0254-418a-a599-78754108b1e6",
   "metadata": {},
   "outputs": [
    {
     "name": "stdout",
     "output_type": "stream",
     "text": [
      "a is not not an integer!\n"
     ]
    }
   ],
   "source": [
    "args = (1, 2, 3, 'a')\n",
    "\n",
    "for arg in args: \n",
    "    if type(arg) is not int:\n",
    "        print(f'{arg} is not not an integer!')"
   ]
  },
  {
   "cell_type": "markdown",
   "id": "506c100b-a139-4c8b-b077-e01875b428cf",
   "metadata": {},
   "source": [
    "### Threads"
   ]
  },
  {
   "cell_type": "code",
   "execution_count": 89,
   "id": "c26b7efd-3e8d-4243-a86f-dbab01c30e47",
   "metadata": {},
   "outputs": [],
   "source": [
    "import threading\n",
    "import time"
   ]
  },
  {
   "cell_type": "code",
   "execution_count": 90,
   "id": "2b215e2b-e2c4-4cfb-9aee-2efd042e9370",
   "metadata": {},
   "outputs": [
    {
     "data": {
      "text/plain": [
       "[0, 1, 4, 9, 16]"
      ]
     },
     "execution_count": 90,
     "metadata": {},
     "output_type": "execute_result"
    }
   ],
   "source": [
    "def longSquare(num):\n",
    "    time.sleep(1)\n",
    "    return num**2\n",
    "\n",
    "[longSquare(n) for n in range(0, 5)]\n"
   ]
  },
  {
   "cell_type": "code",
   "execution_count": 91,
   "id": "ee23d8ae-fcb1-4cfa-9034-e2553589696d",
   "metadata": {},
   "outputs": [],
   "source": [
    "t1 = threading.Thread(target=longSquare, args=(1,))\n",
    "t2 = threading.Thread(target=longSquare, args=(2,))\n",
    "\n",
    "t1.start()\n",
    "t2.start()\n",
    "\n",
    "t1.join()\n",
    "t2.join()\n"
   ]
  },
  {
   "cell_type": "code",
   "execution_count": 92,
   "id": "e57b4452-3e65-4bd3-9b9d-0531ee1339e2",
   "metadata": {},
   "outputs": [
    {
     "name": "stdout",
     "output_type": "stream",
     "text": [
      "{1: 1, 2: 4}\n"
     ]
    }
   ],
   "source": [
    "\n",
    "\n",
    "def longSquare(num, results):\n",
    "    time.sleep(1)\n",
    "    results[num] = num**2\n",
    "\n",
    "results = {}\n",
    "t1 = threading.Thread(target=longSquare, args=(1,results))\n",
    "t2 = threading.Thread(target=longSquare, args=(2,results))\n",
    "\n",
    "t1.start()\n",
    "t2.start()\n",
    "\n",
    "t1.join()\n",
    "t2.join()\n",
    "\n",
    "print(results)\n"
   ]
  },
  {
   "cell_type": "code",
   "execution_count": 94,
   "id": "c646a4e5-9140-4597-ab7a-f1428443f19d",
   "metadata": {},
   "outputs": [
    {
     "name": "stdout",
     "output_type": "stream",
     "text": [
      "{0: 0, 1: 1, 2: 4, 3: 9, 4: 16, 6: 36, 5: 25, 8: 64, 7: 49, 9: 81}\n"
     ]
    }
   ],
   "source": [
    "\n",
    "\n",
    "def longSquare(num, results):\n",
    "    time.sleep(1)\n",
    "    results[num] = num**2\n",
    "\n",
    "results = {}\n",
    "threads = [threading.Thread(target=longSquare, args=(n, results)) for n in range(0, 10)]\n",
    "[t.start() for t in threads]\n",
    "[t.join() for t in threads]\n",
    "print(results)\n"
   ]
  },
  {
   "cell_type": "markdown",
   "id": "ef679908-cfe7-4e7a-9092-03c066b53406",
   "metadata": {},
   "source": [
    "#### Processes"
   ]
  },
  {
   "cell_type": "code",
   "execution_count": 98,
   "id": "df53c9b5-3156-45d3-8aad-70b89ca397b6",
   "metadata": {},
   "outputs": [],
   "source": [
    "from multiprocess import Process"
   ]
  },
  {
   "cell_type": "code",
   "execution_count": 101,
   "id": "d97a78fc-73bd-4527-bdff-f0c0dd3a6f96",
   "metadata": {},
   "outputs": [
    {
     "name": "stdout",
     "output_type": "stream",
     "text": [
      "14\n",
      "\n",
      "Finished Computing!Finished Computing!\n",
      "\n",
      "{}\n"
     ]
    }
   ],
   "source": [
    "def longSquare(num, results):\n",
    "    time.sleep(1)\n",
    "    print(num**2)\n",
    "    print(\"Finished Computing!\")\n",
    "\n",
    "results = {}\n",
    "p1 = Process(target=longSquare, args=(1,results))\n",
    "p2 = Process(target=longSquare, args=(2,results))\n",
    "\n",
    "p1.start()\n",
    "p2.start()\n",
    "\n",
    "p1.join()\n",
    "p2.join()\n",
    "\n",
    "print(results)"
   ]
  },
  {
   "cell_type": "markdown",
   "id": "096a0178-afd3-4547-a685-41742e926133",
   "metadata": {},
   "source": [
    "### Files"
   ]
  },
  {
   "cell_type": "markdown",
   "id": "a666ef21-bb20-4ba3-ad17-e451b13c3323",
   "metadata": {},
   "source": [
    "#### Reading Files"
   ]
  },
  {
   "cell_type": "code",
   "execution_count": 105,
   "id": "d1d55cdc-7ac4-4c70-97f1-43cb301b0716",
   "metadata": {},
   "outputs": [
    {
     "name": "stdout",
     "output_type": "stream",
     "text": [
      "<_io.TextIOWrapper name='Data.txt' mode='r' encoding='UTF-8'>\n"
     ]
    }
   ],
   "source": [
    "f = open('Data.txt','r')\n",
    "print(f)"
   ]
  },
  {
   "cell_type": "code",
   "execution_count": 106,
   "id": "a20d3f26-a2a5-450e-9ef3-aab871e9893b",
   "metadata": {},
   "outputs": [
    {
     "data": {
      "text/plain": [
       "'Hola! \\n'"
      ]
     },
     "execution_count": 106,
     "metadata": {},
     "output_type": "execute_result"
    }
   ],
   "source": [
    "f.readline()"
   ]
  },
  {
   "cell_type": "code",
   "execution_count": 107,
   "id": "a05f643f-6f21-483b-a79d-2b92db062979",
   "metadata": {},
   "outputs": [
    {
     "data": {
      "text/plain": [
       "['What’s going on, huh?\\n',\n",
       " 'I am Krish Verma and I am working on a Python Code. \\n',\n",
       " 'Isn’t that interesting. \\n',\n",
       " 'Python is a Programming Language.']"
      ]
     },
     "execution_count": 107,
     "metadata": {},
     "output_type": "execute_result"
    }
   ],
   "source": [
    "f.readlines()"
   ]
  },
  {
   "cell_type": "code",
   "execution_count": 109,
   "id": "000aab7c-89aa-402b-94ca-24800a508849",
   "metadata": {},
   "outputs": [
    {
     "name": "stdout",
     "output_type": "stream",
     "text": [
      "Hola! \n",
      "\n",
      "What’s going on, huh?\n",
      "\n",
      "I am Krish Verma and I am working on a Python Code. \n",
      "\n",
      "Isn’t that interesting. \n",
      "\n",
      "Python is a Programming Language.\n"
     ]
    }
   ],
   "source": [
    "f=open('Data.txt','r')\n",
    "for line in f.readlines():\n",
    "    print(line)"
   ]
  },
  {
   "cell_type": "code",
   "execution_count": 110,
   "id": "fec9a210-d61d-44e8-801c-9a80af3cda12",
   "metadata": {},
   "outputs": [
    {
     "name": "stdout",
     "output_type": "stream",
     "text": [
      "Hola!\n",
      "What’s going on, huh?\n",
      "I am Krish Verma and I am working on a Python Code.\n",
      "Isn’t that interesting.\n",
      "Python is a Programming Language.\n"
     ]
    }
   ],
   "source": [
    "f=open('Data.txt','r')\n",
    "for line in f.readlines():\n",
    "    print(line.strip())"
   ]
  },
  {
   "cell_type": "markdown",
   "id": "4166a233-1a0e-4d0d-b72b-bea7a85c552e",
   "metadata": {},
   "source": [
    "#### Writing Files"
   ]
  },
  {
   "cell_type": "code",
   "execution_count": 116,
   "id": "cda08024-b5ed-4916-a6d7-4ff37d55d17e",
   "metadata": {},
   "outputs": [
    {
     "name": "stdout",
     "output_type": "stream",
     "text": [
      "<_io.TextIOWrapper name='Information.txt' mode='w' encoding='UTF-8'>\n"
     ]
    }
   ],
   "source": [
    "# on writing we will open file in write mode. If file does not exist It will create a new one \n",
    "f=open('Information.txt','w')\n",
    "print(f)"
   ]
  },
  {
   "cell_type": "code",
   "execution_count": 117,
   "id": "593b4610-2ed1-4e8e-a10a-c6e752bc70a2",
   "metadata": {},
   "outputs": [
    {
     "data": {
      "text/plain": [
       "25"
      ]
     },
     "execution_count": 117,
     "metadata": {},
     "output_type": "execute_result"
    }
   ],
   "source": [
    "f.write(\"This line has been written using Python code snippet!\\n\")\n",
    "f.write(\"Seems interesting right?\\n\")"
   ]
  },
  {
   "cell_type": "code",
   "execution_count": 118,
   "id": "935c3b39-e463-4e12-a371-6db5e0a25f38",
   "metadata": {},
   "outputs": [],
   "source": [
    "# Python save this info into a buffer and will not write it untill the file file has been closed\n",
    "f.close()"
   ]
  },
  {
   "cell_type": "markdown",
   "id": "3e377a9c-60b4-4756-b6f7-8c3efc888fda",
   "metadata": {},
   "source": [
    "#### Appending files"
   ]
  },
  {
   "cell_type": "code",
   "execution_count": 119,
   "id": "44b968d3-855e-4656-8211-362e94417ea2",
   "metadata": {},
   "outputs": [],
   "source": [
    "f=open('Information.txt','a')\n",
    "f.write(\"This line has been appended\\n\")\n",
    "f.close()"
   ]
  },
  {
   "cell_type": "code",
   "execution_count": 120,
   "id": "e5835112-a76b-460e-9960-3da3b578fcfd",
   "metadata": {},
   "outputs": [],
   "source": [
    "# We can also use with keyword\n",
    "with open('Information.txt','a') as f:\n",
    "    f.write(\"This is some stuff!\\n\")"
   ]
  },
  {
   "cell_type": "markdown",
   "id": "6927782b-f925-456d-99d3-7e3b8792dec4",
   "metadata": {},
   "source": [
    "### CSV File Handling"
   ]
  },
  {
   "cell_type": "code",
   "execution_count": 121,
   "id": "de88ef92-72af-4c18-a62e-27a3133a5411",
   "metadata": {},
   "outputs": [],
   "source": [
    "import csv"
   ]
  },
  {
   "cell_type": "markdown",
   "id": "b99e845d-b5fe-4489-8e7b-89c3e37f02c9",
   "metadata": {},
   "source": [
    "#### Reading"
   ]
  },
  {
   "cell_type": "code",
   "execution_count": 149,
   "id": "124000c2-ae1b-4fab-959f-fba02fff2642",
   "metadata": {},
   "outputs": [
    {
     "name": "stdout",
     "output_type": "stream",
     "text": [
      "['\\ufeffSerial Number,District,State,Pin Code,State Code,RTO Code']\n",
      "['1,Faridabad,Haryana,121002,HR,29']\n",
      "['2,Gurugram,Haryana,122001,HR,26']\n",
      "['3,Nuh,Haryana,122107,HR,27']\n",
      "['4,Rohtak,Haryana,124001,HR,12']\n",
      "['5,Sonepat,Haryana,131001,HR,10']\n",
      "['6,Rewari,Haryana,123401,HR,36']\n",
      "['7,Jhajjar,Haryana,124103,HR,13']\n",
      "['8,Panipat,Haryana,132103,HR,67']\n",
      "['9,Palwal,Haryana,121102,HR,30']\n",
      "['10,Bhiwani,Haryana,127021,HR,16']\n",
      "['11,Charkhi Dadri,Haryana,127306,HR,19']\n",
      "['12,Mahendragarh,Haryana,123029,HR,34']\n",
      "['13,Jind,Haryana,126102,HR,31']\n",
      "['14,Karnal,Haryana,132001,HR,45']\n",
      "['15,Meerut,Uttar Pradesh,250002,UP,15']\n",
      "['16,Ghaziabad,Uttar Pradesh,201001,UP,14']\n",
      "['17,Gautam Budh Nagar,Uttar Pradesh,201301,UP,16']\n",
      "['18,Bulandshahr,Uttar Pradesh,203001,UP,13']\n",
      "['19,Baghpat,Uttar Pradesh,250609,UP,17']\n",
      "['20,Hapur,Uttar Pradesh,245101,UP,37']\n",
      "['21,Shamli,Uttar Pradesh,247776,UP,19']\n",
      "['22,Muzaffarnagar,Uttar Pradesh,251001,UP,12']\n",
      "['23,Alwar,Rajasthan,301001,RJ,1']\n",
      "['24,Bharatput,Rajasthan,321001,RJ,5']\n"
     ]
    }
   ],
   "source": [
    "with open('Sample.csv','r') as f:\n",
    "    reader = csv.reader(f, delimiter='\\t')\n",
    "    for row in reader:\n",
    "        print(row)"
   ]
  },
  {
   "cell_type": "code",
   "execution_count": 150,
   "id": "7bc12db6-4e6f-4093-84de-9f3d9df578eb",
   "metadata": {},
   "outputs": [
    {
     "name": "stdout",
     "output_type": "stream",
     "text": [
      "['1,Faridabad,Haryana,121002,HR,29']\n",
      "['2,Gurugram,Haryana,122001,HR,26']\n",
      "['3,Nuh,Haryana,122107,HR,27']\n",
      "['4,Rohtak,Haryana,124001,HR,12']\n",
      "['5,Sonepat,Haryana,131001,HR,10']\n",
      "['6,Rewari,Haryana,123401,HR,36']\n",
      "['7,Jhajjar,Haryana,124103,HR,13']\n",
      "['8,Panipat,Haryana,132103,HR,67']\n",
      "['9,Palwal,Haryana,121102,HR,30']\n",
      "['10,Bhiwani,Haryana,127021,HR,16']\n",
      "['11,Charkhi Dadri,Haryana,127306,HR,19']\n",
      "['12,Mahendragarh,Haryana,123029,HR,34']\n",
      "['13,Jind,Haryana,126102,HR,31']\n",
      "['14,Karnal,Haryana,132001,HR,45']\n",
      "['15,Meerut,Uttar Pradesh,250002,UP,15']\n",
      "['16,Ghaziabad,Uttar Pradesh,201001,UP,14']\n",
      "['17,Gautam Budh Nagar,Uttar Pradesh,201301,UP,16']\n",
      "['18,Bulandshahr,Uttar Pradesh,203001,UP,13']\n",
      "['19,Baghpat,Uttar Pradesh,250609,UP,17']\n",
      "['20,Hapur,Uttar Pradesh,245101,UP,37']\n",
      "['21,Shamli,Uttar Pradesh,247776,UP,19']\n",
      "['22,Muzaffarnagar,Uttar Pradesh,251001,UP,12']\n",
      "['23,Alwar,Rajasthan,301001,RJ,1']\n",
      "['24,Bharatput,Rajasthan,321001,RJ,5']\n"
     ]
    }
   ],
   "source": [
    "# To skip the header in reading the csv file, we use next function\n",
    "with open('Sample.csv','r') as f:\n",
    "    reader = csv.reader(f,delimiter='\\t')\n",
    "    next(reader) # We can use next function multiple times to skip number of lines.\n",
    "    for row in reader:\n",
    "        print(row)"
   ]
  },
  {
   "cell_type": "code",
   "execution_count": 151,
   "id": "03c8c98d-8c2f-4971-a51e-fe21c2eb47ea",
   "metadata": {},
   "outputs": [
    {
     "name": "stdout",
     "output_type": "stream",
     "text": [
      "['1,Faridabad,Haryana,121002,HR,29']\n",
      "['2,Gurugram,Haryana,122001,HR,26']\n",
      "['3,Nuh,Haryana,122107,HR,27']\n",
      "['4,Rohtak,Haryana,124001,HR,12']\n",
      "['5,Sonepat,Haryana,131001,HR,10']\n",
      "['6,Rewari,Haryana,123401,HR,36']\n",
      "['7,Jhajjar,Haryana,124103,HR,13']\n",
      "['8,Panipat,Haryana,132103,HR,67']\n",
      "['9,Palwal,Haryana,121102,HR,30']\n",
      "['10,Bhiwani,Haryana,127021,HR,16']\n",
      "['11,Charkhi Dadri,Haryana,127306,HR,19']\n",
      "['12,Mahendragarh,Haryana,123029,HR,34']\n",
      "['13,Jind,Haryana,126102,HR,31']\n",
      "['14,Karnal,Haryana,132001,HR,45']\n",
      "['15,Meerut,Uttar Pradesh,250002,UP,15']\n",
      "['16,Ghaziabad,Uttar Pradesh,201001,UP,14']\n",
      "['17,Gautam Budh Nagar,Uttar Pradesh,201301,UP,16']\n",
      "['18,Bulandshahr,Uttar Pradesh,203001,UP,13']\n",
      "['19,Baghpat,Uttar Pradesh,250609,UP,17']\n",
      "['20,Hapur,Uttar Pradesh,245101,UP,37']\n",
      "['21,Shamli,Uttar Pradesh,247776,UP,19']\n",
      "['22,Muzaffarnagar,Uttar Pradesh,251001,UP,12']\n",
      "['23,Alwar,Rajasthan,301001,RJ,1']\n",
      "['24,Bharatput,Rajasthan,321001,RJ,5']\n"
     ]
    }
   ],
   "source": [
    "# The another way is we can read it as a list from indexing 1\n",
    "with open('Sample.csv','r') as f:\n",
    "    reader = list(csv.reader(f,delimiter='\\t'))\n",
    "    for row in reader[1:]:\n",
    "        print(row)"
   ]
  },
  {
   "cell_type": "code",
   "execution_count": 152,
   "id": "3f5ef120-eb05-4444-a294-8be3460cdd8c",
   "metadata": {},
   "outputs": [
    {
     "name": "stdout",
     "output_type": "stream",
     "text": [
      "{'\\ufeffSerial Number,District,State,Pin Code,State Code,RTO Code': '1,Faridabad,Haryana,121002,HR,29'}\n",
      "{'\\ufeffSerial Number,District,State,Pin Code,State Code,RTO Code': '2,Gurugram,Haryana,122001,HR,26'}\n",
      "{'\\ufeffSerial Number,District,State,Pin Code,State Code,RTO Code': '3,Nuh,Haryana,122107,HR,27'}\n",
      "{'\\ufeffSerial Number,District,State,Pin Code,State Code,RTO Code': '4,Rohtak,Haryana,124001,HR,12'}\n",
      "{'\\ufeffSerial Number,District,State,Pin Code,State Code,RTO Code': '5,Sonepat,Haryana,131001,HR,10'}\n",
      "{'\\ufeffSerial Number,District,State,Pin Code,State Code,RTO Code': '6,Rewari,Haryana,123401,HR,36'}\n",
      "{'\\ufeffSerial Number,District,State,Pin Code,State Code,RTO Code': '7,Jhajjar,Haryana,124103,HR,13'}\n",
      "{'\\ufeffSerial Number,District,State,Pin Code,State Code,RTO Code': '8,Panipat,Haryana,132103,HR,67'}\n",
      "{'\\ufeffSerial Number,District,State,Pin Code,State Code,RTO Code': '9,Palwal,Haryana,121102,HR,30'}\n",
      "{'\\ufeffSerial Number,District,State,Pin Code,State Code,RTO Code': '10,Bhiwani,Haryana,127021,HR,16'}\n",
      "{'\\ufeffSerial Number,District,State,Pin Code,State Code,RTO Code': '11,Charkhi Dadri,Haryana,127306,HR,19'}\n",
      "{'\\ufeffSerial Number,District,State,Pin Code,State Code,RTO Code': '12,Mahendragarh,Haryana,123029,HR,34'}\n",
      "{'\\ufeffSerial Number,District,State,Pin Code,State Code,RTO Code': '13,Jind,Haryana,126102,HR,31'}\n",
      "{'\\ufeffSerial Number,District,State,Pin Code,State Code,RTO Code': '14,Karnal,Haryana,132001,HR,45'}\n",
      "{'\\ufeffSerial Number,District,State,Pin Code,State Code,RTO Code': '15,Meerut,Uttar Pradesh,250002,UP,15'}\n",
      "{'\\ufeffSerial Number,District,State,Pin Code,State Code,RTO Code': '16,Ghaziabad,Uttar Pradesh,201001,UP,14'}\n",
      "{'\\ufeffSerial Number,District,State,Pin Code,State Code,RTO Code': '17,Gautam Budh Nagar,Uttar Pradesh,201301,UP,16'}\n",
      "{'\\ufeffSerial Number,District,State,Pin Code,State Code,RTO Code': '18,Bulandshahr,Uttar Pradesh,203001,UP,13'}\n",
      "{'\\ufeffSerial Number,District,State,Pin Code,State Code,RTO Code': '19,Baghpat,Uttar Pradesh,250609,UP,17'}\n",
      "{'\\ufeffSerial Number,District,State,Pin Code,State Code,RTO Code': '20,Hapur,Uttar Pradesh,245101,UP,37'}\n",
      "{'\\ufeffSerial Number,District,State,Pin Code,State Code,RTO Code': '21,Shamli,Uttar Pradesh,247776,UP,19'}\n",
      "{'\\ufeffSerial Number,District,State,Pin Code,State Code,RTO Code': '22,Muzaffarnagar,Uttar Pradesh,251001,UP,12'}\n",
      "{'\\ufeffSerial Number,District,State,Pin Code,State Code,RTO Code': '23,Alwar,Rajasthan,301001,RJ,1'}\n",
      "{'\\ufeffSerial Number,District,State,Pin Code,State Code,RTO Code': '24,Bharatput,Rajasthan,321001,RJ,5'}\n"
     ]
    }
   ],
   "source": [
    "with open('Sample.csv', 'r') as f:\n",
    "    reader = csv.DictReader(f, delimiter='\\t')\n",
    "    for row in reader:\n",
    "        print(row)"
   ]
  },
  {
   "cell_type": "markdown",
   "id": "a8ab7483-1e49-40a4-9518-d4387c07cb52",
   "metadata": {},
   "source": [
    "#### Filtering Data"
   ]
  },
  {
   "cell_type": "code",
   "execution_count": 153,
   "id": "c16b3a6f-e084-4d16-a16e-fe883418eae4",
   "metadata": {},
   "outputs": [],
   "source": [
    "with open('Sample.csv', 'r') as f:\n",
    "    data = list(csv.DictReader(f, delimiter='\\t'))"
   ]
  },
  {
   "cell_type": "code",
   "execution_count": 154,
   "id": "3264b531-e34d-4bb6-a4f8-e9cb4bbd5326",
   "metadata": {},
   "outputs": [],
   "source": [
    "primes = []\n",
    "for number in range(2, 99):\n",
    "    for factor in range(2, int(number**0.5) + 1):\n",
    "        if number % factor == 0:\n",
    "            break\n",
    "    else:\n",
    "        primes.append(number)"
   ]
  },
  {
   "cell_type": "code",
   "execution_count": 156,
   "id": "22e5df4a-fa10-4320-b9fe-de053aaa35bf",
   "metadata": {},
   "outputs": [
    {
     "ename": "KeyError",
     "evalue": "'Pin Code'",
     "output_type": "error",
     "traceback": [
      "\u001b[0;31m---------------------------------------------------------------------------\u001b[0m",
      "\u001b[0;31mKeyError\u001b[0m                                  Traceback (most recent call last)",
      "Cell \u001b[0;32mIn[156], line 1\u001b[0m\n\u001b[0;32m----> 1\u001b[0m data \u001b[38;5;241m=\u001b[39m [row \u001b[38;5;28;01mfor\u001b[39;00m row \u001b[38;5;129;01min\u001b[39;00m data \u001b[38;5;28;01mif\u001b[39;00m \u001b[38;5;28mint\u001b[39m(\u001b[43mrow\u001b[49m\u001b[43m[\u001b[49m\u001b[38;5;124;43m'\u001b[39;49m\u001b[38;5;124;43mPin Code\u001b[39;49m\u001b[38;5;124;43m'\u001b[39;49m\u001b[43m]\u001b[49m) \u001b[38;5;129;01min\u001b[39;00m primes \u001b[38;5;129;01mand\u001b[39;00m row[\u001b[38;5;124m'\u001b[39m\u001b[38;5;124mState Code\u001b[39m\u001b[38;5;124m'\u001b[39m] \u001b[38;5;241m==\u001b[39m \u001b[38;5;124m'\u001b[39m\u001b[38;5;124mUP\u001b[39m\u001b[38;5;124m'\u001b[39m]\n\u001b[1;32m      2\u001b[0m \u001b[38;5;28mlen\u001b[39m(data)\n",
      "\u001b[0;31mKeyError\u001b[0m: 'Pin Code'"
     ]
    }
   ],
   "source": [
    "data = [row for row in data if int(row['Pin Code']) in primes and row['State Code'] == 'UP']\n",
    "len(data)"
   ]
  },
  {
   "cell_type": "markdown",
   "id": "9809971e-6d82-4d70-9fd4-8b0bf7b25984",
   "metadata": {},
   "source": [
    "### JSON Files"
   ]
  },
  {
   "cell_type": "markdown",
   "id": "75cbe51d-c4f6-48b9-b1dd-ff5ce2d6e667",
   "metadata": {},
   "source": [
    "#### Loading Json\n"
   ]
  },
  {
   "cell_type": "code",
   "execution_count": 169,
   "id": "28abd81e-7b59-4dd1-b13f-ad09b6abd528",
   "metadata": {},
   "outputs": [],
   "source": [
    "import json\n",
    "from json import JSONDecodeError, JSONEncoder"
   ]
  },
  {
   "cell_type": "code",
   "execution_count": 164,
   "id": "b9909955-e604-4171-9517-dda8120b4903",
   "metadata": {},
   "outputs": [
    {
     "data": {
      "text/plain": [
       "{'a': 'apple', 'b': 'ball', 'c': 'cat'}"
      ]
     },
     "execution_count": 164,
     "metadata": {},
     "output_type": "execute_result"
    }
   ],
   "source": [
    "jsonString = '{\"a\":\"apple\",\"b\":\"ball\",\"c\":\"cat\"}' # this is not a python dict in a str\n",
    "# this is a json format string and here the way ' and \" have been put, their way matters!\n",
    "json.loads(jsonString)"
   ]
  },
  {
   "cell_type": "code",
   "execution_count": 165,
   "id": "38b17bd7-d888-49ff-aa16-f91fd04b8698",
   "metadata": {},
   "outputs": [
    {
     "name": "stdout",
     "output_type": "stream",
     "text": [
      "Could Not parse JSON\n"
     ]
    }
   ],
   "source": [
    "jsonStr='{\"a\":\"apple\",\"b\":\"ball\",\"c\":\"cat\",}'\n",
    "# Since there is a comma it will give JSONDecodeError to avoid it:\n",
    "# Do remember to import JSONDecodeError\n",
    "try:\n",
    "    json.loads(jsonStr)\n",
    "\n",
    "except JSONDecodeError:\n",
    "    print(\"Could Not parse JSON\")"
   ]
  },
  {
   "cell_type": "markdown",
   "id": "7128db75-add6-4413-8597-d83f8a1ce95b",
   "metadata": {},
   "source": [
    "###### The above is the way of getting a json data string into python in the form of a dictionary which is called Loading JSON. Dumping JSON is the way of dumping python data into JSON format."
   ]
  },
  {
   "cell_type": "markdown",
   "id": "91700951-700a-485c-bc7b-796aecdc4b2f",
   "metadata": {},
   "source": [
    "#### Dumping JSON"
   ]
  },
  {
   "cell_type": "code",
   "execution_count": 167,
   "id": "315fe79c-1689-4547-8721-b9634cafe513",
   "metadata": {},
   "outputs": [
    {
     "data": {
      "text/plain": [
       "'{\"a\": \"apple\", \"b\": \"ball\", \"c\": \"cat\"}'"
      ]
     },
     "execution_count": 167,
     "metadata": {},
     "output_type": "execute_result"
    }
   ],
   "source": [
    "pyDict= {'a': 'apple', 'b': 'ball', 'c': 'cat'}\n",
    "json.dumps(pyDict)"
   ]
  },
  {
   "cell_type": "markdown",
   "id": "9406fb24-5026-48f8-96dd-2d4998c5aa10",
   "metadata": {},
   "source": [
    "#### Custom JSON Decorators"
   ]
  },
  {
   "cell_type": "code",
   "execution_count": 170,
   "id": "65827f99-8df4-4687-b5e8-73ffa3af7283",
   "metadata": {},
   "outputs": [
    {
     "data": {
      "text/plain": [
       "'{\"a\": \"aardvark\", \"b\": \"bear\", \"c\": \"cat\"}'"
      ]
     },
     "execution_count": 170,
     "metadata": {},
     "output_type": "execute_result"
    }
   ],
   "source": [
    "class Animal:\n",
    "    def __init__(self, name):\n",
    "        self.name = name\n",
    "\n",
    "class AnimalEncoder(JSONEncoder):\n",
    "    def default(self, o):\n",
    "        if type(o) == Animal:\n",
    "            return o.name\n",
    "        return super().default(o)\n",
    "    \n",
    "pythonDict = {'a': Animal('aardvark'), 'b': Animal('bear'), 'c': Animal('cat'),}\n",
    "json.dumps(pythonDict, cls=AnimalEncoder)"
   ]
  }
 ],
 "metadata": {
  "kernelspec": {
   "display_name": "Python 3 (ipykernel)",
   "language": "python",
   "name": "python3"
  },
  "language_info": {
   "codemirror_mode": {
    "name": "ipython",
    "version": 3
   },
   "file_extension": ".py",
   "mimetype": "text/x-python",
   "name": "python",
   "nbconvert_exporter": "python",
   "pygments_lexer": "ipython3",
   "version": "3.12.4"
  }
 },
 "nbformat": 4,
 "nbformat_minor": 5
}
