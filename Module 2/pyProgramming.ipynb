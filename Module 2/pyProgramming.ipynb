{
 "cells": [
  {
   "cell_type": "markdown",
   "id": "a4e8c1cc-ee7d-4d4d-adff-f258dc80b4b1",
   "metadata": {},
   "source": [
    "# Python Object Oriented Programming"
   ]
  },
  {
   "cell_type": "markdown",
   "id": "321047f8-3421-4855-bf76-05c3bedb5685",
   "metadata": {},
   "source": [
    "## Definition of Classes"
   ]
  },
  {
   "cell_type": "code",
   "execution_count": 1,
   "id": "008e23c8-6fd3-4153-83f9-5b4bfdebefea",
   "metadata": {},
   "outputs": [
    {
     "name": "stdout",
     "output_type": "stream",
     "text": [
      "<__main__.Book object at 0x104fce4b0>\n",
      "The Psychology of Money\n"
     ]
    }
   ],
   "source": [
    "# Python Object Oriented Programming by Joe Marini course example\n",
    "# Basic class definitions\n",
    "\n",
    "\n",
    "# TODO: create a basic class\n",
    "class Book:\n",
    "  def __init__(self,title):\n",
    "    self.title=title\n",
    "\n",
    "# TODO: create instances of the class\n",
    "book1=Book(\"The Psychology of Money\")\n",
    "book2=Book(\"Do Epic Shit\")\n",
    "\n",
    "# TODO: print the class and property\n",
    "print(book1)\n",
    "print(book1.title)"
   ]
  },
  {
   "cell_type": "markdown",
   "id": "51a7fa46-2b11-4251-902b-dc9d9a47478b",
   "metadata": {},
   "source": [
    "## Definition of Instances"
   ]
  },
  {
   "cell_type": "code",
   "execution_count": 2,
   "id": "20ba5a61-4e9a-4237-a6ba-ce90c447ac2d",
   "metadata": {},
   "outputs": [
    {
     "name": "stdout",
     "output_type": "stream",
     "text": [
      "349\n"
     ]
    }
   ],
   "source": [
    "# Python Object Oriented Programming by Joe Marini course example\n",
    "# Using instance methods and attributes\n",
    "\n",
    "\n",
    "class Book:\n",
    "    # the \"init\" function is called when the instance is\n",
    "    # created and ready to be initialized\n",
    "    def __init__(self, title,author,pages,price):\n",
    "        self.title = title\n",
    "        # TODO: add properties\n",
    "        self.author=author\n",
    "        self.pages=pages\n",
    "        self.price=price\n",
    "        self.__secret=\"This is a secret element!\"\n",
    "\n",
    "    # TODO: create instance methods\n",
    "    def getprice(self):\n",
    "        if hasattr(self,\"_discount\"):\n",
    "            return self.price - (self.price * self._discount)\n",
    "        else:\n",
    "            return self.price\n",
    "    \n",
    "    def setdiscount(self,amount):\n",
    "        self._discount=amount\n",
    "\n",
    "\n",
    "# TODO: create some book instances\n",
    "b1 = Book(\"The Psychology of Money\",\"Moragan Housel\",242,349)\n",
    "b2 = Book(\"Do Epic Shit\",\"Ankur Warikoo\",293,249)\n",
    "\n",
    "# TODO: print the price of book1\n",
    "print(b1.getprice())"
   ]
  },
  {
   "cell_type": "code",
   "execution_count": 3,
   "id": "84711deb-b976-4593-bcd0-99d2b225fa91",
   "metadata": {},
   "outputs": [
    {
     "name": "stdout",
     "output_type": "stream",
     "text": [
      "249\n",
      "199.2\n"
     ]
    }
   ],
   "source": [
    "# TODO: try setting the discount\n",
    "print(b2.getprice())\n",
    "b2.setdiscount(0.20)\n",
    "print(b2.getprice())"
   ]
  },
  {
   "cell_type": "code",
   "execution_count": 4,
   "id": "c394bc84-171b-43a2-a4ed-1e2e360e8d20",
   "metadata": {},
   "outputs": [
    {
     "ename": "AttributeError",
     "evalue": "'Book' object has no attribute '__secret'",
     "output_type": "error",
     "traceback": [
      "\u001b[0;31m---------------------------------------------------------------------------\u001b[0m",
      "\u001b[0;31mAttributeError\u001b[0m                            Traceback (most recent call last)",
      "Cell \u001b[0;32mIn[4], line 2\u001b[0m\n\u001b[1;32m      1\u001b[0m \u001b[38;5;66;03m# TODO: properties with double underscores are hidden by the interpreter\u001b[39;00m\n\u001b[0;32m----> 2\u001b[0m \u001b[38;5;28mprint\u001b[39m(\u001b[43mb2\u001b[49m\u001b[38;5;241;43m.\u001b[39;49m\u001b[43m__secret\u001b[49m)\n",
      "\u001b[0;31mAttributeError\u001b[0m: 'Book' object has no attribute '__secret'"
     ]
    }
   ],
   "source": [
    "# TODO: properties with double underscores are hidden by the interpreter\n",
    "print(b2.__secret)"
   ]
  },
  {
   "cell_type": "code",
   "execution_count": 5,
   "id": "bed39481-93dc-483f-a954-98e9b041d69f",
   "metadata": {},
   "outputs": [
    {
     "name": "stdout",
     "output_type": "stream",
     "text": [
      "This is a secret element!\n"
     ]
    }
   ],
   "source": [
    "print(b2._Book__secret)"
   ]
  },
  {
   "cell_type": "markdown",
   "id": "1112264e-1ae2-4b4a-8c30-1facd46fb9ad",
   "metadata": {},
   "source": [
    "## Checking Instance Types"
   ]
  },
  {
   "cell_type": "code",
   "execution_count": 6,
   "id": "52cd0240-70e3-45a5-9e03-a65ee7fe9ea2",
   "metadata": {},
   "outputs": [
    {
     "name": "stdout",
     "output_type": "stream",
     "text": [
      "<class '__main__.Book'>\n",
      "<class '__main__.Newspaper'>\n"
     ]
    }
   ],
   "source": [
    "# Python Object Oriented Programming by Joe Marini course example\n",
    "# Checking class types and instances\n",
    "\n",
    "\n",
    "class Book:\n",
    "    def __init__(self, title):\n",
    "        self.title = title\n",
    "\n",
    "\n",
    "class Newspaper:\n",
    "    def __init__(self, name):\n",
    "        self.name = name\n",
    "\n",
    "\n",
    "# Create some instances of the classes\n",
    "b1 = Book(\"Sorrounded by Psychopaths\")\n",
    "b2 = Book(\"Subtle Art of Not Giving a F*ck\")\n",
    "n1 = Newspaper(\"The Times of India\")\n",
    "n2 = Newspaper(\"Hindustan Times\")\n",
    "\n",
    "# TODO: use type() to inspect the object type\n",
    "print(type(b1))\n",
    "print(type(n1))"
   ]
  },
  {
   "cell_type": "code",
   "execution_count": 7,
   "id": "3dcc92ab-6077-4ea7-9789-ff0b7f3ba58d",
   "metadata": {},
   "outputs": [
    {
     "name": "stdout",
     "output_type": "stream",
     "text": [
      "True\n",
      "False\n"
     ]
    }
   ],
   "source": [
    "# TODO: compare two types together\n",
    "print(type(b1)==type(b2))\n",
    "print(type(b1)==type(n1))"
   ]
  },
  {
   "cell_type": "code",
   "execution_count": 8,
   "id": "93a6e488-28c4-4c57-9137-73753db80bd2",
   "metadata": {},
   "outputs": [
    {
     "name": "stdout",
     "output_type": "stream",
     "text": [
      "True\n",
      "True\n",
      "False\n"
     ]
    }
   ],
   "source": [
    "# TODO: use isinstance to compare a specific instance to a known type\n",
    "print(isinstance(b1,Book))\n",
    "print(isinstance(n1,Newspaper))\n",
    "print(isinstance(n2,Book))"
   ]
  },
  {
   "cell_type": "code",
   "execution_count": 9,
   "id": "07f487f1-aed4-485e-b852-063d2a009eff",
   "metadata": {},
   "outputs": [
    {
     "name": "stdout",
     "output_type": "stream",
     "text": [
      "True\n"
     ]
    }
   ],
   "source": [
    "print(isinstance(n2,object))"
   ]
  },
  {
   "cell_type": "markdown",
   "id": "a92b4289-b741-456e-bf1f-b4462570fd4f",
   "metadata": {},
   "source": [
    "## Static and Instance Methods"
   ]
  },
  {
   "cell_type": "code",
   "execution_count": 38,
   "id": "db73146b-974d-4dee-910e-79c5e5d3f34a",
   "metadata": {},
   "outputs": [],
   "source": [
    "# Python Object Oriented Programming by Joe Marini course example\n",
    "# Using class-level and static methods\n",
    "\n",
    "\n",
    "class Book:\n",
    "    # TODO: Properties defined at the class level are shared by all instances\n",
    "    BOOK_TYPES=(\"HARDCOVER\",\"PAPERBACK\",\"EBOOK\") # All Caps indicate this is a Class Attribute\n",
    "\n",
    "    # TODO: double-underscore properties are hidden from other classes\n",
    "    __booklist=None\n",
    "    # TODO: create a class method\n",
    "    @classmethod\n",
    "    def get_book_types(cls):\n",
    "        return cls.BOOK_TYPES\n",
    "\n",
    "    # TODO: create a static method\n",
    "    def getbooklist():\n",
    "        if Book.__booklist==None:\n",
    "            Book.__booklist=[]\n",
    "        return Book.__booklist\n",
    "        \n",
    "    # instance methods receive a specific object instance as an argument\n",
    "    # and operate on data specific to that object instance\n",
    "    def set_title(self, newtitle):\n",
    "        self.title = newtitle\n",
    "\n",
    "    def __init__(self, title,booktype):\n",
    "        self.title = title\n",
    "        if (not booktype in Book.BOOK_TYPES):\n",
    "            raise ValueError(f\"{booktype} is not a valid book type!\")"
   ]
  },
  {
   "cell_type": "code",
   "execution_count": 39,
   "id": "59c3d504-f3a6-4231-97ea-24bb997703d6",
   "metadata": {},
   "outputs": [
    {
     "name": "stdout",
     "output_type": "stream",
     "text": [
      "Book Types :  ('HARDCOVER', 'PAPERBACK', 'EBOOK')\n"
     ]
    },
    {
     "ename": "ValueError",
     "evalue": "COMIC is not a valid book type!",
     "output_type": "error",
     "traceback": [
      "\u001b[0;31m---------------------------------------------------------------------------\u001b[0m",
      "\u001b[0;31mValueError\u001b[0m                                Traceback (most recent call last)",
      "Cell \u001b[0;32mIn[39], line 7\u001b[0m\n\u001b[1;32m      5\u001b[0m b1\u001b[38;5;241m=\u001b[39mBook(\u001b[38;5;124m\"\u001b[39m\u001b[38;5;124mTitle-1\u001b[39m\u001b[38;5;124m\"\u001b[39m,\u001b[38;5;124m\"\u001b[39m\u001b[38;5;124mHARDCOVER\u001b[39m\u001b[38;5;124m\"\u001b[39m)\n\u001b[1;32m      6\u001b[0m b2\u001b[38;5;241m=\u001b[39mBook(\u001b[38;5;124m\"\u001b[39m\u001b[38;5;124mTitle-1\u001b[39m\u001b[38;5;124m\"\u001b[39m,\u001b[38;5;124m\"\u001b[39m\u001b[38;5;124mEBOOK\u001b[39m\u001b[38;5;124m\"\u001b[39m)\n\u001b[0;32m----> 7\u001b[0m b3\u001b[38;5;241m=\u001b[39m\u001b[43mBook\u001b[49m\u001b[43m(\u001b[49m\u001b[38;5;124;43m\"\u001b[39;49m\u001b[38;5;124;43mTitle-2\u001b[39;49m\u001b[38;5;124;43m\"\u001b[39;49m\u001b[43m,\u001b[49m\u001b[38;5;124;43m\"\u001b[39;49m\u001b[38;5;124;43mCOMIC\u001b[39;49m\u001b[38;5;124;43m\"\u001b[39;49m\u001b[43m)\u001b[49m\n",
      "Cell \u001b[0;32mIn[38], line 30\u001b[0m, in \u001b[0;36mBook.__init__\u001b[0;34m(self, title, booktype)\u001b[0m\n\u001b[1;32m     28\u001b[0m \u001b[38;5;28mself\u001b[39m\u001b[38;5;241m.\u001b[39mtitle \u001b[38;5;241m=\u001b[39m title\n\u001b[1;32m     29\u001b[0m \u001b[38;5;28;01mif\u001b[39;00m (\u001b[38;5;129;01mnot\u001b[39;00m booktype \u001b[38;5;129;01min\u001b[39;00m Book\u001b[38;5;241m.\u001b[39mBOOK_TYPES):\n\u001b[0;32m---> 30\u001b[0m     \u001b[38;5;28;01mraise\u001b[39;00m \u001b[38;5;167;01mValueError\u001b[39;00m(\u001b[38;5;124mf\u001b[39m\u001b[38;5;124m\"\u001b[39m\u001b[38;5;132;01m{\u001b[39;00mbooktype\u001b[38;5;132;01m}\u001b[39;00m\u001b[38;5;124m is not a valid book type!\u001b[39m\u001b[38;5;124m\"\u001b[39m)\n",
      "\u001b[0;31mValueError\u001b[0m: COMIC is not a valid book type!"
     ]
    }
   ],
   "source": [
    "# TODO: access the class attribute\n",
    "print(\"Book Types : \", Book.get_book_types())\n",
    "\n",
    "# TODO: Create some book instances\n",
    "b1=Book(\"Title-1\",\"HARDCOVER\")\n",
    "b2=Book(\"Title-1\",\"EBOOK\")\n",
    "b3=Book(\"Title-2\",\"COMIC\")"
   ]
  },
  {
   "cell_type": "code",
   "execution_count": 40,
   "id": "99d9b808-caf1-4fc8-921a-27e9d7c2e458",
   "metadata": {},
   "outputs": [
    {
     "name": "stdout",
     "output_type": "stream",
     "text": [
      "[<__main__.Book object at 0x10514e540>, <__main__.Book object at 0x1050fe6c0>]\n"
     ]
    }
   ],
   "source": [
    "# TODO: Use the static method to access a singleton object\n",
    "theBooks=Book.getbooklist()\n",
    "theBooks.append(b1)\n",
    "theBooks.append(b2)\n",
    "print(theBooks)"
   ]
  },
  {
   "cell_type": "markdown",
   "id": "ae7de77f-196b-4335-a6fb-4921a9b29591",
   "metadata": {},
   "source": [
    "## Challenge Problem"
   ]
  },
  {
   "cell_type": "code",
   "execution_count": 41,
   "id": "5e884c7d-b659-4aa4-bbba-8301f0c71cd3",
   "metadata": {},
   "outputs": [
    {
     "name": "stdout",
     "output_type": "stream",
     "text": [
      "MSFT: Microsoft Corp -- $342.0\n",
      "None\n",
      "GOOG: Google Inc -- $135.0\n",
      "None\n",
      "META: Meta Platforms Inc -- $275.0\n",
      "None\n",
      "AMZN: Amazon Inc -- $135.0\n",
      "None\n"
     ]
    }
   ],
   "source": [
    "# Python Object Oriented Programming by Joe Marini course example\n",
    "# Programming challenge: define a class to represent a stock symbol\n",
    "\n",
    "# Challenge: create a class to represent stock information.\n",
    "# Your class should have properties for:\n",
    "# Ticker (string)\n",
    "# Price (float)\n",
    "# Company (string)\n",
    "# And a method get_description() which returns a string in the form\n",
    "# of \"Ticker: Company -- $Price\"\n",
    "\n",
    "class Stock:\n",
    "    def __init__(self,Ticker,Price,Company):\n",
    "        self.Ticker=Ticker\n",
    "        self.Price=Price\n",
    "        self.Company=Company\n",
    "    \n",
    "    def get_description(self):\n",
    "        print(f\"{self.Ticker}: {self.Company} -- ${self.Price}\")\n",
    "\n",
    "# ~~~~~~~~~ TEST CODE ~~~~~~~~~\n",
    "msft = Stock(\"MSFT\", 342.0, \"Microsoft Corp\")\n",
    "goog = Stock(\"GOOG\", 135.0, \"Google Inc\")\n",
    "meta = Stock(\"META\", 275.0, \"Meta Platforms Inc\")\n",
    "amzn = Stock(\"AMZN\", 135.0, \"Amazon Inc\")\n",
    "\n",
    "print(msft.get_description())\n",
    "print(goog.get_description())\n",
    "print(meta.get_description())\n",
    "print(amzn.get_description())\n"
   ]
  },
  {
   "cell_type": "markdown",
   "id": "1d997f51-a5b5-48e7-affc-5763e51f70fb",
   "metadata": {},
   "source": [
    "## Inheritance Definition"
   ]
  },
  {
   "cell_type": "code",
   "execution_count": 43,
   "id": "769e886b-43d1-4a1e-af42-0b825a804931",
   "metadata": {},
   "outputs": [
    {
     "name": "stdout",
     "output_type": "stream",
     "text": [
      "Ankur Warikoo\n",
      "HT Media Limited\n",
      "249.0 189.0 12.0\n"
     ]
    }
   ],
   "source": [
    "# Python Object Oriented Programming by Joe Marini course example\n",
    "# Understanding class inheritance\n",
    "\n",
    "class Publication:\n",
    "    def __init__(self,title,price):\n",
    "        self.title=title\n",
    "        self.price=price\n",
    "\n",
    "class Periodical(Publication):\n",
    "    def __init__(self,title,price,period,publisher):\n",
    "        super().__init__(title,price)\n",
    "        self.period=period\n",
    "        self.publisher=publisher\n",
    "\n",
    "class Book(Publication):\n",
    "    def __init__(self, title, author, pages, price):\n",
    "        super().__init__(title,price)\n",
    "        self.author = author\n",
    "        self.pages = pages\n",
    "\n",
    "\n",
    "class Magazine(Periodical):\n",
    "    def __init__(self, title, publisher, price, period):\n",
    "        super().__init__(title,price,period,publisher)\n",
    "\n",
    "\n",
    "class Newspaper(Periodical):\n",
    "    def __init__(self, title, publisher, price, period):\n",
    "        super().__init__(title,price,period,publisher)\n",
    "\n",
    "\n",
    "b1 = Book(\"Do Epic Shit\", \"Ankur Warikoo\", 293, 249.00)\n",
    "n1 = Newspaper(\"Hindustan Times\", \"HT Media Limited\", 12.00, \"Daily\")\n",
    "m1 = Magazine(\"Forbes India\", \"Network18 Media\", 189.00, \"Monthly\")\n",
    "\n",
    "print(b1.author)\n",
    "print(n1.publisher)\n",
    "print(b1.price, m1.price, n1.price)\n"
   ]
  },
  {
   "cell_type": "markdown",
   "id": "f9ee9768-e1c1-4731-8d67-17cac799d15c",
   "metadata": {},
   "source": [
    "## Abstract Method"
   ]
  },
  {
   "cell_type": "code",
   "execution_count": 44,
   "id": "2dde95e3-0cc7-4cd7-ad3c-9c00f771fe20",
   "metadata": {},
   "outputs": [
    {
     "name": "stdout",
     "output_type": "stream",
     "text": [
      "314.0\n",
      "144\n"
     ]
    }
   ],
   "source": [
    "# Python Object Oriented Programming by Joe Marini course example\n",
    "# Using Abstract Base Classes to enforce class constraints\n",
    "\n",
    "from abc import ABC, abstractmethod # Importing Abstract Base Classes\n",
    "class GraphicShape(ABC):\n",
    "    def __init__(self):\n",
    "        super().__init__()\n",
    "\n",
    "    @abstractmethod\n",
    "    def calcArea(self):\n",
    "        pass\n",
    "\n",
    "\n",
    "class Circle(GraphicShape):\n",
    "    def __init__(self, radius):\n",
    "        self.radius = radius\n",
    "    def calcArea(self):\n",
    "        return 3.14 * (self.radius ** 2)\n",
    "\n",
    "\n",
    "class Square(GraphicShape):\n",
    "    def __init__(self, side):\n",
    "        self.side = side\n",
    "    def calcArea(self):\n",
    "        return self.side * self.side\n",
    "\n",
    "c = Circle(10)\n",
    "print(c.calcArea())\n",
    "s = Square(12)\n",
    "print(s.calcArea())\n"
   ]
  },
  {
   "cell_type": "markdown",
   "id": "2dfe4b64-19f9-4ed7-a1ba-761823e4485f",
   "metadata": {},
   "source": [
    "## Multiple Inheritance"
   ]
  },
  {
   "cell_type": "code",
   "execution_count": 45,
   "id": "ea35a822-8618-401c-bc17-f588094f6f7c",
   "metadata": {},
   "outputs": [
    {
     "name": "stdout",
     "output_type": "stream",
     "text": [
      "prop1\n",
      "prop2\n"
     ]
    }
   ],
   "source": [
    "# Python Object Oriented Programming by Joe Marini course example\n",
    "# Understanding multiple inheritance\n",
    "\n",
    "\n",
    "class A:\n",
    "    def __init__(self):\n",
    "        super().__init__()\n",
    "        self.prop1 = \"prop1\"\n",
    "\n",
    "\n",
    "class B:\n",
    "    def __init__(self):\n",
    "        super().__init__()\n",
    "        self.prop2 = \"prop2\"\n",
    "\n",
    "\n",
    "class C(A, B):\n",
    "    def __init__(self):\n",
    "        super().__init__()\n",
    "    def showprops(self):\n",
    "        print(self.prop1)\n",
    "        print(self.prop2)\n",
    "\n",
    "\n",
    "c = C()\n",
    "c.showprops()"
   ]
  },
  {
   "cell_type": "code",
   "execution_count": 46,
   "id": "bbd2c985-738d-49f5-857f-d1431c47d79c",
   "metadata": {},
   "outputs": [],
   "source": [
    "# Python Object Oriented Programming by Joe Marini course example\n",
    "# Understanding multiple inheritance\n",
    "\n",
    "\n",
    "class A:\n",
    "    def __init__(self):\n",
    "        super().__init__()\n",
    "        self.prop1 = \"prop1\"\n",
    "        self.name=\"Class A\"\n",
    "\n",
    "\n",
    "class B:\n",
    "    def __init__(self):\n",
    "        super().__init__()\n",
    "        self.prop2 = \"prop2\"\n",
    "        self.name=\"Class B\"\n"
   ]
  },
  {
   "cell_type": "code",
   "execution_count": 47,
   "id": "1c9ecd6a-9a45-4266-8833-817e02cab404",
   "metadata": {},
   "outputs": [
    {
     "name": "stdout",
     "output_type": "stream",
     "text": [
      "prop1\n",
      "prop2\n",
      "Class A\n"
     ]
    }
   ],
   "source": [
    "class C(A,B):\n",
    "    def __init__(self):\n",
    "        super().__init__()\n",
    "    def showprops(self):\n",
    "        print(self.prop1)\n",
    "        print(self.prop2)\n",
    "        print(self.name)\n",
    "\n",
    "\n",
    "c = C()\n",
    "c.showprops()"
   ]
  },
  {
   "cell_type": "markdown",
   "id": "74a3457f-d1c9-4d14-9d27-874d3de5226a",
   "metadata": {},
   "source": [
    "#### The lookup starts from current class and if property has been inherited from the parent in case of multiple parents, the lookup is in the order of attributes from left to right!"
   ]
  },
  {
   "cell_type": "code",
   "execution_count": 48,
   "id": "4cc97c6a-e094-4029-a676-24df76d7776f",
   "metadata": {},
   "outputs": [
    {
     "name": "stdout",
     "output_type": "stream",
     "text": [
      "prop1\n",
      "prop2\n",
      "Class B\n"
     ]
    }
   ],
   "source": [
    "class C(B,A):\n",
    "    def __init__(self):\n",
    "        super().__init__()\n",
    "    def showprops(self):\n",
    "        print(self.prop1)\n",
    "        print(self.prop2)\n",
    "        print(self.name)\n",
    "\n",
    "\n",
    "c = C()\n",
    "c.showprops()"
   ]
  },
  {
   "cell_type": "markdown",
   "id": "09ba0ed5-a772-4af0-8e09-c57ea0f18e57",
   "metadata": {},
   "source": [
    "#### We can inspect the method resolution order by looking at a special attribute ___mro__"
   ]
  },
  {
   "cell_type": "code",
   "execution_count": 49,
   "id": "36689bbe-dd64-4e92-81af-c654a0bcd457",
   "metadata": {},
   "outputs": [
    {
     "name": "stdout",
     "output_type": "stream",
     "text": [
      "(<class '__main__.C'>, <class '__main__.B'>, <class '__main__.A'>, <class 'object'>)\n"
     ]
    }
   ],
   "source": [
    "print(C.__mro__)"
   ]
  },
  {
   "cell_type": "markdown",
   "id": "477cf246-0794-4719-b31b-72cd46147e82",
   "metadata": {},
   "source": [
    "## Interface "
   ]
  },
  {
   "cell_type": "code",
   "execution_count": 51,
   "id": "73e64a65-78f8-4848-9c75-35d1c897c347",
   "metadata": {},
   "outputs": [
    {
     "name": "stdout",
     "output_type": "stream",
     "text": [
      "314.0\n",
      "{ \"square\": 314.0 }\n"
     ]
    }
   ],
   "source": [
    "# Python Object Oriented Programming by Joe Marini course example\n",
    "# Using Abstract Base Classes to implement interfaces\n",
    "\n",
    "from abc import ABC, abstractmethod\n",
    "\n",
    "\n",
    "class GraphicShape(ABC):\n",
    "    def __init__(self):\n",
    "        super().__init__()\n",
    "\n",
    "    @abstractmethod\n",
    "    def calcArea(self):\n",
    "        pass\n",
    "\n",
    "\n",
    "class JSONify(ABC):\n",
    "    @abstractmethod\n",
    "    def toJSON(self):\n",
    "        pass\n",
    "\n",
    "\n",
    "class Circle(GraphicShape, JSONify):\n",
    "    def __init__(self, radius):\n",
    "        self.radius = radius\n",
    "\n",
    "    def calcArea(self):\n",
    "        return 3.14 * (self.radius ** 2)\n",
    "\n",
    "    def toJSON(self):\n",
    "        return f\"{{ \\\"square\\\": {str(self.calcArea())} }}\"\n",
    "\n",
    "\n",
    "c = Circle(10)\n",
    "print(c.calcArea())\n",
    "print(c.toJSON())\n"
   ]
  },
  {
   "cell_type": "markdown",
   "id": "daff9dc8-a742-4ad8-890a-7fb7b68548aa",
   "metadata": {},
   "source": [
    "## Concept of Composition"
   ]
  },
  {
   "cell_type": "code",
   "execution_count": 53,
   "id": "7b557e59-e93c-4617-9306-4c5b409ecccc",
   "metadata": {},
   "outputs": [
    {
     "name": "stdout",
     "output_type": "stream",
     "text": [
      "War and Peace\n",
      "Leo Tolstoy\n",
      "365\n"
     ]
    }
   ],
   "source": [
    "# Python Object Oriented Programming by Joe Marini course example\n",
    "# Using composition to build complex objects\n",
    "\n",
    "\n",
    "class Book:\n",
    "    def __init__(self, title, price, author=None):\n",
    "        self.title = title\n",
    "        self.price = price\n",
    "\n",
    "        self.author=author\n",
    "\n",
    "        self.chapters = []\n",
    "\n",
    "    def addchapter(self, chapter):\n",
    "        self.chapters.append(chapter)\n",
    "\n",
    "    def getbookpagecount(self):\n",
    "        result = 0\n",
    "        for ch in self.chapters:\n",
    "            result+=ch.pagecount\n",
    "        return result\n",
    "\n",
    "class Author:\n",
    "    def __init__(self,fname,lname):\n",
    "        self.fname=fname\n",
    "        self.lname=lname\n",
    "\n",
    "    def __str__(self):\n",
    "        return f\"{self.fname} {self.lname}\"\n",
    "    \n",
    "class Chapter:\n",
    "    def __init__(self,name,pagecount):\n",
    "        self.name=name\n",
    "        self.pagecount=pagecount\n",
    "\n",
    "auth= Author(\"Leo\",\"Tolstoy\")\n",
    "b1 = Book(\"War and Peace\", 39.0,auth)\n",
    "\n",
    "b1.addchapter(Chapter(\"Chapter 1\", 125))\n",
    "b1.addchapter(Chapter(\"Chapter 2\", 97))\n",
    "b1.addchapter(Chapter(\"Chapter 3\", 143))\n",
    "\n",
    "print(b1.title)\n",
    "print(b1.author)\n",
    "print(b1.getbookpagecount())"
   ]
  },
  {
   "cell_type": "markdown",
   "id": "c40767c7-3ca7-452d-a1f1-8f7036f2ec93",
   "metadata": {},
   "source": [
    "## Problem Solving"
   ]
  },
  {
   "cell_type": "code",
   "execution_count": 54,
   "id": "ecfe96e3-a5cc-4f49-b2f5-96892c91241f",
   "metadata": {},
   "outputs": [
    {
     "name": "stdout",
     "output_type": "stream",
     "text": [
      "Can't instantiate Asset!\n",
      "MSFT: Microsoft Corp -- $342.0\n",
      "GOOG: Google Inc -- $135.0\n",
      "META: Meta Platforms Inc -- $275.0\n",
      "AMZN: Amazon Inc -- $135.0\n",
      "30 Year US Treasury: 30yr : $95.31 : 4.38%\n",
      "10 Year US Treasury: 10yr : $96.7 : 4.28%\n",
      "5 Year US Treasury: 5yr : $98.65 : 4.43%\n",
      "2 Year US Treasury: 2yr : $99.57 : 4.98%\n"
     ]
    }
   ],
   "source": [
    "# Python Object Oriented Programming by Joe Marini course example\n",
    "# Programming challenge: use inheritance and abstract classes\n",
    "\n",
    "# Challenge: create a class structure to represent stocks and bonds\n",
    "# Requirements:\n",
    "# -- Both stocks and bonds have a price\n",
    "# -- Stocks have a company name and ticker\n",
    "# -- Bonds have a description, duration, and yield\n",
    "# -- You should not be able to instantiate the base class\n",
    "# -- Subclasses are required to override get_description()\n",
    "# -- get_description returns formats for stocks and bonds\n",
    "# For stocks: \"Ticker: Company -- $Price\"\n",
    "# For bonds: \"description: duration'yr' : $price : yieldamt%\"\n",
    "from abc import ABC, abstractmethod\n",
    "\n",
    "class Asset(ABC):\n",
    "    def __init__(self,price):\n",
    "        self.price=price\n",
    "\n",
    "    @abstractmethod\n",
    "    def get_description(self):\n",
    "        pass\n",
    "\n",
    "class Stock(Asset):\n",
    "    def __init__(self, ticker, price, company_name):\n",
    "        super().__init__(price)\n",
    "        self.company_name=company_name\n",
    "        self.ticker=ticker\n",
    "\n",
    "    def get_description(self):\n",
    "        return f\"{self.ticker}: {self.company_name} -- ${self.price}\"\n",
    "\n",
    "class Bond(Asset):\n",
    "    def __init__(self, price,description, duration, yeild):\n",
    "        super().__init__(price)\n",
    "        self.description=description\n",
    "        self.duration=duration\n",
    "        self.yeild=yeild\n",
    "\n",
    "    def get_description(self):\n",
    "        return f\"{self.description}: {self.duration}yr : ${self.price} : {self.yeild}%\"\n",
    "\n",
    "\n",
    "# ~~~~~~~~~ TEST CODE ~~~~~~~~~\n",
    "try:\n",
    "   ast = Asset(100.0)\n",
    "except:\n",
    "   print(\"Can't instantiate Asset!\")\n",
    "\n",
    "msft = Stock(\"MSFT\", 342.0, \"Microsoft Corp\")\n",
    "goog = Stock(\"GOOG\", 135.0, \"Google Inc\")\n",
    "meta = Stock(\"META\", 275.0, \"Meta Platforms Inc\")\n",
    "amzn = Stock(\"AMZN\", 135.0, \"Amazon Inc\")\n",
    "\n",
    "us30yr = Bond(95.31, \"30 Year US Treasury\", 30, 4.38)\n",
    "us10yr = Bond(96.70, \"10 Year US Treasury\", 10, 4.28)\n",
    "us5yr = Bond(98.65, \"5 Year US Treasury\", 5, 4.43)\n",
    "us2yr = Bond(99.57, \"2 Year US Treasury\", 2, 4.98)\n",
    "\n",
    "print(msft.get_description())\n",
    "print(goog.get_description())\n",
    "print(meta.get_description())\n",
    "print(amzn.get_description())\n",
    "\n",
    "print(us30yr.get_description())\n",
    "print(us10yr.get_description())\n",
    "print(us5yr.get_description())\n",
    "print(us2yr.get_description())\n"
   ]
  },
  {
   "cell_type": "markdown",
   "id": "53f8afd9-08a6-40cf-8592-fee879e21a28",
   "metadata": {},
   "source": [
    "## Magic Methods"
   ]
  },
  {
   "cell_type": "code",
   "execution_count": 55,
   "id": "aefecf4d-e566-499b-85de-d95fd161b67b",
   "metadata": {},
   "outputs": [
    {
     "name": "stdout",
     "output_type": "stream",
     "text": [
      "<__main__.Book object at 0x10514ef30>\n",
      "<__main__.Book object at 0x10514a330>\n"
     ]
    }
   ],
   "source": [
    "# Python Object Oriented Programming by Joe Marini course example\n",
    "# Using the __str__ and __repr__ magic methods\n",
    "\n",
    "\n",
    "class Book:\n",
    "    def __init__(self, title, author, price):\n",
    "        super().__init__()\n",
    "        self.title = title\n",
    "        self.author = author\n",
    "        self.price = price\n",
    "\n",
    "b1 = Book(\"Do Epic Shit\", \"Ankur Warikoo\", 299)\n",
    "b2 = Book(\"The Psychology of Money\", \"Morgan Housel\", 349)\n",
    "\n",
    "print(b1)\n",
    "print(b2)\n"
   ]
  },
  {
   "cell_type": "code",
   "execution_count": 58,
   "id": "2fe38109-e658-4fad-a07c-4ff436a7ad39",
   "metadata": {},
   "outputs": [
    {
     "name": "stdout",
     "output_type": "stream",
     "text": [
      "Do Epic Shit by Ankur Warikoo, costs 299\n",
      "The Psychology of Money by Morgan Housel, costs 349\n"
     ]
    }
   ],
   "source": [
    "# Python Object Oriented Programming by Joe Marini course example\n",
    "# Using the __str__ and __repr__ magic methods\n",
    "\n",
    "\n",
    "class Book:\n",
    "    def __init__(self, title, author, price):\n",
    "        super().__init__()\n",
    "        self.title = title\n",
    "        self.author = author\n",
    "        self.price = price\n",
    "\n",
    "    # TODO: use the __str__ method to return a string\n",
    "    def __str__(self):\n",
    "        return f\"{self.title} by {self.author}, costs {self.price}\"\n",
    "        \n",
    "b1 = Book(\"Do Epic Shit\", \"Ankur Warikoo\", 299)\n",
    "b2 = Book(\"The Psychology of Money\", \"Morgan Housel\", 349)\n",
    "\n",
    "print(b1)\n",
    "print(b2)\n"
   ]
  },
  {
   "cell_type": "code",
   "execution_count": 59,
   "id": "f8831fb0-3696-4f53-8508-94f741569b0b",
   "metadata": {},
   "outputs": [
    {
     "name": "stdout",
     "output_type": "stream",
     "text": [
      "Do Epic Shit by Ankur Warikoo, costs 299\n",
      "The Psychology of Money by Morgan Housel, costs 349\n",
      "Do Epic Shit by Ankur Warikoo, costs 299\n",
      "Title=The Psychology of Money, Author=Morgan Housel, Price=349\n"
     ]
    }
   ],
   "source": [
    "# Python Object Oriented Programming by Joe Marini course example\n",
    "# Using the __str__ and __repr__ magic methods\n",
    "\n",
    "\n",
    "class Book:\n",
    "    def __init__(self, title, author, price):\n",
    "        super().__init__()\n",
    "        self.title = title\n",
    "        self.author = author\n",
    "        self.price = price\n",
    "\n",
    "    # TODO: use the __str__ method to return a string\n",
    "    def __str__(self):\n",
    "        return f\"{self.title} by {self.author}, costs {self.price}\"\n",
    "    # TODO: use the __repr__ method to return an obj representation\n",
    "    def __repr__(self):\n",
    "        return f\"Title={self.title}, Author={self.author}, Price={self.price}\"\n",
    "    \n",
    "\n",
    "b1 = Book(\"Do Epic Shit\", \"Ankur Warikoo\", 299)\n",
    "b2 = Book(\"The Psychology of Money\", \"Morgan Housel\", 349)\n",
    "\n",
    "print(b1)\n",
    "print(b2)\n",
    "print(str(b1))\n",
    "print(repr(b2))"
   ]
  },
  {
   "cell_type": "code",
   "execution_count": 60,
   "id": "cfe287d3-b85c-4216-aec1-2ca4792a901f",
   "metadata": {},
   "outputs": [],
   "source": [
    "# Python Object Oriented Programming by Joe Marini course example\n",
    "# Using the __str__ and __repr__ magic methods\n",
    "\n",
    "\n",
    "class Book:\n",
    "    def __init__(self, title, author, price):\n",
    "        super().__init__()\n",
    "        self.title = title\n",
    "        self.author = author\n",
    "        self.price = price\n",
    "\n",
    "    # the __eq__ method checks for equality between two objects\n",
    "    def __eq__(self, value):\n",
    "        if not isinstance(value, Book):\n",
    "            raise ValueError(\"Can't compare book to non-book type\")\n",
    "\n",
    "        return (self.title == value.title and\n",
    "                self.author == value.author and\n",
    "                self.price == value.price)\n",
    "\n",
    "    # the __ge__ establishes >= relationship with another obj\n",
    "    def __ge__(self, value):\n",
    "        if not isinstance(value, Book):\n",
    "            raise ValueError(\"Can't compare book to non-book type\")\n",
    "\n",
    "        return self.price >= value.price\n",
    "\n",
    "    # the __lt__ establishes <= relationship with another obj\n",
    "    def __lt__(self, value):\n",
    "        if not isinstance(value, Book):\n",
    "            raise ValueError(\"Can't compare book to non-book type\")\n",
    "\n",
    "        return self.price < value.price\n",
    "\n",
    "\n",
    "b1 = Book(\"War and Peace\", \"Leo Tolstoy\", 39.95)\n",
    "b2 = Book(\"The Catcher in the Rye\", \"JD Salinger\", 29.95)\n",
    "b3 = Book(\"War and Peace\", \"Leo Tolstoy\", 39.95)\n",
    "b4 = Book(\"To Kill a Mockingbird\", \"Harper Lee\", 24.95)\n"
   ]
  },
  {
   "cell_type": "code",
   "execution_count": 61,
   "id": "312f44e9-84af-46ca-bdfc-ab6abe957f53",
   "metadata": {},
   "outputs": [
    {
     "name": "stdout",
     "output_type": "stream",
     "text": [
      "True\n",
      "False\n"
     ]
    },
    {
     "ename": "ValueError",
     "evalue": "Can't compare book to non-book type",
     "output_type": "error",
     "traceback": [
      "\u001b[0;31m---------------------------------------------------------------------------\u001b[0m",
      "\u001b[0;31mValueError\u001b[0m                                Traceback (most recent call last)",
      "Cell \u001b[0;32mIn[61], line 4\u001b[0m\n\u001b[1;32m      2\u001b[0m \u001b[38;5;28mprint\u001b[39m(b1 \u001b[38;5;241m==\u001b[39m b3)\n\u001b[1;32m      3\u001b[0m \u001b[38;5;28mprint\u001b[39m(b1 \u001b[38;5;241m==\u001b[39m b2)\n\u001b[0;32m----> 4\u001b[0m \u001b[38;5;28mprint\u001b[39m(\u001b[43mb1\u001b[49m\u001b[43m \u001b[49m\u001b[38;5;241;43m==\u001b[39;49m\u001b[43m \u001b[49m\u001b[38;5;241;43m42\u001b[39;49m)\n",
      "Cell \u001b[0;32mIn[60], line 15\u001b[0m, in \u001b[0;36mBook.__eq__\u001b[0;34m(self, value)\u001b[0m\n\u001b[1;32m     13\u001b[0m \u001b[38;5;28;01mdef\u001b[39;00m \u001b[38;5;21m__eq__\u001b[39m(\u001b[38;5;28mself\u001b[39m, value):\n\u001b[1;32m     14\u001b[0m     \u001b[38;5;28;01mif\u001b[39;00m \u001b[38;5;129;01mnot\u001b[39;00m \u001b[38;5;28misinstance\u001b[39m(value, Book):\n\u001b[0;32m---> 15\u001b[0m         \u001b[38;5;28;01mraise\u001b[39;00m \u001b[38;5;167;01mValueError\u001b[39;00m(\u001b[38;5;124m\"\u001b[39m\u001b[38;5;124mCan\u001b[39m\u001b[38;5;124m'\u001b[39m\u001b[38;5;124mt compare book to non-book type\u001b[39m\u001b[38;5;124m\"\u001b[39m)\n\u001b[1;32m     17\u001b[0m     \u001b[38;5;28;01mreturn\u001b[39;00m (\u001b[38;5;28mself\u001b[39m\u001b[38;5;241m.\u001b[39mtitle \u001b[38;5;241m==\u001b[39m value\u001b[38;5;241m.\u001b[39mtitle \u001b[38;5;129;01mand\u001b[39;00m\n\u001b[1;32m     18\u001b[0m             \u001b[38;5;28mself\u001b[39m\u001b[38;5;241m.\u001b[39mauthor \u001b[38;5;241m==\u001b[39m value\u001b[38;5;241m.\u001b[39mauthor \u001b[38;5;129;01mand\u001b[39;00m\n\u001b[1;32m     19\u001b[0m             \u001b[38;5;28mself\u001b[39m\u001b[38;5;241m.\u001b[39mprice \u001b[38;5;241m==\u001b[39m value\u001b[38;5;241m.\u001b[39mprice)\n",
      "\u001b[0;31mValueError\u001b[0m: Can't compare book to non-book type"
     ]
    }
   ],
   "source": [
    "# Check for equality\n",
    "print(b1 == b3)\n",
    "print(b1 == b2)\n",
    "print(b1 == 42)\n"
   ]
  },
  {
   "cell_type": "code",
   "execution_count": 62,
   "id": "c7511727-edbb-4a5d-8a8a-851ee890f7ad",
   "metadata": {},
   "outputs": [
    {
     "name": "stdout",
     "output_type": "stream",
     "text": [
      "False\n",
      "True\n",
      "True\n"
     ]
    }
   ],
   "source": [
    "# Check for greater and lesser value\n",
    "print(b2 >= b1)\n",
    "print(b2 < b1)\n",
    "print(b3 >= b2)\n"
   ]
  },
  {
   "cell_type": "code",
   "execution_count": 63,
   "id": "78687d98-7931-4661-842b-76302377e14b",
   "metadata": {},
   "outputs": [
    {
     "name": "stdout",
     "output_type": "stream",
     "text": [
      "['To Kill a Mockingbird', 'The Catcher in the Rye', 'War and Peace', 'War and Peace']\n"
     ]
    }
   ],
   "source": [
    "\n",
    "# Now we can sort them\n",
    "books = [b1, b3, b2, b4]\n",
    "books.sort()\n",
    "print([book.title for book in books])\n"
   ]
  },
  {
   "cell_type": "code",
   "execution_count": 98,
   "id": "c1dfa399-1b79-491c-a736-86517fe979e0",
   "metadata": {},
   "outputs": [],
   "source": [
    "# Python Object Oriented Programming by Joe Marini course example\n",
    "# Using the __str__ and __repr__ magic methods\n",
    "\n",
    "\n",
    "from typing import Any\n",
    "\n",
    "\n",
    "class Book:\n",
    "    def __init__(self, title, author, price):\n",
    "        super().__init__()\n",
    "        self.title = title\n",
    "        self.author = author\n",
    "        self.price = price\n",
    "        self._discount = 0.1\n",
    "\n",
    "    # The __str__ function is used to return a user-friendly string\n",
    "    # representation of the object\n",
    "    def __str__(self):\n",
    "        return f\"{self.title} by {self.author}, costs {self.price}\"\n",
    "\n",
    "    # TODO: __getattribute__ called when an attr is retrieved. Don't\n",
    "    # directly access the attr name otherwise a recursive loop is created\n",
    "    def __getattribute__(self, name):\n",
    "        if name==\"price\":\n",
    "            p = super().__getattribute__(\"price\")\n",
    "            d = super().__getattribute__(\"_discount\")\n",
    "            return p - (p*d)\n",
    "        return super().__getattribute__(name)\n",
    "    \n",
    "    # TODO: __setattr__ called when an attribute value is set. Don't set the attr\n",
    "    # directly here otherwise a recursive loop causes a crash\n",
    "    def __setattr__(self, name, value):\n",
    "        if name==\"price\":\n",
    "            if type(value) is not float:\n",
    "                raise ValueError(\"The 'Price' must be in float\")\n",
    "            super().__setattr__(name,value)\n",
    "                \n",
    "    # TODO: __getattr__ called when __getattribute__ lookup fails - you can\n",
    "    # pretty much generate attributes on the fly with this method\n",
    "    def __getattr__(self,name):\n",
    "            return name + \" is not here\"\n",
    "\n"
   ]
  },
  {
   "cell_type": "code",
   "execution_count": 99,
   "id": "78a03d50-18fb-45b1-be9c-f3c47a268e16",
   "metadata": {},
   "outputs": [],
   "source": [
    "\n",
    "b1 = Book(\"War and Peace\", \"Leo Tolstoy\", 39.95)\n",
    "b2 = Book(\"The Catcher in the Rye\", \"JD Salinger\", 29.95)"
   ]
  },
  {
   "cell_type": "code",
   "execution_count": 82,
   "id": "4f94c246-db1a-41c2-938d-da8adba28c57",
   "metadata": {},
   "outputs": [
    {
     "name": "stdout",
     "output_type": "stream",
     "text": [
      "War and Peace by Leo Tolstoy, costs 314.1\n"
     ]
    }
   ],
   "source": [
    "b1.price=349\n",
    "print(b1)"
   ]
  },
  {
   "cell_type": "code",
   "execution_count": 87,
   "id": "1094d36b-4b49-4181-a98f-952a2f996b74",
   "metadata": {},
   "outputs": [
    {
     "ename": "ValueError",
     "evalue": "The 'Price' must be in float",
     "output_type": "error",
     "traceback": [
      "\u001b[0;31m---------------------------------------------------------------------------\u001b[0m",
      "\u001b[0;31mValueError\u001b[0m                                Traceback (most recent call last)",
      "Cell \u001b[0;32mIn[87], line 1\u001b[0m\n\u001b[0;32m----> 1\u001b[0m \u001b[43mb1\u001b[49m\u001b[38;5;241;43m.\u001b[39;49m\u001b[43mprice\u001b[49m\u001b[38;5;241m=\u001b[39m\u001b[38;5;241m349\u001b[39m\n\u001b[1;32m      2\u001b[0m \u001b[38;5;28mprint\u001b[39m(b1)\n",
      "Cell \u001b[0;32mIn[85], line 35\u001b[0m, in \u001b[0;36mBook.__setattr__\u001b[0;34m(self, name, value)\u001b[0m\n\u001b[1;32m     33\u001b[0m \u001b[38;5;28;01mif\u001b[39;00m name\u001b[38;5;241m==\u001b[39m\u001b[38;5;124m\"\u001b[39m\u001b[38;5;124mprice\u001b[39m\u001b[38;5;124m\"\u001b[39m:\n\u001b[1;32m     34\u001b[0m     \u001b[38;5;28;01mif\u001b[39;00m \u001b[38;5;28mtype\u001b[39m(value) \u001b[38;5;129;01mis\u001b[39;00m \u001b[38;5;129;01mnot\u001b[39;00m \u001b[38;5;28mfloat\u001b[39m:\n\u001b[0;32m---> 35\u001b[0m         \u001b[38;5;28;01mraise\u001b[39;00m \u001b[38;5;167;01mValueError\u001b[39;00m(\u001b[38;5;124m\"\u001b[39m\u001b[38;5;124mThe \u001b[39m\u001b[38;5;124m'\u001b[39m\u001b[38;5;124mPrice\u001b[39m\u001b[38;5;124m'\u001b[39m\u001b[38;5;124m must be in float\u001b[39m\u001b[38;5;124m\"\u001b[39m)\n\u001b[1;32m     36\u001b[0m     \u001b[38;5;28msuper\u001b[39m()\u001b[38;5;241m.\u001b[39m\u001b[38;5;21m__setattr__\u001b[39m(name,value)\n",
      "\u001b[0;31mValueError\u001b[0m: The 'Price' must be in float"
     ]
    }
   ],
   "source": [
    "b1.price=349\n",
    "print(b1)"
   ]
  },
  {
   "cell_type": "code",
   "execution_count": 100,
   "id": "ec23b9b6-bb95-4c8e-8fbd-f07885c806dc",
   "metadata": {},
   "outputs": [
    {
     "name": "stdout",
     "output_type": "stream",
     "text": [
      "randomObj is not here\n"
     ]
    }
   ],
   "source": [
    "print(b1.randomObj)"
   ]
  },
  {
   "cell_type": "code",
   "execution_count": 101,
   "id": "ed592c86-6d2a-4ddb-ac67-7c5667df0072",
   "metadata": {},
   "outputs": [
    {
     "name": "stdout",
     "output_type": "stream",
     "text": [
      "War and Peace by Leo Tolstoy, costs 39.95\n",
      "Do Epic Shit by Ankur Warikoo, costs 299\n"
     ]
    }
   ],
   "source": [
    "# Python Object Oriented Programming by Joe Marini course example\n",
    "# Using the __str__ and __repr__ magic methods\n",
    "\n",
    "\n",
    "class Book:\n",
    "    def __init__(self, title, author, price):\n",
    "        super().__init__()\n",
    "        self.title = title\n",
    "        self.author = author\n",
    "        self.price = price\n",
    "\n",
    "    def __str__(self):\n",
    "        return f\"{self.title} by {self.author}, costs {self.price}\"\n",
    "\n",
    "    # TODO: the __call__ method can be used to call the object like a function\n",
    "    def __call__(self,title,author,price):\n",
    "        self.title=title\n",
    "        self.author=author\n",
    "        self.price=price\n",
    "\n",
    "b1 = Book(\"War and Peace\", \"Leo Tolstoy\", 39.95)\n",
    "b2 = Book(\"The Catcher in the Rye\", \"JD Salinger\", 29.95)\n",
    "\n",
    "# TODO: call the object as if it were a function\n",
    "print(b1)\n",
    "b1(\"Do Epic Shit\",\"Ankur Warikoo\",299)\n",
    "print(b1)"
   ]
  },
  {
   "cell_type": "code",
   "execution_count": 102,
   "id": "6f4c1f68-a0f9-4da1-a822-35f88024617d",
   "metadata": {},
   "outputs": [],
   "source": [
    "## Problem Solving"
   ]
  },
  {
   "cell_type": "code",
   "execution_count": 103,
   "id": "4735eb59-90db-4916-8c9e-4d36fe04dd24",
   "metadata": {},
   "outputs": [
    {
     "name": "stdout",
     "output_type": "stream",
     "text": [
      "AMZN: Amazon Inc -- $120.0\n",
      "GOOG: Google Inc -- $135.0\n",
      "META: Meta Platforms Inc -- $275.0\n",
      "MSFT: Microsoft Corp -- $342.0\n",
      "-----------\n",
      "10 Year US Treasury: 10yr : $96.7 : 4.28%\n",
      "30 Year US Treasury: 30yr : $95.31 : 4.38%\n",
      "5 Year US Treasury: 5yr : $98.65 : 4.43%\n",
      "2 Year US Treasury: 2yr : $99.57 : 4.98%\n"
     ]
    }
   ],
   "source": [
    "# Python Object Oriented Programming by Joe Marini course example\n",
    "# Programming challenge: add methods for comparison and equality\n",
    "\n",
    "from abc import ABC, abstractmethod\n",
    "\n",
    "\n",
    "class Asset(ABC):\n",
    "    def __init__(self, price):\n",
    "        self.price = price\n",
    "\n",
    "    @abstractmethod\n",
    "    def __str__(self):\n",
    "        pass\n",
    "\n",
    "\n",
    "class Stock(Asset):\n",
    "    def __init__(self, ticker, price, company):\n",
    "        super().__init__(price)\n",
    "        self.company = company\n",
    "        self.ticker = ticker\n",
    "\n",
    "    def __str__(self):\n",
    "        return f\"{self.ticker}: {self.company} -- ${self.price}\"\n",
    "    \n",
    "    def __lt__(self, other):\n",
    "        return self.price < other.price\n",
    "\n",
    "\n",
    "class Bond(Asset):\n",
    "    def __init__(self, price, description, duration, yieldamt):\n",
    "        super().__init__(price)\n",
    "        self.description = description\n",
    "        self.duration = duration\n",
    "        self.yieldamt = yieldamt\n",
    "\n",
    "    def __str__(self):\n",
    "        return f\"{self.description}: {self.duration}yr : ${self.price} : {self.yieldamt}%\"\n",
    "\n",
    "    def __lt__(self, other):\n",
    "        return self.yieldamt < other.yieldamt\n",
    "\n",
    "\n",
    "# ~~~~~~~~~ TEST CODE ~~~~~~~~~\n",
    "stocks = [\n",
    "    Stock(\"MSFT\", 342.0, \"Microsoft Corp\"),\n",
    "    Stock(\"GOOG\", 135.0, \"Google Inc\"),\n",
    "    Stock(\"META\", 275.0, \"Meta Platforms Inc\"),\n",
    "    Stock(\"AMZN\", 120.0, \"Amazon Inc\")\n",
    "]\n",
    "\n",
    "bonds = [\n",
    "    Bond(95.31, \"30 Year US Treasury\", 30, 4.38),\n",
    "    Bond(96.70, \"10 Year US Treasury\", 10, 4.28),\n",
    "    Bond(98.65, \"5 Year US Treasury\", 5, 4.43),\n",
    "    Bond(99.57, \"2 Year US Treasury\", 2, 4.98)\n",
    "]\n",
    "\n",
    "stocks.sort()\n",
    "bonds.sort()\n",
    "\n",
    "for stock in stocks:\n",
    "    print(stock)\n",
    "print(\"-----------\")\n",
    "for bond in bonds:\n",
    "    print(bond)\n"
   ]
  },
  {
   "cell_type": "markdown",
   "id": "a83b3278-ffe2-4aeb-94e6-99ed0bcf0db0",
   "metadata": {},
   "source": [
    "## DataClass"
   ]
  },
  {
   "cell_type": "code",
   "execution_count": 108,
   "id": "81cec1d2-5886-4af4-a6ce-89944fb8aab6",
   "metadata": {},
   "outputs": [],
   "source": [
    "# Python Object Oriented Programming by Joe Marini course example\n",
    "# Using data classes to represent data objects\n",
    "from dataclasses import dataclass\n",
    "\n",
    "@dataclass\n",
    "class Book:\n",
    "    title: str\n",
    "    author: str\n",
    "    pages: int\n",
    "    price: float\n",
    "        \n",
    "    def bookinfo(self):\n",
    "        return f\"{self.title}, by {self.author}\"\n",
    "\n",
    "\n",
    "# create some instances\n",
    "b1 = Book(\"War and Peace\", \"Leo Tolstoy\", 1225, 39.95)\n",
    "b2 = Book(\"The Catcher in the Rye\", \"JD Salinger\", 234, 29.95)\n",
    "b3 = Book(\"War and Peace\", \"Leo Tolstoy\", 1225, 39.95)\n"
   ]
  },
  {
   "cell_type": "code",
   "execution_count": 105,
   "id": "e40f861c-64ba-41eb-a6e2-6db52bb40e9d",
   "metadata": {},
   "outputs": [
    {
     "name": "stdout",
     "output_type": "stream",
     "text": [
      "War and Peace\n",
      "JD Salinger\n"
     ]
    }
   ],
   "source": [
    "\n",
    "# access fields\n",
    "print(b1.title)\n",
    "print(b2.author)"
   ]
  },
  {
   "cell_type": "code",
   "execution_count": 107,
   "id": "fa6485ac-3752-4ff0-8c0b-5c978e8ebc6a",
   "metadata": {},
   "outputs": [
    {
     "name": "stdout",
     "output_type": "stream",
     "text": [
      "Book(title='War and Peace', author='Leo Tolstoy', pages=1225, price=39.95)\n",
      "True\n",
      "False\n"
     ]
    }
   ],
   "source": [
    "# TODO: print the book itself - dataclasses implement __repr__\n",
    "print(b1)\n",
    "\n",
    "# TODO: comparing two dataclasses - they implement __eq__\n",
    "print(b1 == b3)\n",
    "print(b1 == b2)\n"
   ]
  },
  {
   "cell_type": "code",
   "execution_count": 110,
   "id": "5c55c4ee-da5e-4e74-b9fc-09f4cf549691",
   "metadata": {},
   "outputs": [
    {
     "name": "stdout",
     "output_type": "stream",
     "text": [
      "Do Epic Shit, by Ankur Warikoo\n"
     ]
    }
   ],
   "source": [
    "# TODO: change some fields\n",
    "b1.title=\"Do Epic Shit\"\n",
    "b1.author=\"Ankur Warikoo\"\n",
    "b1.pages=293\n",
    "print(b1.bookinfo())"
   ]
  },
  {
   "cell_type": "code",
   "execution_count": 111,
   "id": "e3c87ad3-362e-400e-b380-b60460fcc94d",
   "metadata": {},
   "outputs": [
    {
     "name": "stdout",
     "output_type": "stream",
     "text": [
      "War and Peace by Leo Tolstoy, 1225pages\n",
      "The Catcher in the Rye by JD Salinger, 234pages\n"
     ]
    }
   ],
   "source": [
    "# Python Object Oriented Programming by Joe Marini course example\n",
    "# Using the postinit function in data classes\n",
    "\n",
    "from dataclasses import dataclass\n",
    "\n",
    "\n",
    "@dataclass\n",
    "class Book:\n",
    "    title: str\n",
    "    author: str\n",
    "    pages: int\n",
    "    price: float\n",
    "\n",
    "    # TODO: the __post_init__ function lets us customize additional properties\n",
    "    # after the object has been initialized via built-in __init__\n",
    "    def __post_init__(self):\n",
    "        self.description= f\"{self.title} by {self.author}, {self.pages}pages\"\n",
    "\n",
    "\n",
    "# create some Book objects\n",
    "b1 = Book(\"War and Peace\", \"Leo Tolstoy\", 1225, 39.95)\n",
    "b2 = Book(\"The Catcher in the Rye\", \"JD Salinger\", 234, 29.95)\n",
    "\n",
    "# TODO: use the description attribute\n",
    "print(b1.description)\n",
    "print(b2.description)"
   ]
  },
  {
   "cell_type": "code",
   "execution_count": 112,
   "id": "755bb1b5-c852-409c-8b55-e6836a547ceb",
   "metadata": {},
   "outputs": [
    {
     "name": "stdout",
     "output_type": "stream",
     "text": [
      "<class '__main__.Book'>\n"
     ]
    }
   ],
   "source": [
    "# Python Object Oriented Programming by Joe Marini course example\n",
    "# implementing default values in data classes\n",
    "\n",
    "from dataclasses import dataclass\n",
    "\n",
    "\n",
    "@dataclass\n",
    "class Book:\n",
    "    # you can define default values when attributes are declared\n",
    "    title: str = \"No Title\"\n",
    "    author: str = \"No Author\"\n",
    "    pages: int = 0\n",
    "    price: float = 0.0\n",
    "\n",
    "b1=Book\n",
    "print(b1)\n"
   ]
  },
  {
   "cell_type": "markdown",
   "id": "c6497ee5-ea0d-4c24-9f06-3c299f6b1c0f",
   "metadata": {},
   "source": [
    "#### Remember items with non default value must alwys be come first else it will raise an error"
   ]
  },
  {
   "cell_type": "code",
   "execution_count": 115,
   "id": "14cbfc07-72ed-474a-8615-1850098e0500",
   "metadata": {},
   "outputs": [
    {
     "ename": "TypeError",
     "evalue": "non-default argument 'price' follows default argument",
     "output_type": "error",
     "traceback": [
      "\u001b[0;31m---------------------------------------------------------------------------\u001b[0m",
      "\u001b[0;31mTypeError\u001b[0m                                 Traceback (most recent call last)",
      "Cell \u001b[0;32mIn[115], line 7\u001b[0m\n\u001b[1;32m      1\u001b[0m \u001b[38;5;66;03m# Python Object Oriented Programming by Joe Marini course example\u001b[39;00m\n\u001b[1;32m      2\u001b[0m \u001b[38;5;66;03m# implementing default values in data classes\u001b[39;00m\n\u001b[1;32m      4\u001b[0m \u001b[38;5;28;01mfrom\u001b[39;00m \u001b[38;5;21;01mdataclasses\u001b[39;00m \u001b[38;5;28;01mimport\u001b[39;00m dataclass\n\u001b[0;32m----> 7\u001b[0m \u001b[38;5;129;43m@dataclass\u001b[39;49m\n\u001b[1;32m      8\u001b[0m \u001b[38;5;28;43;01mclass\u001b[39;49;00m\u001b[43m \u001b[49m\u001b[38;5;21;43;01mBook\u001b[39;49;00m\u001b[43m:\u001b[49m\n\u001b[1;32m      9\u001b[0m \u001b[43m    \u001b[49m\u001b[38;5;66;43;03m# you can define default values when attributes are declared\u001b[39;49;00m\n\u001b[1;32m     10\u001b[0m \u001b[43m    \u001b[49m\u001b[43mtitle\u001b[49m\u001b[43m:\u001b[49m\u001b[43m \u001b[49m\u001b[38;5;28;43mstr\u001b[39;49m\u001b[43m \u001b[49m\u001b[38;5;241;43m=\u001b[39;49m\u001b[43m \u001b[49m\u001b[38;5;124;43m\"\u001b[39;49m\u001b[38;5;124;43mNo Title\u001b[39;49m\u001b[38;5;124;43m\"\u001b[39;49m\n\u001b[1;32m     11\u001b[0m \u001b[43m    \u001b[49m\u001b[43mauthor\u001b[49m\u001b[43m:\u001b[49m\u001b[43m \u001b[49m\u001b[38;5;28;43mstr\u001b[39;49m\u001b[43m \u001b[49m\u001b[38;5;241;43m=\u001b[39;49m\u001b[43m \u001b[49m\u001b[38;5;124;43m\"\u001b[39;49m\u001b[38;5;124;43mNo Author\u001b[39;49m\u001b[38;5;124;43m\"\u001b[39;49m\n",
      "File \u001b[0;32m/Library/Frameworks/Python.framework/Versions/3.12/lib/python3.12/dataclasses.py:1275\u001b[0m, in \u001b[0;36mdataclass\u001b[0;34m(cls, init, repr, eq, order, unsafe_hash, frozen, match_args, kw_only, slots, weakref_slot)\u001b[0m\n\u001b[1;32m   1272\u001b[0m     \u001b[38;5;28;01mreturn\u001b[39;00m wrap\n\u001b[1;32m   1274\u001b[0m \u001b[38;5;66;03m# We're called as @dataclass without parens.\u001b[39;00m\n\u001b[0;32m-> 1275\u001b[0m \u001b[38;5;28;01mreturn\u001b[39;00m \u001b[43mwrap\u001b[49m\u001b[43m(\u001b[49m\u001b[38;5;28;43mcls\u001b[39;49m\u001b[43m)\u001b[49m\n",
      "File \u001b[0;32m/Library/Frameworks/Python.framework/Versions/3.12/lib/python3.12/dataclasses.py:1265\u001b[0m, in \u001b[0;36mdataclass.<locals>.wrap\u001b[0;34m(cls)\u001b[0m\n\u001b[1;32m   1264\u001b[0m \u001b[38;5;28;01mdef\u001b[39;00m \u001b[38;5;21mwrap\u001b[39m(\u001b[38;5;28mcls\u001b[39m):\n\u001b[0;32m-> 1265\u001b[0m     \u001b[38;5;28;01mreturn\u001b[39;00m \u001b[43m_process_class\u001b[49m\u001b[43m(\u001b[49m\u001b[38;5;28;43mcls\u001b[39;49m\u001b[43m,\u001b[49m\u001b[43m \u001b[49m\u001b[43minit\u001b[49m\u001b[43m,\u001b[49m\u001b[43m \u001b[49m\u001b[38;5;28;43mrepr\u001b[39;49m\u001b[43m,\u001b[49m\u001b[43m \u001b[49m\u001b[43meq\u001b[49m\u001b[43m,\u001b[49m\u001b[43m \u001b[49m\u001b[43morder\u001b[49m\u001b[43m,\u001b[49m\u001b[43m \u001b[49m\u001b[43munsafe_hash\u001b[49m\u001b[43m,\u001b[49m\n\u001b[1;32m   1266\u001b[0m \u001b[43m                          \u001b[49m\u001b[43mfrozen\u001b[49m\u001b[43m,\u001b[49m\u001b[43m \u001b[49m\u001b[43mmatch_args\u001b[49m\u001b[43m,\u001b[49m\u001b[43m \u001b[49m\u001b[43mkw_only\u001b[49m\u001b[43m,\u001b[49m\u001b[43m \u001b[49m\u001b[43mslots\u001b[49m\u001b[43m,\u001b[49m\n\u001b[1;32m   1267\u001b[0m \u001b[43m                          \u001b[49m\u001b[43mweakref_slot\u001b[49m\u001b[43m)\u001b[49m\n",
      "File \u001b[0;32m/Library/Frameworks/Python.framework/Versions/3.12/lib/python3.12/dataclasses.py:1063\u001b[0m, in \u001b[0;36m_process_class\u001b[0;34m(cls, init, repr, eq, order, unsafe_hash, frozen, match_args, kw_only, slots, weakref_slot)\u001b[0m\n\u001b[1;32m   1058\u001b[0m \u001b[38;5;28;01mif\u001b[39;00m init:\n\u001b[1;32m   1059\u001b[0m     \u001b[38;5;66;03m# Does this class have a post-init function?\u001b[39;00m\n\u001b[1;32m   1060\u001b[0m     has_post_init \u001b[38;5;241m=\u001b[39m \u001b[38;5;28mhasattr\u001b[39m(\u001b[38;5;28mcls\u001b[39m, _POST_INIT_NAME)\n\u001b[1;32m   1062\u001b[0m     _set_new_attribute(\u001b[38;5;28mcls\u001b[39m, \u001b[38;5;124m'\u001b[39m\u001b[38;5;124m__init__\u001b[39m\u001b[38;5;124m'\u001b[39m,\n\u001b[0;32m-> 1063\u001b[0m                        \u001b[43m_init_fn\u001b[49m\u001b[43m(\u001b[49m\u001b[43mall_init_fields\u001b[49m\u001b[43m,\u001b[49m\n\u001b[1;32m   1064\u001b[0m \u001b[43m                                \u001b[49m\u001b[43mstd_init_fields\u001b[49m\u001b[43m,\u001b[49m\n\u001b[1;32m   1065\u001b[0m \u001b[43m                                \u001b[49m\u001b[43mkw_only_init_fields\u001b[49m\u001b[43m,\u001b[49m\n\u001b[1;32m   1066\u001b[0m \u001b[43m                                \u001b[49m\u001b[43mfrozen\u001b[49m\u001b[43m,\u001b[49m\n\u001b[1;32m   1067\u001b[0m \u001b[43m                                \u001b[49m\u001b[43mhas_post_init\u001b[49m\u001b[43m,\u001b[49m\n\u001b[1;32m   1068\u001b[0m \u001b[43m                                \u001b[49m\u001b[38;5;66;43;03m# The name to use for the \"self\"\u001b[39;49;00m\n\u001b[1;32m   1069\u001b[0m \u001b[43m                                \u001b[49m\u001b[38;5;66;43;03m# param in __init__.  Use \"self\"\u001b[39;49;00m\n\u001b[1;32m   1070\u001b[0m \u001b[43m                                \u001b[49m\u001b[38;5;66;43;03m# if possible.\u001b[39;49;00m\n\u001b[1;32m   1071\u001b[0m \u001b[43m                                \u001b[49m\u001b[38;5;124;43m'\u001b[39;49m\u001b[38;5;124;43m__dataclass_self__\u001b[39;49m\u001b[38;5;124;43m'\u001b[39;49m\u001b[43m \u001b[49m\u001b[38;5;28;43;01mif\u001b[39;49;00m\u001b[43m \u001b[49m\u001b[38;5;124;43m'\u001b[39;49m\u001b[38;5;124;43mself\u001b[39;49m\u001b[38;5;124;43m'\u001b[39;49m\u001b[43m \u001b[49m\u001b[38;5;129;43;01min\u001b[39;49;00m\u001b[43m \u001b[49m\u001b[43mfields\u001b[49m\n\u001b[1;32m   1072\u001b[0m \u001b[43m                                        \u001b[49m\u001b[38;5;28;43;01melse\u001b[39;49;00m\u001b[43m \u001b[49m\u001b[38;5;124;43m'\u001b[39;49m\u001b[38;5;124;43mself\u001b[39;49m\u001b[38;5;124;43m'\u001b[39;49m\u001b[43m,\u001b[49m\n\u001b[1;32m   1073\u001b[0m \u001b[43m                                \u001b[49m\u001b[38;5;28;43mglobals\u001b[39;49m\u001b[43m,\u001b[49m\n\u001b[1;32m   1074\u001b[0m \u001b[43m                                \u001b[49m\u001b[43mslots\u001b[49m\u001b[43m,\u001b[49m\n\u001b[1;32m   1075\u001b[0m \u001b[43m                      \u001b[49m\u001b[43m)\u001b[49m)\n\u001b[1;32m   1077\u001b[0m \u001b[38;5;66;03m# Get the fields as a list, and include only real fields.  This is\u001b[39;00m\n\u001b[1;32m   1078\u001b[0m \u001b[38;5;66;03m# used in all of the following methods.\u001b[39;00m\n\u001b[1;32m   1079\u001b[0m field_list \u001b[38;5;241m=\u001b[39m [f \u001b[38;5;28;01mfor\u001b[39;00m f \u001b[38;5;129;01min\u001b[39;00m fields\u001b[38;5;241m.\u001b[39mvalues() \u001b[38;5;28;01mif\u001b[39;00m f\u001b[38;5;241m.\u001b[39m_field_type \u001b[38;5;129;01mis\u001b[39;00m _FIELD]\n",
      "File \u001b[0;32m/Library/Frameworks/Python.framework/Versions/3.12/lib/python3.12/dataclasses.py:585\u001b[0m, in \u001b[0;36m_init_fn\u001b[0;34m(fields, std_fields, kw_only_fields, frozen, has_post_init, self_name, globals, slots)\u001b[0m\n\u001b[1;32m    583\u001b[0m             seen_default \u001b[38;5;241m=\u001b[39m \u001b[38;5;28;01mTrue\u001b[39;00m\n\u001b[1;32m    584\u001b[0m         \u001b[38;5;28;01melif\u001b[39;00m seen_default:\n\u001b[0;32m--> 585\u001b[0m             \u001b[38;5;28;01mraise\u001b[39;00m \u001b[38;5;167;01mTypeError\u001b[39;00m(\u001b[38;5;124mf\u001b[39m\u001b[38;5;124m'\u001b[39m\u001b[38;5;124mnon-default argument \u001b[39m\u001b[38;5;132;01m{\u001b[39;00mf\u001b[38;5;241m.\u001b[39mname\u001b[38;5;132;01m!r}\u001b[39;00m\u001b[38;5;124m \u001b[39m\u001b[38;5;124m'\u001b[39m\n\u001b[1;32m    586\u001b[0m                             \u001b[38;5;124m'\u001b[39m\u001b[38;5;124mfollows default argument\u001b[39m\u001b[38;5;124m'\u001b[39m)\n\u001b[1;32m    588\u001b[0m \u001b[38;5;28mlocals\u001b[39m \u001b[38;5;241m=\u001b[39m {\u001b[38;5;124mf\u001b[39m\u001b[38;5;124m'\u001b[39m\u001b[38;5;124m__dataclass_type_\u001b[39m\u001b[38;5;132;01m{\u001b[39;00mf\u001b[38;5;241m.\u001b[39mname\u001b[38;5;132;01m}\u001b[39;00m\u001b[38;5;124m__\u001b[39m\u001b[38;5;124m'\u001b[39m: f\u001b[38;5;241m.\u001b[39mtype \u001b[38;5;28;01mfor\u001b[39;00m f \u001b[38;5;129;01min\u001b[39;00m fields}\n\u001b[1;32m    589\u001b[0m \u001b[38;5;28mlocals\u001b[39m\u001b[38;5;241m.\u001b[39mupdate({\n\u001b[1;32m    590\u001b[0m     \u001b[38;5;124m'\u001b[39m\u001b[38;5;124m__dataclass_HAS_DEFAULT_FACTORY__\u001b[39m\u001b[38;5;124m'\u001b[39m: _HAS_DEFAULT_FACTORY,\n\u001b[1;32m    591\u001b[0m     \u001b[38;5;124m'\u001b[39m\u001b[38;5;124m__dataclass_builtins_object__\u001b[39m\u001b[38;5;124m'\u001b[39m: \u001b[38;5;28mobject\u001b[39m,\n\u001b[1;32m    592\u001b[0m })\n",
      "\u001b[0;31mTypeError\u001b[0m: non-default argument 'price' follows default argument"
     ]
    }
   ],
   "source": [
    "# Python Object Oriented Programming by Joe Marini course example\n",
    "# implementing default values in data classes\n",
    "\n",
    "from dataclasses import dataclass\n",
    "\n",
    "\n",
    "@dataclass\n",
    "class Book:\n",
    "    # you can define default values when attributes are declared\n",
    "    title: str = \"No Title\"\n",
    "    author: str = \"No Author\"\n",
    "    pages: int = 0\n",
    "    price: float\n",
    "\n",
    "b1=Book\n",
    "print(b1)\n"
   ]
  },
  {
   "cell_type": "code",
   "execution_count": 116,
   "id": "85fb2f22-8c66-4db6-a20d-b74160a5cf64",
   "metadata": {},
   "outputs": [],
   "source": [
    "# Python Object Oriented Programming by Joe Marini course example\n",
    "# implementing default values in data classes\n",
    "\n",
    "from dataclasses import dataclass,field\n",
    "\n",
    "\n",
    "@dataclass\n",
    "class Book:\n",
    "    # you can define default values when attributes are declared\n",
    "    title: str = \"No Title\"\n",
    "    author: str = \"No Author\"\n",
    "    pages: int = 0\n",
    "    price: float = field(default=10.0)\n"
   ]
  },
  {
   "cell_type": "code",
   "execution_count": 117,
   "id": "488b87e4-c008-4457-aa87-9cbd0ca92ba4",
   "metadata": {},
   "outputs": [
    {
     "name": "stdout",
     "output_type": "stream",
     "text": [
      "Book(title='War and Peace', author='Leo Tolstoy', pages=1225, price=10.0)\n",
      "Book(title='The Catcher in the Rye', author='JD Salinger', pages=234, price=10.0)\n"
     ]
    }
   ],
   "source": [
    "\n",
    "b2 = Book(\"War and Peace\",\"Leo Tolstoy\",1225)\n",
    "b3 = Book(\"The Catcher in the Rye\",\"JD Salinger\",234)\n",
    "print(b2)\n",
    "print(b3)"
   ]
  },
  {
   "cell_type": "code",
   "execution_count": 118,
   "id": "3bf51508-39be-4864-aa94-b2321b8693c4",
   "metadata": {},
   "outputs": [
    {
     "name": "stdout",
     "output_type": "stream",
     "text": [
      "<class '__main__.Book'>\n",
      "Book(title='War and Peace', author='Leo Tolstoy', pages=1225, price=39.0)\n",
      "Book(title='The Catcher in the Rye', author='JD Salinger', pages=234, price=27.0)\n"
     ]
    }
   ],
   "source": [
    "# Python Object Oriented Programming by Joe Marini course example\n",
    "# implementing default values in data classes\n",
    "\n",
    "from dataclasses import dataclass,field\n",
    "import random\n",
    "def price_func():\n",
    "    return float(random.randrange(20,40))\n",
    "\n",
    "@dataclass\n",
    "class Book:\n",
    "    # you can define default values when attributes are declared\n",
    "    title: str = \"No Title\"\n",
    "    author: str = \"No Author\"\n",
    "    pages: int = 0\n",
    "    price: float = field(default_factory=price_func)\n",
    "\n",
    "b1=Book\n",
    "print(b1)\n",
    "\n",
    "b2 = Book(\"War and Peace\",\"Leo Tolstoy\",1225)\n",
    "b3 = Book(\"The Catcher in the Rye\",\"JD Salinger\",234)\n",
    "print(b2)\n",
    "print(b3)"
   ]
  },
  {
   "cell_type": "code",
   "execution_count": 119,
   "id": "354345d3-8d6b-4db5-9eea-9d71a74eaa72",
   "metadata": {},
   "outputs": [
    {
     "name": "stdout",
     "output_type": "stream",
     "text": [
      "Value 1 0\n"
     ]
    }
   ],
   "source": [
    "# Python Object Oriented Programming by Joe Marini course example\n",
    "# Creating immutable data classes\n",
    "\n",
    "from dataclasses import dataclass\n",
    "\n",
    "\n",
    "@dataclass()  # TODO: \"The \"frozen\" parameter makes the class immutable\n",
    "class ImmutableClass:\n",
    "    value1: str = \"Value 1\"\n",
    "    value2: int = 0\n",
    "\n",
    "\n",
    "obj = ImmutableClass()\n",
    "print(obj.value1, obj.value2)\n"
   ]
  },
  {
   "cell_type": "code",
   "execution_count": 121,
   "id": "6b0172f7-c332-4841-81c5-399d9bc906bb",
   "metadata": {},
   "outputs": [
    {
     "ename": "FrozenInstanceError",
     "evalue": "cannot assign to field 'value'",
     "output_type": "error",
     "traceback": [
      "\u001b[0;31m---------------------------------------------------------------------------\u001b[0m",
      "\u001b[0;31mFrozenInstanceError\u001b[0m                       Traceback (most recent call last)",
      "Cell \u001b[0;32mIn[121], line 13\u001b[0m\n\u001b[1;32m     10\u001b[0m     value2: \u001b[38;5;28mint\u001b[39m \u001b[38;5;241m=\u001b[39m \u001b[38;5;241m0\u001b[39m\n\u001b[1;32m     12\u001b[0m \u001b[38;5;66;03m# TODO: attempting to change the value of an immutable class throws an exception\u001b[39;00m\n\u001b[0;32m---> 13\u001b[0m \u001b[43mobj\u001b[49m\u001b[38;5;241;43m.\u001b[39;49m\u001b[43mvalue\u001b[49m \u001b[38;5;241m=\u001b[39m \u001b[38;5;124m\"\u001b[39m\u001b[38;5;124mAnother String\u001b[39m\u001b[38;5;124m\"\u001b[39m\n\u001b[1;32m     14\u001b[0m \u001b[38;5;28mprint\u001b[39m(obj\u001b[38;5;241m.\u001b[39mvalue1)\n",
      "File \u001b[0;32m<string>:4\u001b[0m, in \u001b[0;36m__setattr__\u001b[0;34m(self, name, value)\u001b[0m\n",
      "\u001b[0;31mFrozenInstanceError\u001b[0m: cannot assign to field 'value'"
     ]
    }
   ],
   "source": [
    "# Python Object Oriented Programming by Joe Marini course example\n",
    "# Creating immutable data classes\n",
    "\n",
    "from dataclasses import dataclass\n",
    "\n",
    "\n",
    "@dataclass(frozen = True)  # TODO: \"The \"frozen\" parameter makes the class immutable\n",
    "class ImmutableClass:\n",
    "    value1: str = \"Value 1\"\n",
    "    value2: int = 0\n",
    "    \n",
    "# TODO: attempting to change the value of an immutable class throws an exception\n",
    "obj.value = \"Another String\"\n",
    "print(obj.value1)"
   ]
  },
  {
   "cell_type": "code",
   "execution_count": 122,
   "id": "8512bdc7-e40a-4161-a533-2bd0eaf788f4",
   "metadata": {},
   "outputs": [
    {
     "ename": "AttributeError",
     "evalue": "'ImmutableClass' object has no attribute 'somefunc'",
     "output_type": "error",
     "traceback": [
      "\u001b[0;31m---------------------------------------------------------------------------\u001b[0m",
      "\u001b[0;31mAttributeError\u001b[0m                            Traceback (most recent call last)",
      "Cell \u001b[0;32mIn[122], line 15\u001b[0m\n\u001b[1;32m     12\u001b[0m         \u001b[38;5;28mself\u001b[39m\u001b[38;5;241m.\u001b[39mvalue2\u001b[38;5;241m=\u001b[39mnewval\n\u001b[1;32m     14\u001b[0m \u001b[38;5;66;03m# TODO: even functions within the class can't change anything\u001b[39;00m\n\u001b[0;32m---> 15\u001b[0m \u001b[43mobj\u001b[49m\u001b[38;5;241;43m.\u001b[39;49m\u001b[43msomefunc\u001b[49m(\u001b[38;5;241m20\u001b[39m)\n",
      "\u001b[0;31mAttributeError\u001b[0m: 'ImmutableClass' object has no attribute 'somefunc'"
     ]
    }
   ],
   "source": [
    "# Python Object Oriented Programming by Joe Marini course example\n",
    "# Creating immutable data classes\n",
    "\n",
    "from dataclasses import dataclass\n",
    "\n",
    "\n",
    "@dataclass(frozen = True)  # TODO: \"The \"frozen\" parameter makes the class immutable\n",
    "class ImmutableClass:\n",
    "    value1: str = \"Value 1\"\n",
    "    value2: int = 0\n",
    "    def somefunc(self,newval):\n",
    "        self.value2=newval\n",
    "\n",
    "# TODO: even functions within the class can't change anything\n",
    "obj.somefunc(20)"
   ]
  },
  {
   "cell_type": "code",
   "execution_count": 123,
   "id": "320fe74d-70c0-4eab-915a-65d733f9a3cb",
   "metadata": {},
   "outputs": [
    {
     "name": "stdout",
     "output_type": "stream",
     "text": [
      "Another String 20\n"
     ]
    }
   ],
   "source": [
    "# Python Object Oriented Programming by Joe Marini course example\n",
    "# Creating immutable data classes\n",
    "\n",
    "from dataclasses import dataclass\n",
    "\n",
    "\n",
    "@dataclass(frozen = True)  # TODO: \"The \"frozen\" parameter makes the class immutable\n",
    "class ImmutableClass:\n",
    "    value1: str = \"Value 1\"\n",
    "    value2: int = 0\n",
    "    def somefunc(self,newval):\n",
    "        self.value2=newval\n",
    "\n",
    "obj = ImmutableClass(\"Another String\",20)\n",
    "print(obj.value1, obj.value2)\n"
   ]
  },
  {
   "cell_type": "markdown",
   "id": "782c0a5c-9c88-4d53-b396-9f8e52dc5bd1",
   "metadata": {},
   "source": [
    "## Problem Solving"
   ]
  },
  {
   "cell_type": "code",
   "execution_count": 124,
   "id": "744729bc-8e54-40b0-ba3d-a0e2f125d2ea",
   "metadata": {},
   "outputs": [
    {
     "name": "stdout",
     "output_type": "stream",
     "text": [
      "Can't instantiate Asset!\n",
      "Stock(price='AMZN', ticker=120.0, company='Amazon Inc')\n",
      "Stock(price='GOOG', ticker=135.0, company='Google Inc')\n",
      "Stock(price='META', ticker=275.0, company='Meta Platforms Inc')\n",
      "Stock(price='MSFT', ticker=342.0, company='Microsoft Corp')\n",
      "-----------\n",
      "Bond(price=96.7, description='10 Year US Treasury', duration=10, yieldamt=4.28)\n",
      "Bond(price=95.31, description='30 Year US Treasury', duration=30, yieldamt=4.38)\n",
      "Bond(price=98.65, description='5 Year US Treasury', duration=5, yieldamt=4.43)\n",
      "Bond(price=99.57, description='2 Year US Treasury', duration=2, yieldamt=4.98)\n"
     ]
    }
   ],
   "source": [
    "# Python Object Oriented Programming by Joe Marini course example\n",
    "# Programming challenge: implement a dataclass\n",
    "\n",
    "from dataclasses import dataclass\n",
    "from abc import ABC, abstractmethod\n",
    "\n",
    "@dataclass\n",
    "class Asset(ABC):\n",
    "    price: float\n",
    "\n",
    "    @abstractmethod\n",
    "    def __lt__(self, other):\n",
    "       pass\n",
    "    \n",
    "\n",
    "@dataclass\n",
    "class Stock(Asset):\n",
    "    ticker: str\n",
    "    company: str\n",
    "\n",
    "    def __lt__(self, other):\n",
    "        return self.price < other.price\n",
    "\n",
    "@dataclass\n",
    "class Bond(Asset):\n",
    "    description: str\n",
    "    duration: int\n",
    "    yieldamt: float\n",
    "\n",
    "    def __lt__(self, other):\n",
    "        return self.yieldamt < other.yieldamt\n",
    "\n",
    "\n",
    "# ~~~~~~~~~ TEST CODE ~~~~~~~~~\n",
    "stocks = [\n",
    "    Stock(\"MSFT\", 342.0, \"Microsoft Corp\"),\n",
    "    Stock(\"GOOG\", 135.0, \"Google Inc\"),\n",
    "    Stock(\"META\", 275.0, \"Meta Platforms Inc\"),\n",
    "    Stock(\"AMZN\", 120.0, \"Amazon Inc\")\n",
    "]\n",
    "\n",
    "bonds = [\n",
    "    Bond(95.31, \"30 Year US Treasury\", 30, 4.38),\n",
    "    Bond(96.70, \"10 Year US Treasury\", 10, 4.28),\n",
    "    Bond(98.65, \"5 Year US Treasury\", 5, 4.43),\n",
    "    Bond(99.57, \"2 Year US Treasury\", 2, 4.98)\n",
    "]\n",
    "\n",
    "try:\n",
    "   ast = Asset(100.0)\n",
    "except:\n",
    "   print(\"Can't instantiate Asset!\")\n",
    "\n",
    "stocks.sort()\n",
    "bonds.sort()\n",
    "\n",
    "for stock in stocks:\n",
    "    print(stock)\n",
    "print(\"-----------\")\n",
    "for bond in bonds:\n",
    "    print(bond)\n"
   ]
  },
  {
   "cell_type": "code",
   "execution_count": null,
   "id": "0cca687c-844c-4189-8449-1916a6689010",
   "metadata": {},
   "outputs": [],
   "source": []
  }
 ],
 "metadata": {
  "kernelspec": {
   "display_name": "Python 3 (ipykernel)",
   "language": "python",
   "name": "python3"
  },
  "language_info": {
   "codemirror_mode": {
    "name": "ipython",
    "version": 3
   },
   "file_extension": ".py",
   "mimetype": "text/x-python",
   "name": "python",
   "nbconvert_exporter": "python",
   "pygments_lexer": "ipython3",
   "version": "3.12.4"
  }
 },
 "nbformat": 4,
 "nbformat_minor": 5
}
