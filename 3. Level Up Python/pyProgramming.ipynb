{
 "cells": [
  {
   "cell_type": "markdown",
   "id": "bc11e4f6-89e6-4519-8c65-62a54dbb981b",
   "metadata": {},
   "source": [
    "## Find Prime Factors"
   ]
  },
  {
   "cell_type": "code",
   "execution_count": 4,
   "id": "c84930a4-2928-477e-a1a1-f232f2679318",
   "metadata": {},
   "outputs": [
    {
     "name": "stdout",
     "output_type": "stream",
     "text": [
      "[2, 3, 3, 5, 7]\n"
     ]
    }
   ],
   "source": [
    "def pf(num):\n",
    "    lst=[]\n",
    "    for i in range(2,num+1):\n",
    "        while (num%i)==0:\n",
    "            lst.append(i)\n",
    "            num=num//i\n",
    "    return lst\n",
    "print(pf(630))"
   ]
  },
  {
   "cell_type": "markdown",
   "id": "b7b51705-37f4-4fb9-ae5c-c3048ff629ac",
   "metadata": {},
   "source": [
    "## Identify a palindrome"
   ]
  },
  {
   "cell_type": "code",
   "execution_count": 8,
   "id": "f309436f-094a-446a-a27b-b4da036c27e7",
   "metadata": {},
   "outputs": [
    {
     "name": "stdout",
     "output_type": "stream",
     "text": [
      "True\n"
     ]
    }
   ],
   "source": [
    "def checkPalindrome(s):\n",
    "    s=s.lower()\n",
    "    lst=[]\n",
    "    for i in s:\n",
    "        if i.isalpha():\n",
    "            lst.append(i)\n",
    "    return lst[::] == lst [::-1]\n",
    "\n",
    "print(checkPalindrome(\"Go hang a salami, I'm a lasagna hog.\"))\n"
   ]
  },
  {
   "cell_type": "markdown",
   "id": "23138b9e-f197-46ad-b4db-32ca903819ab",
   "metadata": {},
   "source": [
    "## Sort a String"
   ]
  },
  {
   "cell_type": "code",
   "execution_count": 13,
   "id": "bff000e1-4ace-48f7-8cf0-dae7ad581c4c",
   "metadata": {},
   "outputs": [
    {
     "name": "stdout",
     "output_type": "stream",
     "text": [
      "apple banana Orange \n"
     ]
    }
   ],
   "source": [
    "def sortString(s):\n",
    "    dict={}\n",
    "    for i in s.split():\n",
    "        dict.update({i.upper():i})\n",
    "    s=\"\"\n",
    "    for i in {i:dict[i] for i in sorted(dict)}.values():\n",
    "       s = s + i + \" \"\n",
    "    return s\n",
    "\n",
    "print(sortString(\"apple Orange banana\"))"
   ]
  },
  {
   "cell_type": "markdown",
   "id": "924b6905-6e31-4b14-b190-c72ef37b398c",
   "metadata": {},
   "source": [
    "## Find all List Items"
   ]
  },
  {
   "cell_type": "code",
   "execution_count": 14,
   "id": "d589a1a6-6669-4429-b2b8-efa20785b4c8",
   "metadata": {},
   "outputs": [
    {
     "name": "stdout",
     "output_type": "stream",
     "text": [
      "[[0, 0, 1], [0, 1], [1, 1]]\n"
     ]
    }
   ],
   "source": [
    "# This is the given solution\n",
    "def index_all(search_list, item):\n",
    "    index_list = []\n",
    "    for index, value in enumerate(search_list):\n",
    "        if value == item:\n",
    "            index_list.append([index])\n",
    "        elif isinstance(search_list[index], list):\n",
    "            for i in index_all(search_list[index], item):\n",
    "                index_list.append([index] + i)\n",
    "    return index_list\n",
    "example = [[[1, 2, 3], 2, [1, 3]], [1, 2, 3]]\n",
    "print(index_all(example, 2))"
   ]
  },
  {
   "cell_type": "markdown",
   "id": "4be5b30f-2214-4838-8461-c9147acafd43",
   "metadata": {},
   "source": [
    "## Play the Waiting Game"
   ]
  },
  {
   "cell_type": "code",
   "execution_count": 18,
   "id": "03b9dc9c-22ef-48a9-92f7-a423f9e9fcfc",
   "metadata": {},
   "outputs": [
    {
     "name": "stdout",
     "output_type": "stream",
     "text": [
      "\n",
      "Your target time is 4 seconds\n"
     ]
    },
    {
     "name": "stdin",
     "output_type": "stream",
     "text": [
      " ---Press Enter to Begin---  \n",
      "\n",
      "...Press Enter again after 4 seconds... \n"
     ]
    },
    {
     "name": "stdout",
     "output_type": "stream",
     "text": [
      "\n",
      "Elapsed time: 4.496 seconds\n",
      "(0.496 seconds too slow)\n"
     ]
    }
   ],
   "source": [
    "# This is the given solution\n",
    "import time\n",
    "import random\n",
    "\n",
    "def waiting_game():\n",
    "    target = random.randint(2, 4)  # target seconds to wait\n",
    "    print(f'\\nYour target time is {target} seconds')\n",
    "\n",
    "    input(' ---Press Enter to Begin--- ')\n",
    "    start = time.perf_counter()\n",
    "\n",
    "    input(f'\\n...Press Enter again after {target} seconds...')\n",
    "    elapsed = time.perf_counter() - start\n",
    "\n",
    "    print(f'\\nElapsed time: {elapsed :.3f} seconds')\n",
    "    if elapsed == target:\n",
    "        print('(Unbelievable! Perfect timing!)')\n",
    "    elif elapsed < target:\n",
    "        print(f'({target - elapsed :.3f} seconds too fast)')\n",
    "    else:\n",
    "        print(f'({elapsed - target :.3f} seconds too slow)')\n",
    "waiting_game()"
   ]
  },
  {
   "cell_type": "markdown",
   "id": "dddf1ef8-4e3d-40f7-a26e-f0a49543843a",
   "metadata": {},
   "source": [
    "## Save a Dictionary"
   ]
  },
  {
   "cell_type": "code",
   "execution_count": 25,
   "id": "bee015a8-53d1-4704-a36a-aeea7f8ab1e0",
   "metadata": {},
   "outputs": [],
   "source": [
    "import json\n",
    "\n",
    "def saveDict(dictionary, filePath):\n",
    "    with open(filePath, 'w') as f:\n",
    "        json.dump(dictionary, f)\n",
    "        \n",
    "def loadDict(filePath):\n",
    "    with open(filePath, 'r') as f:\n",
    "        return json.load(f)\n",
    "      "
   ]
  },
  {
   "cell_type": "markdown",
   "id": "0f21f0b4-f5a9-4887-ac02-1dc36e77599a",
   "metadata": {},
   "source": [
    "## Scheadule a Function"
   ]
  },
  {
   "cell_type": "code",
   "execution_count": 28,
   "id": "92c3b4c4-0bf9-4f5d-807d-665ba7a77a6b",
   "metadata": {},
   "outputs": [
    {
     "name": "stdout",
     "output_type": "stream",
     "text": [
      "print() scheduled for Fri Jul  5 13:36:46 2024\n",
      "Howdy!\n",
      "print() scheduled for Fri Jul  5 13:36:47 2024\n",
      "Howdy! How are you?\n"
     ]
    }
   ],
   "source": [
    "# This is the given Solution\n",
    "import sched\n",
    "import time\n",
    "\n",
    "def schedule_function(event_time, function, *args):\n",
    "    s = sched.scheduler(time.time, time.sleep)\n",
    "    s.enterabs(event_time, 1, function, argument=args)\n",
    "    print(f'{function.__name__}() scheduled for {time.asctime(time.localtime(event_time))}')\n",
    "    s.run()\n",
    "\n",
    "# commands used in solution video for reference\n",
    "if __name__ == '__main__':\n",
    "    schedule_function(time.time() + 1, print, 'Howdy!')\n",
    "    schedule_function(time.time() + 1, print, 'Howdy!', 'How are you?')\n"
   ]
  },
  {
   "cell_type": "markdown",
   "id": "ed6bac0c-659d-42b0-a4f0-75c77a0b09f9",
   "metadata": {},
   "source": [
    "## Send an Email"
   ]
  },
  {
   "cell_type": "code",
   "execution_count": 31,
   "id": "caaf2831-0162-4b37-a98f-8a7dbcaf1395",
   "metadata": {},
   "outputs": [],
   "source": [
    "# This is the given Solution\n",
    "import smtplib\n",
    "\n",
    "SENDER_EMAIL = 'YOUR_EMAIL@EMAIL.COM'  # replace with your email address\n",
    "SENDER_PASSWORD = 'YOUR_PASSWORD'  # replace with your email password\n",
    "\n",
    "def send_email(receiver_email, subject, body):\n",
    "    message = f'Subject: {subject}\\n\\n{body}'\n",
    "    with smtplib.SMTP('smtp.office365.com', 587) as server:\n",
    "        server.starttls()\n",
    "        server.login(SENDER_EMAIL, SENDER_PASSWORD)\n",
    "        server.sendmail(SENDER_EMAIL, receiver_email, message)\n"
   ]
  },
  {
   "cell_type": "markdown",
   "id": "e10929f1-e913-43e5-9bbd-8a08c6c6963b",
   "metadata": {},
   "source": [
    "## Simulate Dice"
   ]
  },
  {
   "cell_type": "code",
   "execution_count": 37,
   "id": "5f9ee03f-2494-4692-80cc-2c3c370c2e88",
   "metadata": {},
   "outputs": [
    {
     "name": "stdout",
     "output_type": "stream",
     "text": [
      "\n",
      "OUTCOME\tPROBABILITY\n",
      "3\t0.69%\n",
      "4\t2.09%\n",
      "5\t4.18%\n",
      "6\t6.96%\n",
      "7\t9.73%\n",
      "8\t12.49%\n",
      "9\t13.89%\n",
      "10\t13.85%\n",
      "11\t12.53%\n",
      "12\t9.68%\n",
      "13\t6.95%\n",
      "14\t4.16%\n",
      "15\t2.10%\n",
      "16\t0.71%\n",
      "\n",
      "OUTCOME\tPROBABILITY\n",
      "4\t0.03%\n",
      "5\t0.14%\n",
      "6\t0.35%\n",
      "7\t0.70%\n",
      "8\t1.17%\n",
      "9\t1.82%\n",
      "10\t2.48%\n",
      "11\t3.21%\n",
      "12\t3.80%\n",
      "13\t4.31%\n",
      "14\t4.64%\n",
      "15\t4.85%\n",
      "16\t4.96%\n",
      "17\t4.99%\n",
      "18\t5.01%\n",
      "19\t4.99%\n",
      "20\t5.01%\n",
      "21\t4.97%\n",
      "22\t5.02%\n",
      "23\t5.00%\n",
      "24\t4.96%\n",
      "25\t4.88%\n",
      "26\t4.67%\n",
      "27\t4.29%\n",
      "28\t3.85%\n",
      "29\t3.19%\n",
      "30\t2.49%\n",
      "31\t1.80%\n",
      "32\t1.18%\n",
      "33\t0.68%\n",
      "34\t0.35%\n",
      "35\t0.14%\n",
      "36\t0.04%\n"
     ]
    }
   ],
   "source": [
    "from random import randint\n",
    "from collections import Counter\n",
    "\n",
    "def roll_dice(*dice, num_trials=1_000_000):\n",
    "    counts = Counter()\n",
    "    for _ in range(num_trials):\n",
    "        counts[sum((randint(1, sides) for sides in dice))] += 1\n",
    "\n",
    "    print('\\nOUTCOME\\tPROBABILITY')\n",
    "    for outcome in range(len(dice), sum(dice) + 1):\n",
    "        print(f'{outcome}\\t{counts[outcome] * 100 / num_trials :0.2f}%')\n",
    "\n",
    "\n",
    "# commands used in solution video for reference\n",
    "if __name__ == '__main__':\n",
    "    roll_dice(4, 6, 6)\n",
    "    roll_dice(4, 6, 6, 20)\n"
   ]
  },
  {
   "cell_type": "markdown",
   "id": "7eec5147-2674-46c2-aa84-c6f0826348d6",
   "metadata": {},
   "source": [
    "## Count unique Words"
   ]
  },
  {
   "cell_type": "code",
   "execution_count": 39,
   "id": "d694fb72-6b8e-4540-9a8b-6a0083ecaadd",
   "metadata": {},
   "outputs": [],
   "source": [
    "# This is the given Solution\n",
    "import re\n",
    "import collections\n",
    "\n",
    "\n",
    "def count_words(path):\n",
    "    with open(path, 'r', encoding='utf-8') as file:\n",
    "        all_words = re.findall(r\"[0-9a-zA-Z-']+\", file.read())\n",
    "        all_words = [word.upper() for word in all_words]\n",
    "        print(f'\\nTotal Words: {len(all_words)}')\n",
    "\n",
    "        word_counts = collections.Counter(all_words)\n",
    "\n",
    "        print('\\nTop 20 Words:')\n",
    "        for word in word_counts.most_common(20):\n",
    "            print(f'{word[0]}\\t{word[1]}')\n"
   ]
  },
  {
   "cell_type": "markdown",
   "id": "3945dc2b-a480-423b-b724-866e96b2de44",
   "metadata": {},
   "source": [
    "## Generate a Password"
   ]
  },
  {
   "cell_type": "code",
   "execution_count": 42,
   "id": "2effbec8-592d-4e31-9474-1623d6c38b3e",
   "metadata": {},
   "outputs": [],
   "source": [
    "#This is the given Solution\n",
    "import secrets\n",
    "\n",
    "def generate_passphrase(num_words, wordlist_path='diceware.wordlist.asc'):\n",
    "    with open(wordlist_path, 'r', encoding='utf-8') as file:\n",
    "        lines = file.readlines()[2:7778]\n",
    "        word_list = [line.split()[1] for line in lines]\n",
    "\n",
    "    words = [secrets.choice(word_list) for i in range(num_words)]\n",
    "    return ' '.join(words)\n"
   ]
  },
  {
   "cell_type": "markdown",
   "id": "332d5c69-f06d-429c-bbdb-c03c731c3564",
   "metadata": {},
   "source": [
    "## Merge CSV Files"
   ]
  },
  {
   "cell_type": "code",
   "execution_count": 43,
   "id": "e38769bc-850b-494f-94a6-67c086ea4354",
   "metadata": {},
   "outputs": [],
   "source": [
    "#This is the given Solution\n",
    "import csv\n",
    "\n",
    "def merge_csv(csv_list, output_path):\n",
    "    # build list with all fieldnames\n",
    "    fieldnames = []\n",
    "    for file in csv_list:\n",
    "        with open(file, 'r', encoding='utf-8') as input_csv:\n",
    "            field = csv.DictReader(input_csv).fieldnames\n",
    "            fieldnames.extend(f for f in field if f not in fieldnames)\n",
    "\n",
    "    # write data to output file based on field names\n",
    "    with open(output_path, 'w', encoding='utf-8', newline='') as output_csv:\n",
    "        writer = csv.DictWriter(output_csv, fieldnames=fieldnames)\n",
    "        writer.writeheader()\n",
    "        for file in csv_list:\n",
    "            with open(file, 'r', encoding='utf-8') as input_csv:\n",
    "                reader = csv.DictReader(input_csv)\n",
    "                for row in reader:\n",
    "                    writer.writerow(row)\n"
   ]
  },
  {
   "cell_type": "markdown",
   "id": "bd0ed09e-6b1f-4e05-b772-e68c32f00934",
   "metadata": {},
   "source": [
    "## Solve a Sudoku"
   ]
  },
  {
   "cell_type": "code",
   "execution_count": 44,
   "id": "09e7b232-c2b7-47bc-b812-a575869b8cb9",
   "metadata": {},
   "outputs": [
    {
     "name": "stdout",
     "output_type": "stream",
     "text": [
      "\n",
      " 5  3  *  |  *  7  *  |  *  *  * \n",
      " 6  *  *  |  1  9  5  |  *  *  * \n",
      " *  9  8  |  *  *  *  |  *  6  * \n",
      "---------------------------------\n",
      " 8  *  *  |  *  6  *  |  *  *  3 \n",
      " 4  *  *  |  8  *  3  |  *  *  1 \n",
      " 7  *  *  |  *  2  *  |  *  *  6 \n",
      "---------------------------------\n",
      " *  6  *  |  *  *  *  |  2  8  * \n",
      " *  *  *  |  4  1  9  |  *  *  5 \n",
      " *  *  *  |  *  8  *  |  *  7  9 \n",
      "\n",
      "\n",
      " 5  3  4  |  6  7  8  |  9  1  2 \n",
      " 6  7  2  |  1  9  5  |  3  4  8 \n",
      " 1  9  8  |  3  4  2  |  5  6  7 \n",
      "---------------------------------\n",
      " 8  5  9  |  7  6  1  |  4  2  3 \n",
      " 4  2  6  |  8  5  3  |  7  9  1 \n",
      " 7  1  3  |  9  2  4  |  8  5  6 \n",
      "---------------------------------\n",
      " 9  6  1  |  5  3  7  |  2  8  4 \n",
      " 2  8  7  |  4  1  9  |  6  3  5 \n",
      " 3  4  5  |  2  8  6  |  1  7  9 \n",
      "\n"
     ]
    }
   ],
   "source": [
    "# This is a given Solution\n",
    "from itertools import product\n",
    "\n",
    "def solve_sudoku(puzzle):\n",
    "    for (row, col) in product(range(0, 9), repeat=2):\n",
    "        if puzzle[row][col] == 0:  # find an unassigned cell\n",
    "            for num in range(1, 10):\n",
    "                allowed = True  # check if num is allowed in row/col/box\n",
    "                for i in range(0, 9):\n",
    "                    if num in (puzzle[i][col], puzzle[row][i]):\n",
    "                        allowed = False\n",
    "                        break  # not allowed in row or col\n",
    "                for (i, j) in product(range(0, 3), repeat=2):\n",
    "                    if puzzle[row - row % 3 + i][col - col % 3 + j] == num:\n",
    "                        allowed = False\n",
    "                        break  # not allowed in box\n",
    "                if allowed:\n",
    "                    puzzle[row][col] = num\n",
    "                    if trial := solve_sudoku(puzzle):\n",
    "                        return trial\n",
    "                    puzzle[row][col] = 0\n",
    "            return False  # could not place a number in this cell\n",
    "    return puzzle\n",
    "\n",
    "def print_sudoku(puzzle):\n",
    "    # replace zeroes with dashes\n",
    "    puzzle = [['*' if num == 0 else num for num in row] for row in puzzle]\n",
    "    print()\n",
    "    for row in range(0, 9):\n",
    "        if ((row % 3 == 0) and (row != 0)):\n",
    "            print('-' * 33)  # draw horizontal line\n",
    "        for col in range(0, 9):\n",
    "            if ((col % 3 == 0) and (col != 0)):\n",
    "                print(' | ', end='')  # draw vertical line\n",
    "            print(f' {puzzle[row][col]} ', end='')\n",
    "        print()\n",
    "    print()\n",
    "\n",
    "test_puzzle = [[5, 3, 0, 0, 7, 0, 0, 0, 0],\n",
    "               [6, 0, 0, 1, 9, 5, 0, 0, 0],\n",
    "               [0, 9, 8, 0, 0, 0, 0, 6, 0],\n",
    "               [8, 0, 0, 0, 6, 0, 0, 0, 3],\n",
    "               [4, 0, 0, 8, 0, 3, 0, 0, 1],\n",
    "               [7, 0, 0, 0, 2, 0, 0, 0, 6],\n",
    "               [0, 6, 0, 0, 0, 0, 2, 8, 0],\n",
    "               [0, 0, 0, 4, 1, 9, 0, 0, 5],\n",
    "               [0, 0, 0, 0, 8, 0, 0, 7, 9]]\n",
    "\n",
    "\n",
    "# commands used in solution video for reference\n",
    "if __name__ == '__main__':\n",
    "    print_sudoku(test_puzzle)\n",
    "    solution = solve_sudoku(test_puzzle)\n",
    "    print_sudoku(solution)\n"
   ]
  },
  {
   "cell_type": "markdown",
   "id": "d937f49b-b6f6-4a17-81f1-b19f0974e583",
   "metadata": {},
   "source": [
    "## Build a zip archieve"
   ]
  },
  {
   "cell_type": "code",
   "execution_count": 46,
   "id": "6e2197d8-1a25-4bee-a5f3-2abcdfdb990b",
   "metadata": {},
   "outputs": [],
   "source": [
    "# This is the given Solution\n",
    "import os\n",
    "from zipfile import ZipFile\n",
    "\n",
    "def zip_all(search_dir, extension_list, output_path):\n",
    "    with ZipFile(output_path, 'w') as output_zip:\n",
    "        for root, _, files in os.walk(search_dir):\n",
    "            rel_path = os.path.relpath(root, search_dir)\n",
    "            for file in files:\n",
    "                _, ext = os.path.splitext(file)\n",
    "                if ext.lower() in extension_list:\n",
    "                    output_zip.write(os.path.join(root, file),\n",
    "                                     arcname=os.path.join(rel_path, file))\n",
    "\n"
   ]
  },
  {
   "cell_type": "markdown",
   "id": "1f61840f-c1af-4309-961b-502515aa4e80",
   "metadata": {},
   "source": [
    "## Downlaod Sequential Files"
   ]
  },
  {
   "cell_type": "code",
   "execution_count": 48,
   "id": "0bea0873-6043-497f-8d78-65e5c1536fb0",
   "metadata": {},
   "outputs": [],
   "source": [
    "# This is the given Solution\n",
    "import os\n",
    "import re\n",
    "import urllib.parse\n",
    "import urllib.request\n",
    "\n",
    "def download_files(first_url, output_dir):\n",
    "    if not os.path.isdir(output_dir):\n",
    "        os.mkdir(output_dir)\n",
    "    url_head, url_tail = os.path.split(first_url)\n",
    "    first_index = re.findall(r'[0-9]+', url_tail)[-1]\n",
    "    index_count, error_count = 0, 0\n",
    "    while error_count < 5:\n",
    "        next_index = str(int(first_index) + index_count)\n",
    "        if first_index[0] == '0': # zero padded\n",
    "            next_index = '0' * (len(first_index) - len(next_index)) + next_index\n",
    "        next_url = urllib.parse.urljoin(url_head, re.sub(first_index, next_index, url_tail))\n",
    "        try:\n",
    "            output_file = os.path.join(output_dir, os.path.basename(next_url))\n",
    "            urllib.request.urlretrieve(next_url, output_file)\n",
    "            print(f'Successfully downloaded {os.path.basename(next_url)}')\n",
    "        except IOError:\n",
    "            print(f'Could not retrieve {next_url}')\n",
    "            error_count += 1\n",
    "        index_count += 1\n"
   ]
  }
 ],
 "metadata": {
  "kernelspec": {
   "display_name": "Python 3 (ipykernel)",
   "language": "python",
   "name": "python3"
  },
  "language_info": {
   "codemirror_mode": {
    "name": "ipython",
    "version": 3
   },
   "file_extension": ".py",
   "mimetype": "text/x-python",
   "name": "python",
   "nbconvert_exporter": "python",
   "pygments_lexer": "ipython3",
   "version": "3.12.4"
  }
 },
 "nbformat": 4,
 "nbformat_minor": 5
}
